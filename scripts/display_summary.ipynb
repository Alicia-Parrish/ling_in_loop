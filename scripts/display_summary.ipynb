{
 "cells": [
  {
   "cell_type": "markdown",
   "metadata": {},
   "source": [
    "# Import"
   ]
  },
  {
   "cell_type": "code",
   "execution_count": 1,
   "metadata": {},
   "outputs": [],
   "source": [
    "%matplotlib widget"
   ]
  },
  {
   "cell_type": "code",
   "execution_count": 2,
   "metadata": {},
   "outputs": [],
   "source": [
    "import os\n",
    "\n",
    "import pandas as pd\n",
    "import numpy as np\n",
    "\n",
    "import matplotlib.pyplot as plt"
   ]
  },
  {
   "cell_type": "markdown",
   "metadata": {},
   "source": [
    "# Define"
   ]
  },
  {
   "cell_type": "code",
   "execution_count": 3,
   "metadata": {},
   "outputs": [],
   "source": [
    "def my_plot(table, plot_args, title, xlabel='iteration', ylabel='accuracy', ylim=[0, 1]):\n",
    "    fig, ax = plt.subplots()\n",
    "    lo = ax.plot(\n",
    "        table.columns.values,\n",
    "        table.transpose(),\n",
    "        **plot_args\n",
    "    )\n",
    "    ax.legend(iter(lo), table.index.values, loc='best')\n",
    "\n",
    "    ax.set_title(title)\n",
    "    ax.set_xlabel(xlabel)\n",
    "    ax.set_ylabel(ylabel)\n",
    "    ax.set_ylim(*ylim)\n",
    "\n",
    "    plt.tight_layout()\n",
    "    return fig\n",
    "    "
   ]
  },
  {
   "cell_type": "code",
   "execution_count": 4,
   "metadata": {},
   "outputs": [],
   "source": [
    "def display_val_summary(modifier, iteration, plot_args, eval_dir, ylim=[0,1], save_plot=False, plot_type='jpg'):\n",
    "    fname = os.path.join(eval_dir, f'r{iteration}', 'tables', f'configs.{modifier}.csv')\n",
    "    summary_table = pd.read_csv(fname, index_col = 0)\n",
    "    print(summary_table)\n",
    "    fig = my_plot(summary_table, plot_args, modifier, ylim=ylim)\n",
    "    \n",
    "    if save_plot:\n",
    "        assert not plot_type is None\n",
    "        fig.savefig(os.path.join(eval_dir, f'r{iteration}', 'plots', f'configs.{modifier}.{plot_type}'))\n",
    "\n",
    "\n",
    "def display_itereval_summary(sub_keys, iteration, plot_args, eval_dir, ylim=[0,1], save_plot=False, plot_type='jpg'):\n",
    "    rep = {\n",
    "        '/': '-',\n",
    "        ';': '--',\n",
    "    }\n",
    "    \n",
    "    fname_key = '.'.join(sub_keys.values())\n",
    "    for old_char, new_char in rep.items():\n",
    "        fname_key = fname_key.replace(old_char, new_char)\n",
    "    fname = os.path.join(eval_dir, f'r{iteration}', 'tables', f'iterevals.{fname_key}.csv')\n",
    "    summary_table = pd.read_csv(fname, index_col = 0)\n",
    "    print(summary_table)\n",
    "    title = fname_key = '-'.join(sub_keys.values())\n",
    "    fig = my_plot(summary_table, plot_args, title, ylim=ylim)\n",
    "    \n",
    "    if save_plot:\n",
    "        assert not plot_type is None\n",
    "        fig.savefig(os.path.join(eval_dir, f'r{iteration}', 'plots', f'iterevals.{fname_key}.{plot_type}'))\n",
    "    "
   ]
  },
  {
   "cell_type": "markdown",
   "metadata": {},
   "source": [
    "# Summarize"
   ]
  },
  {
   "cell_type": "code",
   "execution_count": 5,
   "metadata": {},
   "outputs": [],
   "source": [
    "repo = os.path.dirname(os.path.dirname(os.path.abspath('__file__')))"
   ]
  },
  {
   "cell_type": "markdown",
   "metadata": {},
   "source": [
    "## Validation Sets"
   ]
  },
  {
   "cell_type": "code",
   "execution_count": 6,
   "metadata": {},
   "outputs": [
    {
     "name": "stdout",
     "output_type": "stream",
     "text": [
      "                 1\n",
      "baseline  0.843813\n",
      "LotS      0.823529\n",
      "LitL      0.850932\n"
     ]
    },
    {
     "data": {
      "application/vnd.jupyter.widget-view+json": {
       "model_id": "f9422b94476d4e1c9614db04749d1ba6",
       "version_major": 2,
       "version_minor": 0
      },
      "text/plain": [
       "Canvas(toolbar=Toolbar(toolitems=[('Home', 'Reset original view', 'home', 'home'), ('Back', 'Back to previous …"
      ]
     },
     "metadata": {},
     "output_type": "display_data"
    }
   ],
   "source": [
    "mod = 'standard'  # either standard or hyp\n",
    "iteration = 1\n",
    "eval_dir = os.path.join(repo, 'eval_summary')\n",
    "save_plot = False\n",
    "plot_type = 'jpg'\n",
    "\n",
    "ylim = [0,1]\n",
    "plot_args = {\n",
    "    'linestyle': '-',\n",
    "    'marker': 'o',\n",
    "}\n",
    "\n",
    "display_val_summary(mod, iteration, plot_args, eval_dir, ylim=ylim, save_plot=save_plot, plot_type=plot_type)"
   ]
  },
  {
   "cell_type": "markdown",
   "metadata": {},
   "source": [
    "## Iterevals"
   ]
  },
  {
   "cell_type": "code",
   "execution_count": 7,
   "metadata": {},
   "outputs": [],
   "source": [
    "glue_case_keys = pd.read_csv('glue_case_keys.csv', header=0, index_col=False)\n",
    "hans_case_keys = pd.read_csv('hans_case_keys.csv', header=0, index_col=False)"
   ]
  },
  {
   "cell_type": "code",
   "execution_count": 8,
   "metadata": {},
   "outputs": [
    {
     "name": "stdout",
     "output_type": "stream",
     "text": [
      "1           combined\n",
      "2       Common sense\n",
      "3    World knowledge\n",
      "Name: subcase, dtype: object\n",
      "==========================================================================================\n",
      "1                   ce_adverb\n",
      "2       ce_after_since_clause\n",
      "3              ce_conjunction\n",
      "4     ce_embedded_under_since\n",
      "5      ce_embedded_under_verb\n",
      "6                   cn_adverb\n",
      "7          cn_after_if_clause\n",
      "8              cn_disjunction\n",
      "9        cn_embedded_under_if\n",
      "10     cn_embedded_under_verb\n",
      "11                   combined\n",
      "Name: subcase, dtype: object\n"
     ]
    }
   ],
   "source": [
    "'''\n",
    "Cases for GLUE:\n",
    "    combined, Knowledge, Lexical Semantics, Logic, Predicate-Argument Structure\n",
    "\n",
    "Cases for HANS:\n",
    "    combined, constituent, lexical_overlap, subsequence\n",
    "\n",
    "'''\n",
    "\n",
    "glue_case = 'Knowledge'\n",
    "print(glue_case_keys.loc[glue_case_keys['case'] == glue_case, 'subcase'])\n",
    "print('='*90)\n",
    "\n",
    "hans_case = 'constituent'\n",
    "print(hans_case_keys.loc[hans_case_keys['case'] == hans_case, 'subcase'])"
   ]
  },
  {
   "cell_type": "code",
   "execution_count": 9,
   "metadata": {},
   "outputs": [
    {
     "name": "stdout",
     "output_type": "stream",
     "text": [
      "                 1\n",
      "baseline  0.269033\n",
      "LotS      0.222700\n",
      "LitL      0.253600\n"
     ]
    },
    {
     "data": {
      "application/vnd.jupyter.widget-view+json": {
       "model_id": "e9a93554af3244d1a62ede1bf73fb5fd",
       "version_major": 2,
       "version_minor": 0
      },
      "text/plain": [
       "Canvas(toolbar=Toolbar(toolitems=[('Home', 'Reset original view', 'home', 'home'), ('Back', 'Back to previous …"
      ]
     },
     "metadata": {},
     "output_type": "display_data"
    }
   ],
   "source": [
    "sub_keys = {\n",
    "    'dataset': 'hans',     # either hans or glue\n",
    "    'case': 'combined',    # combined or specific to respective itereval set\n",
    "    'subcase': 'combined', # combined or specific to respective itereval set\n",
    "    'label': 'combined',   # combined or [entailment, neutral, contradiction] for glue, [entailment, non-entailment] for hans\n",
    "}\n",
    "iteration = 1\n",
    "eval_dir = os.path.join(repo, 'eval_summary')\n",
    "save_plot = False\n",
    "plot_type = 'jpg'\n",
    "\n",
    "ylim = [0,1]\n",
    "plot_args = {\n",
    "    'linestyle': '-',\n",
    "    'marker': 'o',\n",
    "}\n",
    "\n",
    "display_itereval_summary(sub_keys, iteration, plot_args, eval_dir, ylim=ylim, save_plot=save_plot, plot_type=plot_type)"
   ]
  }
 ],
 "metadata": {
  "kernelspec": {
   "display_name": "DL",
   "language": "python",
   "name": "dl"
  },
  "language_info": {
   "codemirror_mode": {
    "name": "ipython",
    "version": 3
   },
   "file_extension": ".py",
   "mimetype": "text/x-python",
   "name": "python",
   "nbconvert_exporter": "python",
   "pygments_lexer": "ipython3",
   "version": "3.7.9"
  }
 },
 "nbformat": 4,
 "nbformat_minor": 4
}
