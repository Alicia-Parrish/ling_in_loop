{
 "cells": [
  {
   "cell_type": "code",
   "execution_count": 7,
   "metadata": {},
   "outputs": [],
   "source": [
    "import os\n",
    "import json\n",
    "import pandas as pd\n",
    "import numpy as np\n",
    "import torch"
   ]
  },
  {
   "cell_type": "code",
   "execution_count": 2,
   "metadata": {},
   "outputs": [],
   "source": [
    "repo = os.path.dirname(os.path.dirname(os.path.abspath('__file__')))"
   ]
  },
  {
   "cell_type": "code",
   "execution_count": 11,
   "metadata": {},
   "outputs": [],
   "source": [
    "pred_base = os.path.join(repo, 'predictions', 'roberta-large-mnli_only')\n",
    "data_base = os.path.join(repo, 'tasks', 'data')"
   ]
  },
  {
   "cell_type": "code",
   "execution_count": 15,
   "metadata": {},
   "outputs": [],
   "source": [
    "pred_dirs = [\n",
    "    'baseline_5',\n",
    "    'LotS_5',\n",
    "    'LitL_5',\n",
    "    'mnlieval_baseline_1',\n",
    "    'anlieval_baseline_1',\n",
    "    'eval_baseline_1',\n",
    "]\n",
    "\n",
    "data_dirs = [\n",
    "    os.path.join('baseline_5', 'val_round5_base_combined.jsonl'),\n",
    "    os.path.join('LotS_5', 'val_round5_LotS_combined.jsonl'),\n",
    "    os.path.join('LitL_5', 'val_round5_LitL_combined.jsonl'),\n",
    "    os.path.join('mnli_mismatched', 'val_mismatched_mnli.jsonl'),\n",
    "    os.path.join('anli_combined', 'val_anli.jsonl'),\n",
    "    os.path.join('iterative_eval', 'val_itercombined.jsonl'),\n",
    "]"
   ]
  },
  {
   "cell_type": "code",
   "execution_count": 13,
   "metadata": {},
   "outputs": [],
   "source": [
    "def read_jsonl(file):\n",
    "    with open(file, 'r') as f:\n",
    "        return [json.loads(line) for line in f.readlines()]"
   ]
  },
  {
   "cell_type": "code",
   "execution_count": 16,
   "metadata": {},
   "outputs": [],
   "source": [
    "preds_and_data = {}\n",
    "\n",
    "for pred, data in zip(pred_dirs, data_dirs):\n",
    "    temp_pred = torch.load(os.path.join(pred_base, pred, 'val_preds.p'))\n",
    "    temp_data = read_jsonl(os.path.join(data_base, data))\n",
    "    preds_and_data[pred.split('_')[0]] = {'pred': temp_pred, 'data':temp_data}"
   ]
  },
  {
   "cell_type": "code",
   "execution_count": 24,
   "metadata": {},
   "outputs": [
    {
     "name": "stdout",
     "output_type": "stream",
     "text": [
      "<class 'dict'>\n",
      "[0 0 0 ... 2 0 0]\n"
     ]
    }
   ],
   "source": [
    "print(type(preds_and_data['baseline']['pred']['mnli']))\n",
    "print(preds_and_data['baseline']['pred']['mnli']['preds'])"
   ]
  },
  {
   "cell_type": "code",
   "execution_count": 86,
   "metadata": {},
   "outputs": [],
   "source": [
    "def get_acc(\n",
    "    preds,\n",
    "    data,\n",
    "    int2pred={0:'contradiction', 1:'entailment', 2:'neutral'}\n",
    "):\n",
    "    df = pd.DataFrame(data)\n",
    "    df['preds'] = pd.Series(preds).apply(lambda x: int2pred[x])\n",
    "    df['correct'] = df['label'].eq(df['preds'])\n",
    "    return df"
   ]
  },
  {
   "cell_type": "code",
   "execution_count": 87,
   "metadata": {},
   "outputs": [],
   "source": [
    "accs = {\n",
    "    key: get_acc(val['pred']['mnli']['preds'], val['data']) for key, val in preds_and_data.items()\n",
    "}"
   ]
  },
  {
   "cell_type": "markdown",
   "metadata": {},
   "source": [
    "# Overall\n"
   ]
  },
  {
   "cell_type": "code",
   "execution_count": 94,
   "metadata": {},
   "outputs": [
    {
     "name": "stdout",
     "output_type": "stream",
     "text": [
      "baseline: 0.8781\n",
      "LotS: 0.8323\n",
      "LitL: 0.8482\n",
      "mnlieval: 0.8972\n",
      "anlieval: 0.3366\n",
      "eval: 0.6811\n"
     ]
    }
   ],
   "source": [
    "for key, acc in accs.items():\n",
    "    print(f\"{key}: {acc['correct'].sum()/acc.shape[0]:.4f}\")"
   ]
  },
  {
   "cell_type": "markdown",
   "metadata": {},
   "source": [
    "# HANS non-entailment"
   ]
  },
  {
   "cell_type": "code",
   "execution_count": 73,
   "metadata": {},
   "outputs": [],
   "source": [
    "hans = accs['eval']\n",
    "hans = hans.loc[hans['dataset'] == 'hans', :]"
   ]
  },
  {
   "cell_type": "code",
   "execution_count": 78,
   "metadata": {},
   "outputs": [
    {
     "name": "stderr",
     "output_type": "stream",
     "text": [
      "C:\\Users\\Willi\\Anaconda3\\envs\\DL\\lib\\site-packages\\ipykernel_launcher.py:2: SettingWithCopyWarning: \n",
      "A value is trying to be set on a copy of a slice from a DataFrame.\n",
      "Try using .loc[row_indexer,col_indexer] = value instead\n",
      "\n",
      "See the caveats in the documentation: https://pandas.pydata.org/pandas-docs/stable/user_guide/indexing.html#returning-a-view-versus-a-copy\n",
      "  \n",
      "C:\\Users\\Willi\\Anaconda3\\envs\\DL\\lib\\site-packages\\ipykernel_launcher.py:3: SettingWithCopyWarning: \n",
      "A value is trying to be set on a copy of a slice from a DataFrame.\n",
      "Try using .loc[row_indexer,col_indexer] = value instead\n",
      "\n",
      "See the caveats in the documentation: https://pandas.pydata.org/pandas-docs/stable/user_guide/indexing.html#returning-a-view-versus-a-copy\n",
      "  This is separate from the ipykernel package so we can avoid doing imports until\n"
     ]
    }
   ],
   "source": [
    "tempdict = {'contradiction':'contradiction', 'neutral':'contradiction', 'entailment':'entailment'}\n",
    "hans['preds'] = hans['preds'].apply(lambda x: tempdict[x])\n",
    "hans['case'] = hans['case'].apply(lambda x: x[0])\n",
    "hans['correct'] = hans['label'].eq(hans['preds'])"
   ]
  },
  {
   "cell_type": "code",
   "execution_count": 95,
   "metadata": {},
   "outputs": [
    {
     "name": "stdout",
     "output_type": "stream",
     "text": [
      "lexical_overlap non-entailment: 0.9102\n",
      "subsequence non-entailment: 0.2568\n",
      "constituent non-entailment: 0.2478\n"
     ]
    }
   ],
   "source": [
    "for case in hans['case'].unique():\n",
    "    temp = hans.loc[hans['case'] == case, :]\n",
    "    temp2 = temp.loc[temp['label'] == 'contradiction', :]\n",
    "    print(f\"{case} non-entailment: {temp2['correct'].sum()/temp2.shape[0]:.4f}\")"
   ]
  },
  {
   "cell_type": "code",
   "execution_count": null,
   "metadata": {},
   "outputs": [],
   "source": []
  }
 ],
 "metadata": {
  "kernelspec": {
   "display_name": "DL",
   "language": "python",
   "name": "dl"
  },
  "language_info": {
   "codemirror_mode": {
    "name": "ipython",
    "version": 3
   },
   "file_extension": ".py",
   "mimetype": "text/x-python",
   "name": "python",
   "nbconvert_exporter": "python",
   "pygments_lexer": "ipython3",
   "version": "3.7.9"
  }
 },
 "nbformat": 4,
 "nbformat_minor": 4
}
