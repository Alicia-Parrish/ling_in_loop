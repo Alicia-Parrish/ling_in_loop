{
 "cells": [
  {
   "cell_type": "markdown",
   "metadata": {
    "heading_collapsed": true
   },
   "source": [
    "# Import"
   ]
  },
  {
   "cell_type": "code",
   "execution_count": 2,
   "metadata": {
    "hidden": true
   },
   "outputs": [],
   "source": [
    "%matplotlib widget"
   ]
  },
  {
   "cell_type": "code",
   "execution_count": 3,
   "metadata": {
    "hidden": true
   },
   "outputs": [],
   "source": [
    "import os\n",
    "\n",
    "import pandas as pd\n",
    "import numpy as np\n",
    "import json\n",
    "import joblib\n",
    "import pickle\n",
    "import torch\n",
    "\n",
    "import matplotlib.pyplot as plt\n",
    "import matplotlib.path as pth\n",
    "import seaborn as sns\n",
    "\n",
    "from scipy.stats import ttest_ind, f_oneway\n",
    "\n",
    "import statsmodels.api as sm\n",
    "from statsmodels.formula.api import ols"
   ]
  },
  {
   "cell_type": "code",
   "execution_count": 4,
   "metadata": {
    "hidden": true
   },
   "outputs": [],
   "source": [
    "sns.set_theme(style='whitegrid')"
   ]
  },
  {
   "cell_type": "markdown",
   "metadata": {
    "heading_collapsed": true
   },
   "source": [
    "# Define"
   ]
  },
  {
   "cell_type": "code",
   "execution_count": 5,
   "metadata": {
    "hidden": true
   },
   "outputs": [],
   "source": [
    "def get_val_summary(modifier, iteration, eval_dir, ):\n",
    "    fname = os.path.join(eval_dir, f'r{iteration}', 'tables', f'configs.{modifier}.csv')\n",
    "    summary_table = pd.read_csv(fname, index_col = 0)\n",
    "    summary_table = summary_table[[str(n) for n in range(1, iteration+1)]]\n",
    "    \n",
    "    return summary_table\n",
    "\n",
    "\n",
    "def get_itereval_summary(sub_keys, iteration, eval_dir, combined, ):\n",
    "    rep = {\n",
    "        '/': '-',\n",
    "        ';': '--',\n",
    "    }\n",
    "    \n",
    "    fname_key = '.'.join(sub_keys.values())\n",
    "    for old_char, new_char in rep.items():\n",
    "        fname_key = fname_key.replace(old_char, new_char)\n",
    "    fname = os.path.join(eval_dir, f'r{iteration}', 'tables', combined, f'iterevals.{fname_key}.csv')\n",
    "    summary_table = pd.read_csv(fname, index_col = 0)\n",
    "    summary_table = summary_table[[str(n) for n in range(1, iteration+1)]]\n",
    "    \n",
    "    return summary_table\n",
    "    "
   ]
  },
  {
   "cell_type": "code",
   "execution_count": 6,
   "metadata": {
    "hidden": true
   },
   "outputs": [],
   "source": [
    "def get_mnli_tables(mnli_summary, subsetting='genre'):\n",
    "    with open(mnli_summary, 'r') as f:\n",
    "        summary = pd.DataFrame([json.loads(line) for line in f])\n",
    "    \n",
    "    mnli_tables = {}\n",
    "    for comb in summary['comb'].unique():\n",
    "        comb_sum = summary.loc[summary['comb'] == comb, :]\n",
    "\n",
    "        for subset in summary[subsetting].unique():\n",
    "            subset_sum = comb_sum.loc[comb_sum[subsetting] == subset, :]\n",
    "\n",
    "            plot_tab = []\n",
    "            for treat in subset_sum['treat'].unique():\n",
    "                treat_sum = subset_sum.loc[subset_sum['treat'] == treat, :]\n",
    "                s = treat_sum[['iter','acc']].set_index('iter').rename({'acc': treat}, axis=1).transpose()            \n",
    "                plot_tab.append(s)\n",
    "            \n",
    "            mnli_tables[(model, comb, subset)] = pd.concat(plot_tab)\n",
    "    \n",
    "    return summary, mnli_tables"
   ]
  },
  {
   "cell_type": "code",
   "execution_count": 7,
   "metadata": {
    "hidden": true
   },
   "outputs": [],
   "source": [
    "def split_run_name(run_name, split_by='_'):\n",
    "    name_list = run_name.split(split_by)\n",
    "    if len(name_list) == 2:\n",
    "        input_type = 'full'\n",
    "        comb = 'combined'\n",
    "    elif len(name_list) == 3:\n",
    "        if name_list[-1] == 'hyp':\n",
    "            input_type = name_list[-1]\n",
    "            comb = 'combined'\n",
    "        else:\n",
    "            input_type = 'full'\n",
    "            comb = name_list[-1]\n",
    "    else:\n",
    "        input_type = name_list[-1]\n",
    "        comb = name_list[-2]\n",
    "\n",
    "    return (name_list[0], name_list[1], input_type, comb)"
   ]
  },
  {
   "cell_type": "code",
   "execution_count": 8,
   "metadata": {
    "hidden": true
   },
   "outputs": [],
   "source": [
    "def unique_itereval(df, keys=['case', 'subcase', 'label', 'dataset', 'treat', 'iter', 'comb', 'sample_type', 'sample_partition']):\n",
    "#     keep = []\n",
    "#     encountered = []\n",
    "    \n",
    "#     for idx, row in df.iterrows():\n",
    "#         if row[keys].to_list() in encountered:\n",
    "#             continue\n",
    "        \n",
    "#         encountered.append(row[keys].to_list())\n",
    "#         keep.append(row)\n",
    "    return df.drop_duplicates(subset=keys, ignore_index=True)\n",
    "\n",
    "def load_sampled_results(sampled_base):\n",
    "    collected = pd.read_csv(os.path.join(sampled_base, 'collected.csv'))\n",
    "    itereval = pd.read_csv(os.path.join(sampled_base, 'itereval.csv'))\n",
    "    mnli = pd.read_csv(os.path.join(sampled_base, 'mnli.csv'))\n",
    "    anli = pd.read_csv(os.path.join(sampled_base, 'anli.csv'))\n",
    "    \n",
    "    \n",
    "    # fill in keys\n",
    "    collected['treat'] = collected['run'].apply(lambda x: split_run_name(x)[0])\n",
    "    collected['iter'] = collected['run'].apply(lambda x: int(split_run_name(x)[1]))\n",
    "    collected['mod'] = collected['run'].apply(lambda x: split_run_name(x)[2])\n",
    "    collected['combined'] = collected['run'].apply(lambda x: split_run_name(x)[3])\n",
    "    \n",
    "    \n",
    "    mnli['breakdown'] = mnli['genre'].fillna('combined')\n",
    "    anli['breakdown'] = anli['tag'].fillna('combined')\n",
    "    \n",
    "    itereval = unique_itereval(itereval)\n",
    "    \n",
    "    return collected, itereval, mnli, anli"
   ]
  },
  {
   "cell_type": "code",
   "execution_count": 9,
   "metadata": {
    "hidden": true
   },
   "outputs": [],
   "source": [
    "def load_all_sampled(sampled_base, upto=5):\n",
    "    loaded_keys = {'collected': 0, 'itereval':1 ,'mnli': 2, 'anli': 3}\n",
    "    results = {key: [] for key in loaded_keys.keys()}\n",
    "    \n",
    "    for r in range(1, upto + 1):\n",
    "        loaded = load_sampled_results(os.path.join(sampled_base, f'r{r}'))\n",
    "        for result_key, loaded_key in loaded_keys.items():\n",
    "#             if result_key == 'itereval' and r != 1:\n",
    "#                 print('skipped', result_key, r)\n",
    "#                 continue\n",
    "            results[result_key].append(loaded[loaded_key])\n",
    "    \n",
    "    return {\n",
    "        key: pd.concat(result_list, ignore_index=True)\n",
    "        for key, result_list in results.items()\n",
    "    }\n",
    "    "
   ]
  },
  {
   "cell_type": "code",
   "execution_count": 10,
   "metadata": {
    "hidden": true
   },
   "outputs": [],
   "source": [
    "def get_ttest_pvals(dist_df, verbose=True):\n",
    "    pairs = [\n",
    "        ('baseline', 'LotS'),\n",
    "        ('baseline', 'LitL'),\n",
    "        ('LotS', 'LitL'),\n",
    "    ]\n",
    "    \n",
    "    ttest_dict = {}\n",
    "    for pair in pairs:\n",
    "        a = dist_df.loc[dist_df['treat'] == pair[0], 'acc']\n",
    "        b = dist_df.loc[dist_df['treat'] == pair[1], 'acc']\n",
    "        ttest_dict[pair] = ttest_ind(a, b)\n",
    "    \n",
    "    if verbose:\n",
    "        for pair, ttest_results in ttest_dict.items():\n",
    "            print('='*45)\n",
    "            print(f\"{pair}\\nt: {ttest_results[0]:.5f} | p: {ttest_results[1]/2:.5f}\")\n",
    "    \n",
    "    return ttest_dict\n"
   ]
  },
  {
   "cell_type": "code",
   "execution_count": 11,
   "metadata": {
    "hidden": true
   },
   "outputs": [],
   "source": [
    "def two_way_anova(df, f1='iter', f2='treat', acc='acc', formula=None):\n",
    "    keeps = [f1, f2, acc]\n",
    "    \n",
    "    if not formula:\n",
    "        formula = f'{acc} ~ C({f1}) + C({f2}) + C({f1}):C({f2})'\n",
    "        \n",
    "    print(formula)\n",
    "    model = ols(formula, data=df[keeps]).fit()\n",
    "    \n",
    "    return sm.stats.anova_lm(model, typ=2)\n",
    "\n",
    "def one_way_anova(df, f='iter', acc='acc', formula=None):\n",
    "    keeps = [f, acc]\n",
    "    \n",
    "    if not formula:\n",
    "        formula = f'{acc} ~ C({f})'\n",
    "        \n",
    "    print(formula)\n",
    "    model = ols(formula, data=df[keeps]).fit()\n",
    "    \n",
    "    return sm.stats.anova_lm(model, typ=1)"
   ]
  },
  {
   "cell_type": "markdown",
   "metadata": {
    "heading_collapsed": true
   },
   "source": [
    "# Combine Plotting Data"
   ]
  },
  {
   "cell_type": "code",
   "execution_count": 12,
   "metadata": {
    "hidden": true
   },
   "outputs": [],
   "source": [
    "overwrite_plotting_data = False"
   ]
  },
  {
   "cell_type": "code",
   "execution_count": 13,
   "metadata": {
    "hidden": true
   },
   "outputs": [],
   "source": [
    "repo = os.path.dirname(os.path.dirname(os.path.abspath('__file__')))\n",
    "sample_type = 'cross_eval'\n",
    "iteration = 5\n",
    "plot_data = os.path.join(repo, 'eval_summary', 'plot_data')\n",
    "os.makedirs(plot_data, exist_ok=True)"
   ]
  },
  {
   "cell_type": "code",
   "execution_count": 14,
   "metadata": {
    "hidden": true
   },
   "outputs": [],
   "source": [
    "models = ['roberta-large', 'roberta-large-mnli']"
   ]
  },
  {
   "cell_type": "code",
   "execution_count": 15,
   "metadata": {
    "hidden": true
   },
   "outputs": [],
   "source": [
    "distributions = {}\n",
    "\n",
    "for model in models:\n",
    "    eval_dir = os.path.join(repo, 'eval_summary', model)\n",
    "    distributions[model] = load_all_sampled(\n",
    "        os.path.join(eval_dir, 'sample', sample_type), upto=iteration\n",
    "    )"
   ]
  },
  {
   "cell_type": "markdown",
   "metadata": {
    "hidden": true
   },
   "source": [
    "## MNLI Only Training"
   ]
  },
  {
   "cell_type": "code",
   "execution_count": 16,
   "metadata": {
    "hidden": true
   },
   "outputs": [],
   "source": [
    "pred_base = os.path.join(repo, 'predictions', 'roberta-large-mnli_only')\n",
    "data_base = os.path.join(repo, 'tasks', 'data')\n",
    "best_data = os.path.join(pred_base, 'best')\n",
    "\n",
    "pred_dirs = [\n",
    "    'baseline_5',\n",
    "    'LotS_5',\n",
    "    'LitL_5',\n",
    "    'mnlieval_baseline_1',\n",
    "    'anlieval_baseline_1',\n",
    "    'eval_baseline_1',\n",
    "]\n",
    "\n",
    "data_dirs = [\n",
    "    os.path.join('baseline_5', 'val_round5_base_combined.jsonl'),\n",
    "    os.path.join('LotS_5', 'val_round5_LotS_combined.jsonl'),\n",
    "    os.path.join('LitL_5', 'val_round5_LitL_combined.jsonl'),\n",
    "    os.path.join('mnli_mismatched', 'val_mismatched_mnli.jsonl'),\n",
    "    os.path.join('anli_combined', 'val_anli.jsonl'),\n",
    "    os.path.join('iterative_eval', 'val_itercombined.jsonl'),\n",
    "]\n",
    "\n",
    "lrs = ['0.00001', '0.00002', '0.00003']\n",
    "batches = ['16', '32']\n",
    "\n",
    "n_trials = 10"
   ]
  },
  {
   "cell_type": "code",
   "execution_count": 17,
   "metadata": {
    "hidden": true
   },
   "outputs": [],
   "source": [
    "def read_jsonl(file):\n",
    "    with open(file, 'r') as f:\n",
    "        return [json.loads(line) for line in f.readlines()]\n",
    "    \n",
    "def get_acc(\n",
    "    preds,\n",
    "    data,\n",
    "    int2pred={0:'contradiction', 1:'entailment', 2:'neutral'}\n",
    "):\n",
    "    df = pd.DataFrame(data)\n",
    "    df['preds'] = pd.Series(preds).apply(lambda x: int2pred[x])\n",
    "    df['correct'] = df['label'].eq(df['preds'])\n",
    "    return df"
   ]
  },
  {
   "cell_type": "code",
   "execution_count": 18,
   "metadata": {
    "hidden": true
   },
   "outputs": [],
   "source": [
    "if overwrite_plotting_data:\n",
    "    preds_and_data = {}\n",
    "\n",
    "    for pred, data in zip(pred_dirs, data_dirs):\n",
    "        temp_pred = torch.load(os.path.join(pred_base, pred, 'val_preds.p'))\n",
    "        temp_data = read_jsonl(os.path.join(data_base, data))\n",
    "        preds_and_data[pred.split('_')[0]] = {'pred': temp_pred, 'data':temp_data}\n",
    "\n",
    "    accs = {\n",
    "        key: get_acc(val['pred']['mnli']['preds'], val['data']) for key, val in preds_and_data.items()\n",
    "    }\n",
    "    \n",
    "    accs['glue'] = accs['eval'].loc[accs['eval']['dataset'] == 'glue']\n",
    "    \n",
    "    hans = accs['eval'].loc[accs['eval']['dataset'] == 'hans', :]\n",
    "    tempdict = {'contradiction':'contradiction', 'neutral':'contradiction', 'entailment':'entailment'}\n",
    "    hans['preds'] = hans['preds'].apply(lambda x: tempdict[x])\n",
    "    hans['case'] = hans['case'].apply(lambda x: x[0])\n",
    "    hans['correct'] = hans['label'].eq(hans['preds'])\n",
    "    \n",
    "    accs['hans'] = hans\n",
    "    \n",
    "    with open(os.path.join(plot_data, 'mnli-only-training_accs.p'), 'wb') as f:\n",
    "        pickle.dump(accs, f)"
   ]
  },
  {
   "cell_type": "code",
   "execution_count": 19,
   "metadata": {
    "hidden": true
   },
   "outputs": [],
   "source": [
    "if overwrite_plotting_data:\n",
    "    for lr in lrs:\n",
    "        for batch in batches:\n",
    "            preds_and_data = {}\n",
    "\n",
    "            for pred, data in zip(pred_dirs, data_dirs):\n",
    "                        temp_pred = torch.load(os.path.join(pred_base, f'{lr}_{batch}', pred, 'val_preds.p'))\n",
    "                        temp_data = read_jsonl(os.path.join(data_base, data))\n",
    "                        preds_and_data[pred.split('_')[0]] = {'pred': temp_pred, 'data':temp_data}\n",
    "\n",
    "            accs = {\n",
    "                key: get_acc(val['pred']['mnli']['preds'], val['data']) for key, val in preds_and_data.items()\n",
    "            }\n",
    "\n",
    "            accs['glue'] = accs['eval'].loc[accs['eval']['dataset'] == 'glue']\n",
    "\n",
    "            hans = accs['eval'].loc[accs['eval']['dataset'] == 'hans', :]\n",
    "            tempdict = {'contradiction':'contradiction', 'neutral':'contradiction', 'entailment':'entailment'}\n",
    "            hans['preds'] = hans['preds'].apply(lambda x: tempdict[x])\n",
    "            hans['case'] = hans['case'].apply(lambda x: x[0])\n",
    "            hans['correct'] = hans['label'].eq(hans['preds'])\n",
    "\n",
    "            accs['hans'] = hans\n",
    "            \n",
    "            mnli_out_dir = os.path.join(plot_data, 'mnli_restarts', f'{lr}_{batch}')\n",
    "            os.makedirs(mnli_out_dir, exist_ok = True)\n",
    "            with open(os.path.join(mnli_out_dir, 'mnli-only-training_accs.p'), 'wb') as f:\n",
    "                pickle.dump(accs, f)"
   ]
  },
  {
   "cell_type": "code",
   "execution_count": 20,
   "metadata": {
    "hidden": true
   },
   "outputs": [],
   "source": [
    "if overwrite_plotting_data:\n",
    "    for trial in range(1, n_trials+1):\n",
    "        preds_and_data = {}\n",
    "\n",
    "        for pred, data in zip(pred_dirs, data_dirs):\n",
    "            temp_pred = torch.load(os.path.join(best_data, pred, f'{trial}', 'val_preds.p'))\n",
    "            temp_data = read_jsonl(os.path.join(data_base, data))\n",
    "            preds_and_data[pred.split('_')[0]] = {'pred': temp_pred, 'data':temp_data}\n",
    "\n",
    "        accs = {\n",
    "            key: get_acc(val['pred']['mnli']['preds'], val['data']) for key, val in preds_and_data.items()\n",
    "        }\n",
    "\n",
    "        accs['glue'] = accs['eval'].loc[accs['eval']['dataset'] == 'glue']\n",
    "\n",
    "        hans = accs['eval'].loc[accs['eval']['dataset'] == 'hans', :]\n",
    "        tempdict = {'contradiction':'contradiction', 'neutral':'contradiction', 'entailment':'entailment'}\n",
    "        hans['preds'] = hans['preds'].apply(lambda x: tempdict[x])\n",
    "        hans['case'] = hans['case'].apply(lambda x: x[0])\n",
    "        hans['correct'] = hans['label'].eq(hans['preds'])\n",
    "\n",
    "        accs['hans'] = hans\n",
    "\n",
    "        mnli_out_dir = os.path.join(plot_data, 'mnli_restarts', 'best', f'{trial}')\n",
    "        os.makedirs(mnli_out_dir, exist_ok = True)\n",
    "        with open(os.path.join(mnli_out_dir, 'mnli-only-training_accs.p'), 'wb') as f:\n",
    "            pickle.dump(accs, f)"
   ]
  },
  {
   "cell_type": "markdown",
   "metadata": {
    "heading_collapsed": true,
    "hidden": true
   },
   "source": [
    "## Collected"
   ]
  },
  {
   "cell_type": "code",
   "execution_count": 21,
   "metadata": {
    "hidden": true
   },
   "outputs": [],
   "source": [
    "select2mod = {\n",
    "    ('combined', 'full'): 'combined',\n",
    "    ('combined', 'hyp'): 'hyp',\n",
    "    ('separate', 'full'): 'separate',\n",
    "    ('separate', 'hyp'): 'separate_hyp',\n",
    "}"
   ]
  },
  {
   "cell_type": "code",
   "execution_count": 22,
   "metadata": {
    "hidden": true
   },
   "outputs": [],
   "source": [
    "all_df = []\n",
    "\n",
    "if overwrite_plotting_data:\n",
    "    for model in models:\n",
    "        collected = []\n",
    "        eval_dir = os.path.join(repo, 'eval_summary', model)\n",
    "\n",
    "        for combined, input_type in select2mod.keys():\n",
    "            mod = select2mod[(combined, input_type)]\n",
    "            temp = get_val_summary(mod, iteration, eval_dir, )\n",
    "            for idx, row in temp.iterrows():\n",
    "                df = pd.DataFrame({\n",
    "                    'acc': row,\n",
    "                    'iter': [int(x) for x in row.index.values],\n",
    "                    'treat':row.name,\n",
    "                    'mod':input_type,\n",
    "                    'combined':combined,\n",
    "                    'model':model,\n",
    "                })\n",
    "                collected.append(df)\n",
    "        collected_t = pd.concat(collected, ignore_index = True)\n",
    "        distributions[model]['collected']['model'] = model\n",
    "        all_df.append(pd.concat([distributions[model]['collected'], collected_t], ignore_index = True))\n",
    "    df = pd.concat(all_df, ignore_index = True)\n",
    "    df.to_csv(os.path.join(plot_data, 'collected.csv'))"
   ]
  },
  {
   "cell_type": "markdown",
   "metadata": {
    "heading_collapsed": true,
    "hidden": true
   },
   "source": [
    "## GLUE"
   ]
  },
  {
   "cell_type": "code",
   "execution_count": 23,
   "metadata": {
    "hidden": true
   },
   "outputs": [
    {
     "name": "stdout",
     "output_type": "stream",
     "text": [
      "                            case                                subcase\n",
      "0                       combined                               combined\n",
      "1                      Knowledge                               combined\n",
      "2                      Knowledge                           Common sense\n",
      "3                      Knowledge                        World knowledge\n",
      "4              Lexical Semantics                               combined\n",
      "..                           ...                                    ...\n",
      "64  Predicate-Argument Structure  Relative clauses;Anaphora/Coreference\n",
      "65  Predicate-Argument Structure         Relative clauses;Restrictivity\n",
      "66  Predicate-Argument Structure                          Restrictivity\n",
      "67  Predicate-Argument Structure     Restrictivity;Anaphora/Coreference\n",
      "68  Predicate-Argument Structure         Restrictivity;Relative clauses\n",
      "\n",
      "[69 rows x 2 columns]\n"
     ]
    }
   ],
   "source": [
    "glue_keys = pd.read_csv('glue_case_keys.csv')\n",
    "print(glue_keys)\n",
    "glue_labels = ['combined', 'entailment', 'neutral', 'contradiction']"
   ]
  },
  {
   "cell_type": "code",
   "execution_count": 24,
   "metadata": {
    "hidden": true
   },
   "outputs": [],
   "source": [
    "dataset = 'glue'\n",
    "\n",
    "combineds = ['combined', 'separate']\n",
    "all_df = []\n",
    "\n",
    "if overwrite_plotting_data:\n",
    "    for model in models:\n",
    "        collected = []\n",
    "        eval_dir = os.path.join(repo, 'eval_summary', model)\n",
    "\n",
    "        for idx, caserow in glue_keys.iterrows():\n",
    "            for label in glue_labels:\n",
    "                for combined in combineds:\n",
    "                    sub_keys = {\n",
    "                        'dataset': dataset,     # either hans or glue\n",
    "                        'case': caserow['case'],    # combined or specific to respective itereval set\n",
    "                        'subcase': caserow['subcase'], # combined or specific to respective itereval set\n",
    "                        'label': label,   # combined or [entailment, neutral, contradiction] for glue, [entailment, non-entailment] for hans\n",
    "                    }\n",
    "\n",
    "                    temp = get_itereval_summary(sub_keys, iteration, eval_dir, combined)\n",
    "                    for idx, row in temp.iterrows():\n",
    "                        df = pd.DataFrame({\n",
    "                            'acc': row,\n",
    "                            'iter': [int(x) for x in row.index.values],\n",
    "                            'treat':row.name,\n",
    "                            'case':sub_keys['case'],\n",
    "                            'subcase':sub_keys['subcase'],\n",
    "                            'label':sub_keys['label'],\n",
    "                            'comb':combined,\n",
    "                            'model':model,\n",
    "                        })\n",
    "                        collected.append(df)\n",
    "                collected_t = pd.concat(collected, ignore_index = True)\n",
    "\n",
    "        temp_sampled = distributions[model]['itereval']\n",
    "        temp_sampled = temp_sampled.loc[temp_sampled['dataset'] == dataset, :]\n",
    "        temp_sampled['model'] = model\n",
    "        all_df.append(pd.concat([temp_sampled, collected_t], ignore_index=True))\n",
    "    df = pd.concat(all_df, ignore_index = True)\n",
    "    df.to_csv(os.path.join(plot_data, 'glue.csv'))"
   ]
  },
  {
   "cell_type": "markdown",
   "metadata": {
    "heading_collapsed": true,
    "hidden": true
   },
   "source": [
    "## HANS"
   ]
  },
  {
   "cell_type": "code",
   "execution_count": 25,
   "metadata": {
    "hidden": true
   },
   "outputs": [
    {
     "name": "stdout",
     "output_type": "stream",
     "text": [
      "               case                         subcase\n",
      "0          combined                        combined\n",
      "1       constituent                       ce_adverb\n",
      "2       constituent           ce_after_since_clause\n",
      "3       constituent                  ce_conjunction\n",
      "4       constituent         ce_embedded_under_since\n",
      "5       constituent          ce_embedded_under_verb\n",
      "6       constituent                       cn_adverb\n",
      "7       constituent              cn_after_if_clause\n",
      "8       constituent                  cn_disjunction\n",
      "9       constituent            cn_embedded_under_if\n",
      "10      constituent          cn_embedded_under_verb\n",
      "11      constituent                        combined\n",
      "12  lexical_overlap                        combined\n",
      "13  lexical_overlap  le_around_prepositional_phrase\n",
      "14  lexical_overlap       le_around_relative_clause\n",
      "15  lexical_overlap                  le_conjunction\n",
      "16  lexical_overlap                      le_passive\n",
      "17  lexical_overlap              le_relative_clause\n",
      "18  lexical_overlap                  ln_conjunction\n",
      "19  lexical_overlap                      ln_passive\n",
      "20  lexical_overlap                  ln_preposition\n",
      "21  lexical_overlap              ln_relative_clause\n",
      "22  lexical_overlap          ln_subject/object_swap\n",
      "23      subsequence                        combined\n",
      "24      subsequence                    se_adjective\n",
      "25      subsequence                  se_conjunction\n",
      "26      subsequence                    se_PP_on_obj\n",
      "27      subsequence       se_relative_clause_on_obj\n",
      "28      subsequence            se_understood_object\n",
      "29      subsequence                         sn_NP/S\n",
      "30      subsequence                         sn_NP/Z\n",
      "31      subsequence              sn_past_participle\n",
      "32      subsequence                sn_PP_on_subject\n",
      "33      subsequence   sn_relative_clause_on_subject\n"
     ]
    }
   ],
   "source": [
    "hans_keys = pd.read_csv('hans_case_keys.csv')\n",
    "print(hans_keys)\n",
    "hans_labels = ['combined', 'entailment', 'non-entailment']"
   ]
  },
  {
   "cell_type": "code",
   "execution_count": 26,
   "metadata": {
    "hidden": true
   },
   "outputs": [],
   "source": [
    "dataset = 'hans'\n",
    "\n",
    "combineds = ['combined', 'separate']\n",
    "all_df = []\n",
    "\n",
    "if overwrite_plotting_data:\n",
    "    for model in models:\n",
    "        collected = []\n",
    "        eval_dir = os.path.join(repo, 'eval_summary', model)\n",
    "\n",
    "        for idx, caserow in hans_keys.iterrows():\n",
    "            for label in hans_labels:\n",
    "                for combined in combineds:\n",
    "                    sub_keys = {\n",
    "                        'dataset': dataset,     # either glue or hans\n",
    "                        'case': caserow['case'],    # combined or specific to respective itereval set\n",
    "                        'subcase': caserow['subcase'], # combined or specific to respective itereval set\n",
    "                        'label': label,   # combined or [entailment, neutral, contradiction] for glue, [entailment, non-entailment] for hans\n",
    "                    }\n",
    "\n",
    "                    temp = get_itereval_summary(sub_keys, iteration, eval_dir, combined)\n",
    "                    for idx, row in temp.iterrows():\n",
    "                        df = pd.DataFrame({\n",
    "                            'acc': row,\n",
    "                            'iter': [int(x) for x in row.index.values],\n",
    "                            'treat':row.name,\n",
    "                            'case':sub_keys['case'],\n",
    "                            'subcase':sub_keys['subcase'],\n",
    "                            'label':sub_keys['label'],\n",
    "                            'comb':combined,\n",
    "                            'model':model,\n",
    "                        })\n",
    "                        collected.append(df)\n",
    "                collected_t = pd.concat(collected, ignore_index = True)\n",
    "\n",
    "        temp_sampled = distributions[model]['itereval']\n",
    "        temp_sampled = temp_sampled.loc[temp_sampled['dataset'] == dataset, :]\n",
    "        temp_sampled['model'] = model\n",
    "        all_df.append(pd.concat([temp_sampled, collected_t], ignore_index=True))\n",
    "    df = pd.concat(all_df, ignore_index = True)\n",
    "    df.to_csv(os.path.join(plot_data, 'hans.csv'))"
   ]
  },
  {
   "cell_type": "markdown",
   "metadata": {
    "heading_collapsed": true,
    "hidden": true
   },
   "source": [
    "## MNLI"
   ]
  },
  {
   "cell_type": "code",
   "execution_count": 27,
   "metadata": {
    "hidden": true
   },
   "outputs": [],
   "source": [
    "all_df = []\n",
    "\n",
    "if overwrite_plotting_data:\n",
    "    for model in models:\n",
    "        eval_dir = os.path.join(repo, 'eval_summary', model)\n",
    "        mnli_summary = os.path.join(eval_dir, 'mnli_evals', 'eval_summaries.jsonl')\n",
    "\n",
    "        with open(mnli_summary, 'r') as f:\n",
    "            summary = pd.DataFrame([json.loads(line) for line in f])\n",
    "        summary['breakdown'] = summary['genre'].fillna('combined')\n",
    "        summary['iter'] = summary['iter'].apply(lambda x: int(x))\n",
    "\n",
    "        temp = pd.concat([distributions[model]['mnli'], summary], ignore_index=True)\n",
    "        temp['model'] = model\n",
    "\n",
    "        all_df.append(temp)\n",
    "    df = pd.concat(all_df, ignore_index = True)\n",
    "    df.to_csv(os.path.join(plot_data, 'mnli.csv'))"
   ]
  },
  {
   "cell_type": "markdown",
   "metadata": {
    "heading_collapsed": true,
    "hidden": true
   },
   "source": [
    "## ANLI"
   ]
  },
  {
   "cell_type": "code",
   "execution_count": 28,
   "metadata": {
    "hidden": true
   },
   "outputs": [],
   "source": [
    "all_df = []\n",
    "\n",
    "if overwrite_plotting_data:\n",
    "    for model in models:\n",
    "        eval_dir = os.path.join(repo, 'eval_summary', model)\n",
    "        df = pd.read_csv(os.path.join(eval_dir, 'sample', sample_type, 'final', 'anli_by_annotation.csv'))\n",
    "        df['model'] = model\n",
    "\n",
    "        all_df.append(df)\n",
    "    df = pd.concat(all_df, ignore_index = True)\n",
    "    df.to_csv(os.path.join(plot_data, 'anli.csv'))"
   ]
  },
  {
   "cell_type": "markdown",
   "metadata": {},
   "source": [
    "# Plot"
   ]
  },
  {
   "cell_type": "markdown",
   "metadata": {
    "heading_collapsed": true
   },
   "source": [
    "## Plot Params"
   ]
  },
  {
   "cell_type": "code",
   "execution_count": 29,
   "metadata": {
    "hidden": true
   },
   "outputs": [],
   "source": [
    "combined = 'combined'\n",
    "_model = 'roberta-large' # roberta-large or roberta-large-mnli"
   ]
  },
  {
   "cell_type": "code",
   "execution_count": 30,
   "metadata": {
    "hidden": true
   },
   "outputs": [],
   "source": [
    "repo = os.path.dirname(os.path.dirname(os.path.abspath('__file__')))\n",
    "plot_dir = os.path.join(repo, 'eval_summary', 'plot_data')\n",
    "plot_out = os.path.join(repo, 'eval_summary', 'plots', _model)\n",
    "os.makedirs(plot_out, exist_ok=True)"
   ]
  },
  {
   "cell_type": "code",
   "execution_count": 31,
   "metadata": {
    "hidden": true
   },
   "outputs": [],
   "source": [
    "acc_name = 'Performance'\n",
    "diff_name = 'Over Baseline'"
   ]
  },
  {
   "cell_type": "code",
   "execution_count": 32,
   "metadata": {
    "hidden": true
   },
   "outputs": [],
   "source": [
    "save_figs = True\n",
    "figtype='pdf'\n",
    "\n",
    "err_style='bars' # band or bars\n",
    "err_kws={'elinewidth': 2, 'capsize': 3}\n",
    "\n",
    "title_fontsize=18\n",
    "label_fontsize=16\n",
    "legend_fontsize=14\n",
    "\n",
    "err_line_offset = 4 if _model == 'roberta-large' else 5\n",
    "err_cap_offset = 0.05\n"
   ]
  },
  {
   "cell_type": "code",
   "execution_count": 33,
   "metadata": {
    "hidden": true
   },
   "outputs": [],
   "source": [
    "cols2plot = {'treat':'Protocol', 'model':'Model'}\n",
    "treat2plot = {'baseline':'Baseline', 'LotS':'LitL', 'LitL':'LitL Chat'}\n",
    "model2plot = {'roberta-large': r'RoBERTa$_{\\rm{Lg}}$', 'roberta-large-mnli': r'RoBERTa$_{\\rm{Lg+MNLI}}$'}\n",
    "\n",
    "hue='Protocol'\n",
    "hue_order=['Baseline', 'LitL', 'LitL Chat']\n",
    "style_key='Model'\n",
    "style_order=[\n",
    "    model2plot[_model]\n",
    "]\n",
    "\n",
    "palette={\n",
    "        'baseline':'tab:blue',\n",
    "        'LitL':'tab:orange',\n",
    "        'LitL Chat':'tab:green',\n",
    "    }\n",
    "\n",
    "xlim = [0.8, 5.2]"
   ]
  },
  {
   "cell_type": "code",
   "execution_count": 34,
   "metadata": {
    "hidden": true
   },
   "outputs": [],
   "source": [
    "with open(os.path.join(plot_dir, 'mnli-only-training_accs.p'), 'rb') as f:\n",
    "    mnli_accs = pickle.load(f)"
   ]
  },
  {
   "cell_type": "markdown",
   "metadata": {
    "heading_collapsed": true
   },
   "source": [
    "## Def plot"
   ]
  },
  {
   "cell_type": "code",
   "execution_count": 104,
   "metadata": {
    "hidden": true
   },
   "outputs": [],
   "source": [
    "def err_line_plots(\n",
    "    plot_df,\n",
    "    ylim=[0,1],\n",
    "    ystep=0.1,\n",
    "    xlim=[1,5],\n",
    "    title=None,\n",
    "    xlabel=None,\n",
    "    ylabel=None,\n",
    "    tabletitle=None,\n",
    "    tableon=True,\n",
    "    x='iter',\n",
    "    y='acc',\n",
    "    err_style='bars',\n",
    "    ci=95,\n",
    "    estimator='mean',\n",
    "    markers=True,\n",
    "    hue='treat',\n",
    "    hue_order=['baseline', 'LotS', 'LitL'],\n",
    "    iteration=5,\n",
    "    bbox_to_anchor=(1.01, 1),\n",
    "    palette=None,\n",
    "    style_key='combined',\n",
    "    style_order=['combined', 'separate'],\n",
    "    yaxis_visible = True,\n",
    "    xaxis_visible = True,\n",
    "    ylabel_visible = True,\n",
    "    xlabel_visible = True,\n",
    "    legend_visible = True,\n",
    "    ax=None,\n",
    "    figsize=(6.4, 4.8),\n",
    "    err_kws={'elinewidth': 1, 'capsize': 2},\n",
    "    err_alpha=0.6,\n",
    "    linewidth=2,\n",
    "    markersize=7,\n",
    "    loc='best',\n",
    "    ncol=1,\n",
    "    error_offsets = [\n",
    "        {\n",
    "            'line':-err_line_offset,\n",
    "            'cap':-err_cap_offset,\n",
    "        },\n",
    "        {\n",
    "            'line':0,\n",
    "            'cap':0,\n",
    "        },\n",
    "        {\n",
    "            'line':+err_line_offset,\n",
    "            'cap':+err_cap_offset,\n",
    "        }\n",
    "    ]\n",
    "):\n",
    "    kwargs = {}\n",
    "    no_ax = not ax\n",
    "    if not ax:\n",
    "        fig, ax = plt.subplots(figsize=figsize)\n",
    "    \n",
    "    if len(style_order) == 1:\n",
    "        print('here')\n",
    "        plot_df = plot_df.loc[plot_df[style_key] == style_order[0], :]\n",
    "        style_key, style_order = hue, hue_order\n",
    "#         style_key, style_order = None, None\n",
    "#         kwargs = {'marker': 'o'}\n",
    "    \n",
    "    g = sns.lineplot(\n",
    "        data=plot_df, x=x, y=y,\n",
    "        hue=hue, hue_order=hue_order,\n",
    "        style = style_key, style_order = style_order,\n",
    "        err_style=err_style, err_kws=err_kws,\n",
    "        ci=ci, markers=markers,\n",
    "        ax=ax, **kwargs,\n",
    "        linewidth=linewidth, markersize=markersize,\n",
    "    )\n",
    "    \n",
    "    if error_offsets:\n",
    "#     if False:\n",
    "        assert len(g.containers) == len(error_offsets), f'{len(g.collections)}, error_offsets {len(error_offsets)}'\n",
    "        \n",
    "        for container, offsets in zip(g.containers, error_offsets):\n",
    "            # offset line\n",
    "            plt.setp(container[2][0], offsets = [offsets['line'], 0.])\n",
    "            \n",
    "            # offset caps\n",
    "            for cap in container[1]:\n",
    "                temp = cap._xy\n",
    "                temp[:, 0] = temp[:, 0] + offsets['cap']\n",
    "                cap._path = pth.Path(temp)\n",
    "        \n",
    "    plt.setp(g.containers, alpha=err_alpha)\n",
    "\n",
    "    ax.set_title(title, fontsize=title_fontsize)\n",
    "    \n",
    "    ax.set_xlabel(xlabel if xaxis_visible and xlabel_visible else '', fontsize=label_fontsize)\n",
    "    ax.set_xticks(np.arange(1, 6, 1))\n",
    "    ax.set_xlim(*xlim)\n",
    "    if not xaxis_visible:\n",
    "        ax.xaxis.set_ticklabels([])\n",
    "    \n",
    "    ax.set_ylabel(ylabel if yaxis_visible and ylabel_visible else '', fontsize=label_fontsize)\n",
    "    ax.set_yticks(np.arange(ylim[0], ylim[1]+ystep, ystep))\n",
    "    ax.set_ylim(*ylim)\n",
    "    if not yaxis_visible:\n",
    "        ax.yaxis.set_ticklabels([])\n",
    "    \n",
    "    ax.legend(\n",
    "        bbox_to_anchor=bbox_to_anchor,\n",
    "        loc=loc,\n",
    "        ncol=ncol,\n",
    "        fontsize=legend_fontsize,\n",
    "    ).set_visible(legend_visible)\n",
    "    \n",
    "    if no_ax:\n",
    "        fig.tight_layout()\n",
    "        return fig"
   ]
  },
  {
   "cell_type": "markdown",
   "metadata": {
    "heading_collapsed": true
   },
   "source": [
    "## Combined In-Domain"
   ]
  },
  {
   "cell_type": "code",
   "execution_count": 35,
   "metadata": {
    "hidden": true
   },
   "outputs": [],
   "source": [
    "indomain_l_offset = 0 if _model == 'roberta-large' else -1\n",
    "indomain_c_offset = 0\n",
    "\n",
    "error_offsets = [\n",
    "        {\n",
    "            'line':-(err_line_offset+indomain_l_offset),\n",
    "            'cap':-(err_cap_offset+indomain_c_offset),\n",
    "        },\n",
    "        {\n",
    "            'line':0,\n",
    "            'cap':0,\n",
    "        },\n",
    "        {\n",
    "            'line':+(err_line_offset+indomain_l_offset),\n",
    "            'cap':+(err_cap_offset+indomain_c_offset),\n",
    "        }\n",
    "    ]"
   ]
  },
  {
   "cell_type": "code",
   "execution_count": 36,
   "metadata": {
    "hidden": true,
    "scrolled": true
   },
   "outputs": [
    {
     "data": {
      "application/vnd.jupyter.widget-view+json": {
       "model_id": "881a4fcbd159446497bb3e6eaea5d82c",
       "version_major": 2,
       "version_minor": 0
      },
      "text/plain": [
       "Canvas(toolbar=Toolbar(toolitems=[('Home', 'Reset original view', 'home', 'home'), ('Back', 'Back to previous …"
      ]
     },
     "metadata": {},
     "output_type": "display_data"
    },
    {
     "ename": "RuntimeError",
     "evalue": "libpng signaled error",
     "output_type": "error",
     "traceback": [
      "\u001b[1;31m---------------------------------------------------------------------------\u001b[0m",
      "\u001b[1;31mRuntimeError\u001b[0m                              Traceback (most recent call last)",
      "\u001b[1;32m~\\Anaconda3\\envs\\DL\\lib\\site-packages\\ipympl\\backend_nbagg.py\u001b[0m in \u001b[0;36m_handle_message\u001b[1;34m(self, object, content, buffers)\u001b[0m\n\u001b[0;32m    178\u001b[0m             \u001b[0mself\u001b[0m\u001b[1;33m.\u001b[0m\u001b[0mmanager\u001b[0m\u001b[1;33m.\u001b[0m\u001b[0mresize\u001b[0m\u001b[1;33m(\u001b[0m\u001b[0mw\u001b[0m\u001b[1;33m,\u001b[0m \u001b[0mh\u001b[0m\u001b[1;33m)\u001b[0m\u001b[1;33m\u001b[0m\u001b[1;33m\u001b[0m\u001b[0m\n\u001b[0;32m    179\u001b[0m         \u001b[1;32melse\u001b[0m\u001b[1;33m:\u001b[0m\u001b[1;33m\u001b[0m\u001b[1;33m\u001b[0m\u001b[0m\n\u001b[1;32m--> 180\u001b[1;33m             \u001b[0mself\u001b[0m\u001b[1;33m.\u001b[0m\u001b[0mmanager\u001b[0m\u001b[1;33m.\u001b[0m\u001b[0mhandle_json\u001b[0m\u001b[1;33m(\u001b[0m\u001b[0mcontent\u001b[0m\u001b[1;33m)\u001b[0m\u001b[1;33m\u001b[0m\u001b[1;33m\u001b[0m\u001b[0m\n\u001b[0m\u001b[0;32m    181\u001b[0m \u001b[1;33m\u001b[0m\u001b[0m\n\u001b[0;32m    182\u001b[0m     \u001b[1;32mdef\u001b[0m \u001b[0msend_json\u001b[0m\u001b[1;33m(\u001b[0m\u001b[0mself\u001b[0m\u001b[1;33m,\u001b[0m \u001b[0mcontent\u001b[0m\u001b[1;33m)\u001b[0m\u001b[1;33m:\u001b[0m\u001b[1;33m\u001b[0m\u001b[1;33m\u001b[0m\u001b[0m\n",
      "\u001b[1;32m~\\Anaconda3\\envs\\DL\\lib\\site-packages\\matplotlib\\backends\\backend_webagg_core.py\u001b[0m in \u001b[0;36mhandle_json\u001b[1;34m(self, content)\u001b[0m\n\u001b[0;32m    437\u001b[0m \u001b[1;33m\u001b[0m\u001b[0m\n\u001b[0;32m    438\u001b[0m     \u001b[1;32mdef\u001b[0m \u001b[0mhandle_json\u001b[0m\u001b[1;33m(\u001b[0m\u001b[0mself\u001b[0m\u001b[1;33m,\u001b[0m \u001b[0mcontent\u001b[0m\u001b[1;33m)\u001b[0m\u001b[1;33m:\u001b[0m\u001b[1;33m\u001b[0m\u001b[1;33m\u001b[0m\u001b[0m\n\u001b[1;32m--> 439\u001b[1;33m         \u001b[0mself\u001b[0m\u001b[1;33m.\u001b[0m\u001b[0mcanvas\u001b[0m\u001b[1;33m.\u001b[0m\u001b[0mhandle_event\u001b[0m\u001b[1;33m(\u001b[0m\u001b[0mcontent\u001b[0m\u001b[1;33m)\u001b[0m\u001b[1;33m\u001b[0m\u001b[1;33m\u001b[0m\u001b[0m\n\u001b[0m\u001b[0;32m    440\u001b[0m \u001b[1;33m\u001b[0m\u001b[0m\n\u001b[0;32m    441\u001b[0m     \u001b[1;32mdef\u001b[0m \u001b[0mrefresh_all\u001b[0m\u001b[1;33m(\u001b[0m\u001b[0mself\u001b[0m\u001b[1;33m)\u001b[0m\u001b[1;33m:\u001b[0m\u001b[1;33m\u001b[0m\u001b[1;33m\u001b[0m\u001b[0m\n",
      "\u001b[1;32m~\\Anaconda3\\envs\\DL\\lib\\site-packages\\matplotlib\\backends\\backend_webagg_core.py\u001b[0m in \u001b[0;36mhandle_event\u001b[1;34m(self, event)\u001b[0m\n\u001b[0;32m    238\u001b[0m         handler = getattr(self, 'handle_{0}'.format(e_type),\n\u001b[0;32m    239\u001b[0m                           self.handle_unknown_event)\n\u001b[1;32m--> 240\u001b[1;33m         \u001b[1;32mreturn\u001b[0m \u001b[0mhandler\u001b[0m\u001b[1;33m(\u001b[0m\u001b[0mevent\u001b[0m\u001b[1;33m)\u001b[0m\u001b[1;33m\u001b[0m\u001b[1;33m\u001b[0m\u001b[0m\n\u001b[0m\u001b[0;32m    241\u001b[0m \u001b[1;33m\u001b[0m\u001b[0m\n\u001b[0;32m    242\u001b[0m     \u001b[1;32mdef\u001b[0m \u001b[0mhandle_unknown_event\u001b[0m\u001b[1;33m(\u001b[0m\u001b[0mself\u001b[0m\u001b[1;33m,\u001b[0m \u001b[0mevent\u001b[0m\u001b[1;33m)\u001b[0m\u001b[1;33m:\u001b[0m\u001b[1;33m\u001b[0m\u001b[1;33m\u001b[0m\u001b[0m\n",
      "\u001b[1;32m~\\Anaconda3\\envs\\DL\\lib\\site-packages\\matplotlib\\backends\\backend_webagg_core.py\u001b[0m in \u001b[0;36mhandle_draw\u001b[1;34m(self, event)\u001b[0m\n\u001b[0;32m    254\u001b[0m \u001b[1;33m\u001b[0m\u001b[0m\n\u001b[0;32m    255\u001b[0m     \u001b[1;32mdef\u001b[0m \u001b[0mhandle_draw\u001b[0m\u001b[1;33m(\u001b[0m\u001b[0mself\u001b[0m\u001b[1;33m,\u001b[0m \u001b[0mevent\u001b[0m\u001b[1;33m)\u001b[0m\u001b[1;33m:\u001b[0m\u001b[1;33m\u001b[0m\u001b[1;33m\u001b[0m\u001b[0m\n\u001b[1;32m--> 256\u001b[1;33m         \u001b[0mself\u001b[0m\u001b[1;33m.\u001b[0m\u001b[0mdraw\u001b[0m\u001b[1;33m(\u001b[0m\u001b[1;33m)\u001b[0m\u001b[1;33m\u001b[0m\u001b[1;33m\u001b[0m\u001b[0m\n\u001b[0m\u001b[0;32m    257\u001b[0m \u001b[1;33m\u001b[0m\u001b[0m\n\u001b[0;32m    258\u001b[0m     \u001b[1;32mdef\u001b[0m \u001b[0m_handle_mouse\u001b[0m\u001b[1;33m(\u001b[0m\u001b[0mself\u001b[0m\u001b[1;33m,\u001b[0m \u001b[0mevent\u001b[0m\u001b[1;33m)\u001b[0m\u001b[1;33m:\u001b[0m\u001b[1;33m\u001b[0m\u001b[1;33m\u001b[0m\u001b[0m\n",
      "\u001b[1;32m~\\Anaconda3\\envs\\DL\\lib\\site-packages\\matplotlib\\backends\\backend_webagg_core.py\u001b[0m in \u001b[0;36mdraw\u001b[1;34m(self)\u001b[0m\n\u001b[0;32m    151\u001b[0m             \u001b[0msuper\u001b[0m\u001b[1;33m(\u001b[0m\u001b[1;33m)\u001b[0m\u001b[1;33m.\u001b[0m\u001b[0mdraw\u001b[0m\u001b[1;33m(\u001b[0m\u001b[1;33m)\u001b[0m\u001b[1;33m\u001b[0m\u001b[1;33m\u001b[0m\u001b[0m\n\u001b[0;32m    152\u001b[0m         \u001b[1;32mfinally\u001b[0m\u001b[1;33m:\u001b[0m\u001b[1;33m\u001b[0m\u001b[1;33m\u001b[0m\u001b[0m\n\u001b[1;32m--> 153\u001b[1;33m             \u001b[0mself\u001b[0m\u001b[1;33m.\u001b[0m\u001b[0mmanager\u001b[0m\u001b[1;33m.\u001b[0m\u001b[0mrefresh_all\u001b[0m\u001b[1;33m(\u001b[0m\u001b[1;33m)\u001b[0m  \u001b[1;31m# Swap the frames.\u001b[0m\u001b[1;33m\u001b[0m\u001b[1;33m\u001b[0m\u001b[0m\n\u001b[0m\u001b[0;32m    154\u001b[0m \u001b[1;33m\u001b[0m\u001b[0m\n\u001b[0;32m    155\u001b[0m     \u001b[1;32mdef\u001b[0m \u001b[0mdraw_idle\u001b[0m\u001b[1;33m(\u001b[0m\u001b[0mself\u001b[0m\u001b[1;33m)\u001b[0m\u001b[1;33m:\u001b[0m\u001b[1;33m\u001b[0m\u001b[1;33m\u001b[0m\u001b[0m\n",
      "\u001b[1;32m~\\Anaconda3\\envs\\DL\\lib\\site-packages\\matplotlib\\backends\\backend_webagg_core.py\u001b[0m in \u001b[0;36mrefresh_all\u001b[1;34m(self)\u001b[0m\n\u001b[0;32m    441\u001b[0m     \u001b[1;32mdef\u001b[0m \u001b[0mrefresh_all\u001b[0m\u001b[1;33m(\u001b[0m\u001b[0mself\u001b[0m\u001b[1;33m)\u001b[0m\u001b[1;33m:\u001b[0m\u001b[1;33m\u001b[0m\u001b[1;33m\u001b[0m\u001b[0m\n\u001b[0;32m    442\u001b[0m         \u001b[1;32mif\u001b[0m \u001b[0mself\u001b[0m\u001b[1;33m.\u001b[0m\u001b[0mweb_sockets\u001b[0m\u001b[1;33m:\u001b[0m\u001b[1;33m\u001b[0m\u001b[1;33m\u001b[0m\u001b[0m\n\u001b[1;32m--> 443\u001b[1;33m             \u001b[0mdiff\u001b[0m \u001b[1;33m=\u001b[0m \u001b[0mself\u001b[0m\u001b[1;33m.\u001b[0m\u001b[0mcanvas\u001b[0m\u001b[1;33m.\u001b[0m\u001b[0mget_diff_image\u001b[0m\u001b[1;33m(\u001b[0m\u001b[1;33m)\u001b[0m\u001b[1;33m\u001b[0m\u001b[1;33m\u001b[0m\u001b[0m\n\u001b[0m\u001b[0;32m    444\u001b[0m             \u001b[1;32mif\u001b[0m \u001b[0mdiff\u001b[0m \u001b[1;32mis\u001b[0m \u001b[1;32mnot\u001b[0m \u001b[1;32mNone\u001b[0m\u001b[1;33m:\u001b[0m\u001b[1;33m\u001b[0m\u001b[1;33m\u001b[0m\u001b[0m\n\u001b[0;32m    445\u001b[0m                 \u001b[1;32mfor\u001b[0m \u001b[0ms\u001b[0m \u001b[1;32min\u001b[0m \u001b[0mself\u001b[0m\u001b[1;33m.\u001b[0m\u001b[0mweb_sockets\u001b[0m\u001b[1;33m:\u001b[0m\u001b[1;33m\u001b[0m\u001b[1;33m\u001b[0m\u001b[0m\n",
      "\u001b[1;32m~\\Anaconda3\\envs\\DL\\lib\\site-packages\\matplotlib\\backends\\backend_webagg_core.py\u001b[0m in \u001b[0;36mget_diff_image\u001b[1;34m(self)\u001b[0m\n\u001b[0;32m    199\u001b[0m             buff = _png.write_png(\n\u001b[0;32m    200\u001b[0m                 \u001b[0moutput\u001b[0m\u001b[1;33m.\u001b[0m\u001b[0mview\u001b[0m\u001b[1;33m(\u001b[0m\u001b[0mdtype\u001b[0m\u001b[1;33m=\u001b[0m\u001b[0mnp\u001b[0m\u001b[1;33m.\u001b[0m\u001b[0muint8\u001b[0m\u001b[1;33m)\u001b[0m\u001b[1;33m.\u001b[0m\u001b[0mreshape\u001b[0m\u001b[1;33m(\u001b[0m\u001b[0moutput\u001b[0m\u001b[1;33m.\u001b[0m\u001b[0mshape\u001b[0m \u001b[1;33m+\u001b[0m \u001b[1;33m(\u001b[0m\u001b[1;36m4\u001b[0m\u001b[1;33m,\u001b[0m\u001b[1;33m)\u001b[0m\u001b[1;33m)\u001b[0m\u001b[1;33m,\u001b[0m\u001b[1;33m\u001b[0m\u001b[1;33m\u001b[0m\u001b[0m\n\u001b[1;32m--> 201\u001b[1;33m                 None, compression=6, filter=_png.PNG_FILTER_NONE)\n\u001b[0m\u001b[0;32m    202\u001b[0m \u001b[1;33m\u001b[0m\u001b[0m\n\u001b[0;32m    203\u001b[0m             \u001b[1;31m# Swap the renderer frames\u001b[0m\u001b[1;33m\u001b[0m\u001b[1;33m\u001b[0m\u001b[1;33m\u001b[0m\u001b[0m\n",
      "\u001b[1;31mRuntimeError\u001b[0m: libpng signaled error"
     ]
    }
   ],
   "source": [
    "figsize=(7, 5)\n",
    "fig, ax = plt.subplots(2, 1, figsize=figsize)"
   ]
  },
  {
   "cell_type": "markdown",
   "metadata": {
    "hidden": true
   },
   "source": [
    "### In-domain"
   ]
  },
  {
   "cell_type": "markdown",
   "metadata": {
    "hidden": true
   },
   "source": [
    "#### MNLI only"
   ]
  },
  {
   "cell_type": "markdown",
   "metadata": {
    "hidden": true
   },
   "source": [
    "mnli_collected = []\n",
    "lrs = ['0.00001', '0.00002', '0.00003']\n",
    "batches = ['16', '32']\n",
    "\n",
    "for lr in lrs:\n",
    "    for batch in batches:\n",
    "        with open(os.path.join(plot_dir, 'mnli_restarts', f'{lr}_{batch}', 'mnli-only-training_accs.p'), 'rb') as f:\n",
    "            temp_mnli_accs = pickle.load(f)\n",
    "            \n",
    "        for treat in ['baseline', 'LotS', 'LitL']:\n",
    "            temp_df = temp_mnli_accs[treat]\n",
    "            temp_df['iter'] = temp_df['round'].apply(lambda x: int(x[-1]))\n",
    "\n",
    "            for iteration in temp_df['iter'].unique():\n",
    "                temp_acc = temp_df.loc[temp_df['iter'] <= iteration, :]\n",
    "                mnli_collected.append(\n",
    "                    {\n",
    "                        'treat': treat,\n",
    "                        'iter': iteration,\n",
    "                        'model': 'mnli-only',\n",
    "                        'mod': 'full',\n",
    "                        'combined': 'combined',\n",
    "                        'lr': lr,\n",
    "                        'batch': batch,\n",
    "                        'acc': temp_acc['correct'].sum()/temp_acc.shape[0]\n",
    "                    }\n",
    "                )\n",
    "\n",
    "                temp_acc = temp_df.loc[temp_df['iter'] == iteration, :]\n",
    "                mnli_collected.append(\n",
    "                    {\n",
    "                        'treat': treat,\n",
    "                        'iter': iteration,\n",
    "                        'model': 'mnli-only',\n",
    "                        'mod': 'full',\n",
    "                        'combined': 'separate',\n",
    "                        'lr': lr,\n",
    "                        'batch': batch,\n",
    "                        'acc': temp_acc['correct'].sum()/temp_acc.shape[0]\n",
    "                    }\n",
    "                )\n",
    "\n",
    "mnli_df = pd.DataFrame(mnli_collected)"
   ]
  },
  {
   "cell_type": "code",
   "execution_count": 37,
   "metadata": {
    "hidden": true
   },
   "outputs": [],
   "source": [
    "mnli_collected = []\n",
    "n_trials = 10\n",
    "\n",
    "for trial in range(1, n_trials+1):\n",
    "    with open(os.path.join(plot_dir, 'mnli_restarts', 'best', f'{trial}', 'mnli-only-training_accs.p'), 'rb') as f:\n",
    "        temp_mnli_accs = pickle.load(f)\n",
    "\n",
    "    for treat in ['baseline', 'LotS', 'LitL']:\n",
    "        temp_df = temp_mnli_accs[treat]\n",
    "        temp_df['iter'] = temp_df['round'].apply(lambda x: int(x[-1]))\n",
    "\n",
    "        for iteration in temp_df['iter'].unique():\n",
    "            temp_acc = temp_df.loc[temp_df['iter'] <= iteration, :]\n",
    "            mnli_collected.append(\n",
    "                {\n",
    "                    'treat': treat,\n",
    "                    'iter': iteration,\n",
    "                    'model': 'mnli-only',\n",
    "                    'mod': 'full',\n",
    "                    'combined': 'combined',\n",
    "                    'trial': trial,\n",
    "                    'acc': temp_acc['correct'].sum()/temp_acc.shape[0]\n",
    "                }\n",
    "            )\n",
    "\n",
    "            temp_acc = temp_df.loc[temp_df['iter'] == iteration, :]\n",
    "            mnli_collected.append(\n",
    "                {\n",
    "                    'treat': treat,\n",
    "                    'iter': iteration,\n",
    "                    'model': 'mnli-only',\n",
    "                    'mod': 'full',\n",
    "                    'combined': 'separate',\n",
    "                    'trial': trial,\n",
    "                    'acc': temp_acc['correct'].sum()/temp_acc.shape[0]\n",
    "                }\n",
    "            )\n",
    "\n",
    "mnli_df = pd.DataFrame(mnli_collected)"
   ]
  },
  {
   "cell_type": "code",
   "execution_count": 38,
   "metadata": {
    "hidden": true,
    "scrolled": true
   },
   "outputs": [
    {
     "name": "stdout",
     "output_type": "stream",
     "text": [
      "baseline 1 acc mean: 0.841 acc std: 0.012\n",
      "baseline 2 acc mean: 0.854 acc std: 0.006\n",
      "baseline 3 acc mean: 0.860 acc std: 0.007\n",
      "baseline 4 acc mean: 0.862 acc std: 0.008\n",
      "baseline 5 acc mean: 0.866 acc std: 0.005\n",
      "LotS 1 acc mean: 0.817 acc std: 0.011\n",
      "LotS 2 acc mean: 0.812 acc std: 0.010\n",
      "LotS 3 acc mean: 0.821 acc std: 0.008\n",
      "LotS 4 acc mean: 0.827 acc std: 0.007\n",
      "LotS 5 acc mean: 0.823 acc std: 0.006\n",
      "LitL 1 acc mean: 0.860 acc std: 0.011\n",
      "LitL 2 acc mean: 0.845 acc std: 0.009\n",
      "LitL 3 acc mean: 0.838 acc std: 0.009\n",
      "LitL 4 acc mean: 0.839 acc std: 0.010\n",
      "LitL 5 acc mean: 0.836 acc std: 0.009\n"
     ]
    }
   ],
   "source": [
    "mnli_df = mnli_df.loc[mnli_df['combined'] == 'combined', :]\n",
    "\n",
    "for treat in mnli_df['treat'].unique():\n",
    "    for iteration in mnli_df['iter'].unique():\n",
    "        temp_df = mnli_df.loc[mnli_df['treat'] == treat, :]\n",
    "        temp_df = temp_df.loc[temp_df['iter'] == iteration, :]\n",
    "        \n",
    "        print(treat, iteration, f\"acc mean: {temp_df['acc'].mean():.3f}\", f\"acc std: {temp_df['acc'].std():.3f}\")"
   ]
  },
  {
   "cell_type": "code",
   "execution_count": 39,
   "metadata": {
    "hidden": true
   },
   "outputs": [
    {
     "name": "stdout",
     "output_type": "stream",
     "text": [
      "acc ~ C(iter) + C(treat) + C(iter):C(treat)\n",
      "roberta-large-mnli\n",
      "                    sum_sq    df          F        PR(>F)\n",
      "C(iter)           0.000083   1.0   0.926261  3.401266e-01\n",
      "C(treat)          0.013026   2.0  72.745731  4.749797e-16\n",
      "C(iter):C(treat)  0.006278   2.0  35.060489  1.741050e-10\n",
      "Residual          0.004835  54.0        NaN           NaN\n",
      "------------------------------------------------------------------------------------------\n"
     ]
    }
   ],
   "source": [
    "iterations = [1, 5]\n",
    "\n",
    "iter_df = mnli_df.loc[mnli_df['iter'].isin(iterations), :]\n",
    "anova_table = two_way_anova(iter_df)\n",
    "\n",
    "print(model)\n",
    "print(anova_table)\n",
    "print('-'*90)"
   ]
  },
  {
   "cell_type": "markdown",
   "metadata": {
    "hidden": true
   },
   "source": [
    "#### Plotting"
   ]
  },
  {
   "cell_type": "code",
   "execution_count": 40,
   "metadata": {
    "hidden": true
   },
   "outputs": [],
   "source": [
    "plot_df = pd.read_csv(os.path.join(plot_dir, 'collected.csv'))"
   ]
  },
  {
   "cell_type": "code",
   "execution_count": 41,
   "metadata": {
    "hidden": true
   },
   "outputs": [],
   "source": [
    "input_type = 'full'\n",
    "\n",
    "plot_df = plot_df.loc[plot_df['combined'] == combined, :]\n",
    "plot_df = plot_df.loc[plot_df['mod'] == input_type, :]"
   ]
  },
  {
   "cell_type": "code",
   "execution_count": 42,
   "metadata": {
    "hidden": true
   },
   "outputs": [
    {
     "name": "stdout",
     "output_type": "stream",
     "text": [
      "acc ~ C(iter) + C(treat) + C(iter):C(treat)\n",
      "roberta-large\n",
      "                    sum_sq    df         F    PR(>F)\n",
      "C(iter)           0.009287   1.0  0.631617  0.429895\n",
      "C(treat)          0.038552   2.0  1.310954  0.277172\n",
      "C(iter):C(treat)  0.117642   2.0  4.000362  0.023395\n",
      "Residual          0.882239  60.0       NaN       NaN\n",
      "------------------------------------------------------------------------------------------\n",
      "acc ~ C(iter) + C(treat) + C(iter):C(treat)\n",
      "roberta-large-mnli\n",
      "                    sum_sq    df           F        PR(>F)\n",
      "C(iter)           0.000037   1.0    0.988386  3.241299e-01\n",
      "C(treat)          0.018550   2.0  245.427812  1.298386e-29\n",
      "C(iter):C(treat)  0.007667   2.0  101.446507  5.638533e-20\n",
      "Residual          0.002267  60.0         NaN           NaN\n",
      "------------------------------------------------------------------------------------------\n"
     ]
    }
   ],
   "source": [
    "iterations = [1, 5]\n",
    "models = ['roberta-large', 'roberta-large-mnli']\n",
    "\n",
    "for model in models:\n",
    "    iter_df = plot_df.loc[plot_df['iter'].isin(iterations), :]\n",
    "    iter_df = iter_df.loc[iter_df['model'] == model, :]\n",
    "    anova_table = two_way_anova(iter_df)\n",
    "    \n",
    "    print(model)\n",
    "    print(anova_table)\n",
    "    print('-'*90)"
   ]
  },
  {
   "cell_type": "code",
   "execution_count": 43,
   "metadata": {
    "hidden": true
   },
   "outputs": [],
   "source": [
    "plot_df['model'] = plot_df['model'].apply(lambda x: model2plot[x])\n",
    "plot_df['treat'] = plot_df['treat'].apply(lambda x: treat2plot[x])\n",
    "plot_df = plot_df.rename(columns=cols2plot)"
   ]
  },
  {
   "cell_type": "code",
   "execution_count": 44,
   "metadata": {
    "hidden": true,
    "scrolled": true
   },
   "outputs": [
    {
     "name": "stdout",
     "output_type": "stream",
     "text": [
      "here\n"
     ]
    }
   ],
   "source": [
    "ylims={\n",
    "    'roberta-large': [0.6, 0.9],\n",
    "    'roberta-large-mnli': [0.8, 1.0],\n",
    "}\n",
    "title=f'In-domain Validation'\n",
    "xlabel='Iteration'\n",
    "ylabel='Accuracy'\n",
    "tabletitle='Median'\n",
    "tableon=False\n",
    "\n",
    "figsize = (7, 4)\n",
    "\n",
    "err_line_plots(\n",
    "    plot_df,\n",
    "    err_style=err_style,\n",
    "    ylim=ylims[_model],\n",
    "    title=title,\n",
    "    xlabel=xlabel,\n",
    "    ylabel=ylabel,\n",
    "    tabletitle=tabletitle,\n",
    "    palette=palette,\n",
    "    tableon=tableon,\n",
    "    style_key=style_key,\n",
    "    style_order=style_order,\n",
    "    figsize=figsize,\n",
    "    hue=hue,\n",
    "    hue_order=hue_order,\n",
    "    xlim=xlim,\n",
    "    err_kws=err_kws,\n",
    "    ax=ax[0],\n",
    "    ystep=0.05 if _model == 'roberta-large-mnli' else 0.1,\n",
    "    legend_visible=True,\n",
    "    xlabel_visible=False,\n",
    "    error_offsets=error_offsets,\n",
    ")\n",
    "# if save_figs:\n",
    "#     fig.savefig(os.path.join(plot_out, f'{combined}_indomain_val.{figtype}'))"
   ]
  },
  {
   "cell_type": "markdown",
   "metadata": {
    "hidden": true
   },
   "source": [
    "### Hyp"
   ]
  },
  {
   "cell_type": "code",
   "execution_count": 45,
   "metadata": {
    "hidden": true
   },
   "outputs": [],
   "source": [
    "plot_df = pd.read_csv(os.path.join(plot_dir, 'collected.csv'))"
   ]
  },
  {
   "cell_type": "code",
   "execution_count": 46,
   "metadata": {
    "hidden": true
   },
   "outputs": [],
   "source": [
    "input_type = 'hyp'\n",
    "\n",
    "plot_df = plot_df.loc[plot_df['combined'] == combined, :]\n",
    "plot_df = plot_df.loc[plot_df['mod'] == input_type, :]"
   ]
  },
  {
   "cell_type": "code",
   "execution_count": 47,
   "metadata": {
    "hidden": true
   },
   "outputs": [
    {
     "name": "stdout",
     "output_type": "stream",
     "text": [
      "acc ~ C(iter) + C(treat) + C(iter):C(treat)\n",
      "roberta-large\n",
      "                    sum_sq    df          F    PR(>F)\n",
      "C(iter)           0.023914   1.0  10.343665  0.002095\n",
      "C(treat)          0.075884   2.0  16.410916  0.000002\n",
      "C(iter):C(treat)  0.014604   2.0   3.158400  0.049640\n",
      "Residual          0.138719  60.0        NaN       NaN\n",
      "------------------------------------------------------------------------------------------\n",
      "acc ~ C(iter) + C(treat) + C(iter):C(treat)\n",
      "roberta-large-mnli\n",
      "                    sum_sq    df           F        PR(>F)\n",
      "C(iter)           0.000900   1.0    7.935376  6.553143e-03\n",
      "C(treat)          0.039800   2.0  175.528151  8.462490e-26\n",
      "C(iter):C(treat)  0.004758   2.0   20.986339  1.230333e-07\n",
      "Residual          0.006802  60.0         NaN           NaN\n",
      "------------------------------------------------------------------------------------------\n"
     ]
    }
   ],
   "source": [
    "# 2-way ANOVA\n",
    "\n",
    "iterations = [1, 5]\n",
    "models = ['roberta-large', 'roberta-large-mnli']\n",
    "\n",
    "for model in models:\n",
    "    iter_df = plot_df.loc[plot_df['iter'].isin(iterations), :]\n",
    "    iter_df = iter_df.loc[iter_df['model'] == model, :]\n",
    "    anova_table = two_way_anova(iter_df)\n",
    "    \n",
    "    print(model)\n",
    "    print(anova_table)\n",
    "    print('-'*90)"
   ]
  },
  {
   "cell_type": "code",
   "execution_count": 48,
   "metadata": {
    "hidden": true
   },
   "outputs": [
    {
     "name": "stdout",
     "output_type": "stream",
     "text": [
      "acc ~ C(iter)\n",
      "roberta-large baseline\n",
      "            df    sum_sq   mean_sq          F        PR(>F)\n",
      "C(iter)    1.0  0.017831  0.017831  89.984266  7.625762e-09\n",
      "Residual  20.0  0.003963  0.000198        NaN           NaN\n",
      "------------------------------------------------------------------------------------------\n",
      "acc ~ C(iter)\n",
      "roberta-large LotS\n",
      "            df    sum_sq   mean_sq         F    PR(>F)\n",
      "C(iter)    1.0  0.000085  0.000085  0.039378  0.844705\n",
      "Residual  20.0  0.043177  0.002159       NaN       NaN\n",
      "------------------------------------------------------------------------------------------\n",
      "acc ~ C(iter)\n",
      "roberta-large LitL\n",
      "            df    sum_sq   mean_sq         F    PR(>F)\n",
      "C(iter)    1.0  0.020602  0.020602  4.499409  0.046597\n",
      "Residual  20.0  0.091579  0.004579       NaN       NaN\n",
      "------------------------------------------------------------------------------------------\n",
      "acc ~ C(iter)\n",
      "roberta-large-mnli baseline\n",
      "            df    sum_sq   mean_sq          F    PR(>F)\n",
      "C(iter)    1.0  0.005404  0.005404  41.383598  0.000003\n",
      "Residual  20.0  0.002612  0.000131        NaN       NaN\n",
      "------------------------------------------------------------------------------------------\n",
      "acc ~ C(iter)\n",
      "roberta-large-mnli LotS\n",
      "            df    sum_sq   mean_sq         F   PR(>F)\n",
      "C(iter)    1.0  0.000056  0.000056  0.726254  0.40419\n",
      "Residual  20.0  0.001549  0.000077       NaN      NaN\n",
      "------------------------------------------------------------------------------------------\n",
      "acc ~ C(iter)\n",
      "roberta-large-mnli LitL\n",
      "            df    sum_sq   mean_sq         F    PR(>F)\n",
      "C(iter)    1.0  0.000198  0.000198  1.497133  0.235334\n",
      "Residual  20.0  0.002641  0.000132       NaN       NaN\n",
      "------------------------------------------------------------------------------------------\n"
     ]
    }
   ],
   "source": [
    "# follow-up 1-way ANOVA\n",
    "\n",
    "iterations = [1, 5]\n",
    "models = ['roberta-large', 'roberta-large-mnli']\n",
    "\n",
    "for model in models:\n",
    "    for protocol in plot_df['treat'].unique():\n",
    "        iter_df = plot_df.loc[plot_df['iter'].isin(iterations), :]\n",
    "        iter_df = iter_df.loc[iter_df['model'] == model, :]\n",
    "        iter_df = iter_df.loc[iter_df['treat'] == protocol, :]\n",
    "        anova_table = one_way_anova(iter_df)\n",
    "\n",
    "        print(model, protocol)\n",
    "        print(anova_table)\n",
    "        print('-'*90)"
   ]
  },
  {
   "cell_type": "code",
   "execution_count": 49,
   "metadata": {
    "hidden": true
   },
   "outputs": [],
   "source": [
    "plot_df['model'] = plot_df['model'].apply(lambda x: model2plot[x])\n",
    "plot_df['treat'] = plot_df['treat'].apply(lambda x: treat2plot[x])\n",
    "plot_df = plot_df.rename(columns=cols2plot)"
   ]
  },
  {
   "cell_type": "code",
   "execution_count": 50,
   "metadata": {
    "hidden": true,
    "scrolled": false
   },
   "outputs": [
    {
     "name": "stdout",
     "output_type": "stream",
     "text": [
      "here\n"
     ]
    }
   ],
   "source": [
    "ylims={\n",
    "    'roberta-large': [0.4,0.7],\n",
    "    'roberta-large-mnli': [0.4, 0.7],\n",
    "}\n",
    "title=f'Hypothesis-only Input'\n",
    "xlabel='Iteration'\n",
    "ylabel='Accuracy'\n",
    "tabletitle='Median'\n",
    "tableon=False\n",
    "# figsize = (7, 3)\n",
    "\n",
    "err_line_plots(\n",
    "    plot_df,\n",
    "    err_style=err_style,\n",
    "    ylim=ylims[_model],\n",
    "    title=title,\n",
    "    xlabel=xlabel,\n",
    "    ylabel=ylabel,\n",
    "    tabletitle=tabletitle,\n",
    "    palette=palette,\n",
    "    tableon=tableon,\n",
    "    style_key=style_key,\n",
    "    style_order=style_order,\n",
    "    figsize=figsize,\n",
    "    err_kws=err_kws,\n",
    "    hue=hue,\n",
    "    hue_order=hue_order,\n",
    "    xlim=xlim,\n",
    "    xlabel_visible=True,\n",
    "    legend_visible=False,\n",
    "    ax=ax[1],\n",
    "    error_offsets=error_offsets,\n",
    ")\n",
    "# if save_figs:\n",
    "#     fig.savefig(os.path.join(plot_out, f'{combined}_hypothesis_only.{figtype}'))"
   ]
  },
  {
   "cell_type": "markdown",
   "metadata": {
    "hidden": true
   },
   "source": [
    "### Save"
   ]
  },
  {
   "cell_type": "code",
   "execution_count": 51,
   "metadata": {
    "hidden": true
   },
   "outputs": [],
   "source": [
    "fig.tight_layout()\n",
    "if save_figs:\n",
    "    fig.savefig(os.path.join(plot_out, f'{combined}_indomain.{figtype}'))"
   ]
  },
  {
   "cell_type": "markdown",
   "metadata": {
    "heading_collapsed": true
   },
   "source": [
    "## Iterative"
   ]
  },
  {
   "cell_type": "code",
   "execution_count": 52,
   "metadata": {
    "hidden": true
   },
   "outputs": [],
   "source": [
    "iterations = [1, 5]\n",
    "models = style_order\n",
    "iter_l_offset = -0.75 if _model == 'roberta-large' else -1.75\n",
    "iter_c_offset = +0.02"
   ]
  },
  {
   "cell_type": "code",
   "execution_count": 53,
   "metadata": {
    "hidden": true
   },
   "outputs": [],
   "source": [
    "error_offsets = [\n",
    "        {\n",
    "            'line':-(err_line_offset+iter_l_offset),\n",
    "            'cap':-(err_cap_offset+iter_c_offset),\n",
    "        },\n",
    "        {\n",
    "            'line':0,\n",
    "            'cap':0,\n",
    "        },\n",
    "        {\n",
    "            'line':+(err_line_offset+iter_l_offset),\n",
    "            'cap':+(err_cap_offset+iter_c_offset),\n",
    "        }\n",
    "    ]"
   ]
  },
  {
   "cell_type": "code",
   "execution_count": 54,
   "metadata": {
    "hidden": true
   },
   "outputs": [
    {
     "data": {
      "application/vnd.jupyter.widget-view+json": {
       "model_id": "58c3f38f37334b008a6f07a576df82f3",
       "version_major": 2,
       "version_minor": 0
      },
      "text/plain": [
       "Canvas(toolbar=Toolbar(toolitems=[('Home', 'Reset original view', 'home', 'home'), ('Back', 'Back to previous …"
      ]
     },
     "metadata": {},
     "output_type": "display_data"
    },
    {
     "ename": "RuntimeError",
     "evalue": "libpng signaled error",
     "output_type": "error",
     "traceback": [
      "\u001b[1;31m---------------------------------------------------------------------------\u001b[0m",
      "\u001b[1;31mRuntimeError\u001b[0m                              Traceback (most recent call last)",
      "\u001b[1;32m~\\Anaconda3\\envs\\DL\\lib\\site-packages\\ipympl\\backend_nbagg.py\u001b[0m in \u001b[0;36m_handle_message\u001b[1;34m(self, object, content, buffers)\u001b[0m\n\u001b[0;32m    178\u001b[0m             \u001b[0mself\u001b[0m\u001b[1;33m.\u001b[0m\u001b[0mmanager\u001b[0m\u001b[1;33m.\u001b[0m\u001b[0mresize\u001b[0m\u001b[1;33m(\u001b[0m\u001b[0mw\u001b[0m\u001b[1;33m,\u001b[0m \u001b[0mh\u001b[0m\u001b[1;33m)\u001b[0m\u001b[1;33m\u001b[0m\u001b[1;33m\u001b[0m\u001b[0m\n\u001b[0;32m    179\u001b[0m         \u001b[1;32melse\u001b[0m\u001b[1;33m:\u001b[0m\u001b[1;33m\u001b[0m\u001b[1;33m\u001b[0m\u001b[0m\n\u001b[1;32m--> 180\u001b[1;33m             \u001b[0mself\u001b[0m\u001b[1;33m.\u001b[0m\u001b[0mmanager\u001b[0m\u001b[1;33m.\u001b[0m\u001b[0mhandle_json\u001b[0m\u001b[1;33m(\u001b[0m\u001b[0mcontent\u001b[0m\u001b[1;33m)\u001b[0m\u001b[1;33m\u001b[0m\u001b[1;33m\u001b[0m\u001b[0m\n\u001b[0m\u001b[0;32m    181\u001b[0m \u001b[1;33m\u001b[0m\u001b[0m\n\u001b[0;32m    182\u001b[0m     \u001b[1;32mdef\u001b[0m \u001b[0msend_json\u001b[0m\u001b[1;33m(\u001b[0m\u001b[0mself\u001b[0m\u001b[1;33m,\u001b[0m \u001b[0mcontent\u001b[0m\u001b[1;33m)\u001b[0m\u001b[1;33m:\u001b[0m\u001b[1;33m\u001b[0m\u001b[1;33m\u001b[0m\u001b[0m\n",
      "\u001b[1;32m~\\Anaconda3\\envs\\DL\\lib\\site-packages\\matplotlib\\backends\\backend_webagg_core.py\u001b[0m in \u001b[0;36mhandle_json\u001b[1;34m(self, content)\u001b[0m\n\u001b[0;32m    437\u001b[0m \u001b[1;33m\u001b[0m\u001b[0m\n\u001b[0;32m    438\u001b[0m     \u001b[1;32mdef\u001b[0m \u001b[0mhandle_json\u001b[0m\u001b[1;33m(\u001b[0m\u001b[0mself\u001b[0m\u001b[1;33m,\u001b[0m \u001b[0mcontent\u001b[0m\u001b[1;33m)\u001b[0m\u001b[1;33m:\u001b[0m\u001b[1;33m\u001b[0m\u001b[1;33m\u001b[0m\u001b[0m\n\u001b[1;32m--> 439\u001b[1;33m         \u001b[0mself\u001b[0m\u001b[1;33m.\u001b[0m\u001b[0mcanvas\u001b[0m\u001b[1;33m.\u001b[0m\u001b[0mhandle_event\u001b[0m\u001b[1;33m(\u001b[0m\u001b[0mcontent\u001b[0m\u001b[1;33m)\u001b[0m\u001b[1;33m\u001b[0m\u001b[1;33m\u001b[0m\u001b[0m\n\u001b[0m\u001b[0;32m    440\u001b[0m \u001b[1;33m\u001b[0m\u001b[0m\n\u001b[0;32m    441\u001b[0m     \u001b[1;32mdef\u001b[0m \u001b[0mrefresh_all\u001b[0m\u001b[1;33m(\u001b[0m\u001b[0mself\u001b[0m\u001b[1;33m)\u001b[0m\u001b[1;33m:\u001b[0m\u001b[1;33m\u001b[0m\u001b[1;33m\u001b[0m\u001b[0m\n",
      "\u001b[1;32m~\\Anaconda3\\envs\\DL\\lib\\site-packages\\matplotlib\\backends\\backend_webagg_core.py\u001b[0m in \u001b[0;36mhandle_event\u001b[1;34m(self, event)\u001b[0m\n\u001b[0;32m    238\u001b[0m         handler = getattr(self, 'handle_{0}'.format(e_type),\n\u001b[0;32m    239\u001b[0m                           self.handle_unknown_event)\n\u001b[1;32m--> 240\u001b[1;33m         \u001b[1;32mreturn\u001b[0m \u001b[0mhandler\u001b[0m\u001b[1;33m(\u001b[0m\u001b[0mevent\u001b[0m\u001b[1;33m)\u001b[0m\u001b[1;33m\u001b[0m\u001b[1;33m\u001b[0m\u001b[0m\n\u001b[0m\u001b[0;32m    241\u001b[0m \u001b[1;33m\u001b[0m\u001b[0m\n\u001b[0;32m    242\u001b[0m     \u001b[1;32mdef\u001b[0m \u001b[0mhandle_unknown_event\u001b[0m\u001b[1;33m(\u001b[0m\u001b[0mself\u001b[0m\u001b[1;33m,\u001b[0m \u001b[0mevent\u001b[0m\u001b[1;33m)\u001b[0m\u001b[1;33m:\u001b[0m\u001b[1;33m\u001b[0m\u001b[1;33m\u001b[0m\u001b[0m\n",
      "\u001b[1;32m~\\Anaconda3\\envs\\DL\\lib\\site-packages\\matplotlib\\backends\\backend_webagg_core.py\u001b[0m in \u001b[0;36mhandle_draw\u001b[1;34m(self, event)\u001b[0m\n\u001b[0;32m    254\u001b[0m \u001b[1;33m\u001b[0m\u001b[0m\n\u001b[0;32m    255\u001b[0m     \u001b[1;32mdef\u001b[0m \u001b[0mhandle_draw\u001b[0m\u001b[1;33m(\u001b[0m\u001b[0mself\u001b[0m\u001b[1;33m,\u001b[0m \u001b[0mevent\u001b[0m\u001b[1;33m)\u001b[0m\u001b[1;33m:\u001b[0m\u001b[1;33m\u001b[0m\u001b[1;33m\u001b[0m\u001b[0m\n\u001b[1;32m--> 256\u001b[1;33m         \u001b[0mself\u001b[0m\u001b[1;33m.\u001b[0m\u001b[0mdraw\u001b[0m\u001b[1;33m(\u001b[0m\u001b[1;33m)\u001b[0m\u001b[1;33m\u001b[0m\u001b[1;33m\u001b[0m\u001b[0m\n\u001b[0m\u001b[0;32m    257\u001b[0m \u001b[1;33m\u001b[0m\u001b[0m\n\u001b[0;32m    258\u001b[0m     \u001b[1;32mdef\u001b[0m \u001b[0m_handle_mouse\u001b[0m\u001b[1;33m(\u001b[0m\u001b[0mself\u001b[0m\u001b[1;33m,\u001b[0m \u001b[0mevent\u001b[0m\u001b[1;33m)\u001b[0m\u001b[1;33m:\u001b[0m\u001b[1;33m\u001b[0m\u001b[1;33m\u001b[0m\u001b[0m\n",
      "\u001b[1;32m~\\Anaconda3\\envs\\DL\\lib\\site-packages\\matplotlib\\backends\\backend_webagg_core.py\u001b[0m in \u001b[0;36mdraw\u001b[1;34m(self)\u001b[0m\n\u001b[0;32m    151\u001b[0m             \u001b[0msuper\u001b[0m\u001b[1;33m(\u001b[0m\u001b[1;33m)\u001b[0m\u001b[1;33m.\u001b[0m\u001b[0mdraw\u001b[0m\u001b[1;33m(\u001b[0m\u001b[1;33m)\u001b[0m\u001b[1;33m\u001b[0m\u001b[1;33m\u001b[0m\u001b[0m\n\u001b[0;32m    152\u001b[0m         \u001b[1;32mfinally\u001b[0m\u001b[1;33m:\u001b[0m\u001b[1;33m\u001b[0m\u001b[1;33m\u001b[0m\u001b[0m\n\u001b[1;32m--> 153\u001b[1;33m             \u001b[0mself\u001b[0m\u001b[1;33m.\u001b[0m\u001b[0mmanager\u001b[0m\u001b[1;33m.\u001b[0m\u001b[0mrefresh_all\u001b[0m\u001b[1;33m(\u001b[0m\u001b[1;33m)\u001b[0m  \u001b[1;31m# Swap the frames.\u001b[0m\u001b[1;33m\u001b[0m\u001b[1;33m\u001b[0m\u001b[0m\n\u001b[0m\u001b[0;32m    154\u001b[0m \u001b[1;33m\u001b[0m\u001b[0m\n\u001b[0;32m    155\u001b[0m     \u001b[1;32mdef\u001b[0m \u001b[0mdraw_idle\u001b[0m\u001b[1;33m(\u001b[0m\u001b[0mself\u001b[0m\u001b[1;33m)\u001b[0m\u001b[1;33m:\u001b[0m\u001b[1;33m\u001b[0m\u001b[1;33m\u001b[0m\u001b[0m\n",
      "\u001b[1;32m~\\Anaconda3\\envs\\DL\\lib\\site-packages\\matplotlib\\backends\\backend_webagg_core.py\u001b[0m in \u001b[0;36mrefresh_all\u001b[1;34m(self)\u001b[0m\n\u001b[0;32m    441\u001b[0m     \u001b[1;32mdef\u001b[0m \u001b[0mrefresh_all\u001b[0m\u001b[1;33m(\u001b[0m\u001b[0mself\u001b[0m\u001b[1;33m)\u001b[0m\u001b[1;33m:\u001b[0m\u001b[1;33m\u001b[0m\u001b[1;33m\u001b[0m\u001b[0m\n\u001b[0;32m    442\u001b[0m         \u001b[1;32mif\u001b[0m \u001b[0mself\u001b[0m\u001b[1;33m.\u001b[0m\u001b[0mweb_sockets\u001b[0m\u001b[1;33m:\u001b[0m\u001b[1;33m\u001b[0m\u001b[1;33m\u001b[0m\u001b[0m\n\u001b[1;32m--> 443\u001b[1;33m             \u001b[0mdiff\u001b[0m \u001b[1;33m=\u001b[0m \u001b[0mself\u001b[0m\u001b[1;33m.\u001b[0m\u001b[0mcanvas\u001b[0m\u001b[1;33m.\u001b[0m\u001b[0mget_diff_image\u001b[0m\u001b[1;33m(\u001b[0m\u001b[1;33m)\u001b[0m\u001b[1;33m\u001b[0m\u001b[1;33m\u001b[0m\u001b[0m\n\u001b[0m\u001b[0;32m    444\u001b[0m             \u001b[1;32mif\u001b[0m \u001b[0mdiff\u001b[0m \u001b[1;32mis\u001b[0m \u001b[1;32mnot\u001b[0m \u001b[1;32mNone\u001b[0m\u001b[1;33m:\u001b[0m\u001b[1;33m\u001b[0m\u001b[1;33m\u001b[0m\u001b[0m\n\u001b[0;32m    445\u001b[0m                 \u001b[1;32mfor\u001b[0m \u001b[0ms\u001b[0m \u001b[1;32min\u001b[0m \u001b[0mself\u001b[0m\u001b[1;33m.\u001b[0m\u001b[0mweb_sockets\u001b[0m\u001b[1;33m:\u001b[0m\u001b[1;33m\u001b[0m\u001b[1;33m\u001b[0m\u001b[0m\n",
      "\u001b[1;32m~\\Anaconda3\\envs\\DL\\lib\\site-packages\\matplotlib\\backends\\backend_webagg_core.py\u001b[0m in \u001b[0;36mget_diff_image\u001b[1;34m(self)\u001b[0m\n\u001b[0;32m    199\u001b[0m             buff = _png.write_png(\n\u001b[0;32m    200\u001b[0m                 \u001b[0moutput\u001b[0m\u001b[1;33m.\u001b[0m\u001b[0mview\u001b[0m\u001b[1;33m(\u001b[0m\u001b[0mdtype\u001b[0m\u001b[1;33m=\u001b[0m\u001b[0mnp\u001b[0m\u001b[1;33m.\u001b[0m\u001b[0muint8\u001b[0m\u001b[1;33m)\u001b[0m\u001b[1;33m.\u001b[0m\u001b[0mreshape\u001b[0m\u001b[1;33m(\u001b[0m\u001b[0moutput\u001b[0m\u001b[1;33m.\u001b[0m\u001b[0mshape\u001b[0m \u001b[1;33m+\u001b[0m \u001b[1;33m(\u001b[0m\u001b[1;36m4\u001b[0m\u001b[1;33m,\u001b[0m\u001b[1;33m)\u001b[0m\u001b[1;33m)\u001b[0m\u001b[1;33m,\u001b[0m\u001b[1;33m\u001b[0m\u001b[1;33m\u001b[0m\u001b[0m\n\u001b[1;32m--> 201\u001b[1;33m                 None, compression=6, filter=_png.PNG_FILTER_NONE)\n\u001b[0m\u001b[0;32m    202\u001b[0m \u001b[1;33m\u001b[0m\u001b[0m\n\u001b[0;32m    203\u001b[0m             \u001b[1;31m# Swap the renderer frames\u001b[0m\u001b[1;33m\u001b[0m\u001b[1;33m\u001b[0m\u001b[1;33m\u001b[0m\u001b[0m\n",
      "\u001b[1;31mRuntimeError\u001b[0m: libpng signaled error"
     ]
    }
   ],
   "source": [
    "figsize = (15, 5)\n",
    "fig, ax = plt.subplots(2, 4, figsize=figsize) # top is GLUE bottom is HANS\n",
    "ax[1, 3].set_axis_off()"
   ]
  },
  {
   "cell_type": "markdown",
   "metadata": {
    "heading_collapsed": true,
    "hidden": true
   },
   "source": [
    "### GLUE"
   ]
  },
  {
   "cell_type": "code",
   "execution_count": 55,
   "metadata": {
    "hidden": true,
    "scrolled": false
   },
   "outputs": [],
   "source": [
    "plot_df = pd.read_csv(os.path.join(plot_dir, 'glue.csv'))"
   ]
  },
  {
   "cell_type": "code",
   "execution_count": 56,
   "metadata": {
    "hidden": true,
    "scrolled": true
   },
   "outputs": [],
   "source": [
    "mnli_collected = []\n",
    "temp_df = mnli_accs['glue']\n",
    "temp_df['case_text'] = temp_df['case'].apply(lambda x: x[0] if len(x) > 0 else '')\n",
    "\n",
    "for case in temp_df['case_text'].unique():\n",
    "    temp_acc = temp_df.loc[temp_df['case_text'] == case, :]\n",
    "    mnli_collected.append({\n",
    "        'acc': temp_acc['correct'].sum()/temp_acc.shape[0],\n",
    "        'subcase': 'combined',\n",
    "        'label': 'combined',\n",
    "        'model': 'mnli-only',\n",
    "        'case': case,\n",
    "    })\n",
    "    \n",
    "    for label in temp_acc['label'].unique():\n",
    "        temptemp_acc = temp_acc.loc[temp_acc['label'] == label, :]\n",
    "        mnli_collected.append({\n",
    "            'acc': temptemp_acc['correct'].sum()/temptemp_acc.shape[0],\n",
    "            'subcase': 'combined',\n",
    "            'label': label,\n",
    "            'model': 'mnli-only',\n",
    "            'case': case,\n",
    "        })\n",
    "mnli_df = pd.DataFrame(mnli_collected)"
   ]
  },
  {
   "cell_type": "code",
   "execution_count": 57,
   "metadata": {
    "hidden": true
   },
   "outputs": [],
   "source": [
    "label = 'combined'\n",
    "\n",
    "plot_df = plot_df.loc[plot_df['comb'] == combined, :]\n",
    "plot_df = plot_df.loc[plot_df['label'] == label, :]\n",
    "plot_df = plot_df.loc[plot_df['subcase'] == 'combined', :]"
   ]
  },
  {
   "cell_type": "code",
   "execution_count": 58,
   "metadata": {
    "hidden": true
   },
   "outputs": [],
   "source": [
    "mnli_df = mnli_df.loc[mnli_df['label'] == label, :]\n",
    "mnli_df = mnli_df.loc[mnli_df['subcase'] == 'combined', :]"
   ]
  },
  {
   "cell_type": "code",
   "execution_count": 59,
   "metadata": {
    "hidden": true
   },
   "outputs": [],
   "source": [
    "plot_df['model'] = plot_df['model'].apply(lambda x: model2plot[x])\n",
    "plot_df['treat'] = plot_df['treat'].apply(lambda x: treat2plot[x])\n",
    "plot_df = plot_df.rename(columns=cols2plot)"
   ]
  },
  {
   "cell_type": "code",
   "execution_count": 60,
   "metadata": {
    "hidden": true,
    "scrolled": false
   },
   "outputs": [
    {
     "name": "stdout",
     "output_type": "stream",
     "text": [
      "here\n",
      "acc ~ C(iter) + C(Protocol) + C(iter):C(Protocol)\n",
      "RoBERTa$_{\\rm{Lg+MNLI}}$ Knowledge\n",
      "                       sum_sq    df         F    PR(>F)\n",
      "C(iter)              0.001993   1.0  8.256031  0.005609\n",
      "C(Protocol)          0.001371   2.0  2.838911  0.066371\n",
      "C(iter):C(Protocol)  0.000948   2.0  1.964202  0.149184\n",
      "Residual             0.014484  60.0       NaN       NaN\n",
      "------------------------------------------------------------------------------------------\n",
      "here\n",
      "acc ~ C(iter) + C(Protocol) + C(iter):C(Protocol)\n",
      "RoBERTa$_{\\rm{Lg+MNLI}}$ Lexical Semantics\n",
      "                       sum_sq    df          F    PR(>F)\n",
      "C(iter)              0.000122   1.0   1.013589  0.318088\n",
      "C(Protocol)          0.000409   2.0   1.701415  0.191108\n",
      "C(iter):C(Protocol)  0.002908   2.0  12.096054  0.000039\n",
      "Residual             0.007212  60.0        NaN       NaN\n",
      "------------------------------------------------------------------------------------------\n",
      "here\n",
      "acc ~ C(iter) + C(Protocol) + C(iter):C(Protocol)\n",
      "RoBERTa$_{\\rm{Lg+MNLI}}$ Logic\n",
      "                       sum_sq    df         F    PR(>F)\n",
      "C(iter)              0.000321   1.0  2.708775  0.105027\n",
      "C(Protocol)          0.000033   2.0  0.138862  0.870627\n",
      "C(iter):C(Protocol)  0.001277   2.0  5.384764  0.007066\n",
      "Residual             0.007115  60.0       NaN       NaN\n",
      "------------------------------------------------------------------------------------------\n",
      "here\n",
      "acc ~ C(iter) + C(Protocol) + C(iter):C(Protocol)\n",
      "RoBERTa$_{\\rm{Lg+MNLI}}$ Predicate-Argument Structure\n",
      "                       sum_sq    df         F    PR(>F)\n",
      "C(iter)              0.000041   1.0  0.654408  0.421737\n",
      "C(Protocol)          0.000093   2.0  0.742293  0.480341\n",
      "C(iter):C(Protocol)  0.000129   2.0  1.031639  0.362657\n",
      "Residual             0.003740  60.0       NaN       NaN\n",
      "------------------------------------------------------------------------------------------\n"
     ]
    }
   ],
   "source": [
    "ylims={\n",
    "    'roberta-large':{\n",
    "        'Knowledge':[0.4,0.7],\n",
    "        'Lexical Semantics':[0.5, 0.8],\n",
    "        'Logic': [0.4,0.7],\n",
    "        'Predicate-Argument Structure':[0.5,0.8],\n",
    "    },\n",
    "    'roberta-large-mnli':{\n",
    "        'Knowledge':[0.4,0.7],\n",
    "        'Lexical Semantics':[0.5, 0.8],\n",
    "        'Logic': [0.4,0.7],\n",
    "        'Predicate-Argument Structure':[0.5,0.8],\n",
    "    },\n",
    "}\n",
    "title=f\"\"\n",
    "xlabel='Iteration'\n",
    "ylabel='GLUE'\n",
    "tabletitle='median'\n",
    "tableon=False\n",
    "\n",
    "glue_keys = pd.read_csv('glue_case_keys.csv')\n",
    "\n",
    "i = 0\n",
    "for case in glue_keys['case'].unique():\n",
    "    if case == 'combined':\n",
    "        continue\n",
    "    \n",
    "    temp_df = plot_df.loc[plot_df['case'] == case, :]\n",
    "    err_line_plots(\n",
    "        temp_df,\n",
    "        err_style=err_style,\n",
    "        ylim=ylims[_model][case],\n",
    "        title=f\"{case}\",\n",
    "        xlabel=xlabel if i == len(glue_keys['case'].unique()) - 2 else None,\n",
    "        ylabel=ylabel,\n",
    "        tabletitle=tabletitle,\n",
    "        palette=palette,\n",
    "        tableon=tableon,\n",
    "        style_key=style_key,\n",
    "        style_order=style_order,\n",
    "        ax=ax[0, i],\n",
    "        ylabel_visible = i == 0,\n",
    "        legend_visible = False,\n",
    "#         bbox_to_anchor=bbox_to_anchor,\n",
    "        err_kws=err_kws,\n",
    "        hue=hue,\n",
    "        hue_order=hue_order,\n",
    "        xlim=xlim,\n",
    "        error_offsets=error_offsets,\n",
    "    )\n",
    "    \n",
    "    if _model == 'roberta-large-mnli':\n",
    "        temp_mnli = mnli_df.loc[mnli_df['case'] == case, :]\n",
    "        ax[0, i].hlines(temp_mnli['acc'], xlim[0], xlim[1], label='mnli-only', zorder=10)\n",
    "    \n",
    "    i += 1\n",
    "    \n",
    "    for model in models:\n",
    "        iter_df = temp_df.loc[temp_df['iter'].isin(iterations), :]\n",
    "        iter_df = iter_df.loc[iter_df['Model'] == model, :]\n",
    "        anova_table = two_way_anova(iter_df, f2='Protocol')\n",
    "\n",
    "        print(model, case)\n",
    "        print(anova_table)\n",
    "        print('-'*90)"
   ]
  },
  {
   "cell_type": "markdown",
   "metadata": {
    "heading_collapsed": true,
    "hidden": true
   },
   "source": [
    "### HANS non-entailment"
   ]
  },
  {
   "cell_type": "code",
   "execution_count": 61,
   "metadata": {
    "hidden": true,
    "scrolled": true
   },
   "outputs": [
    {
     "name": "stderr",
     "output_type": "stream",
     "text": [
      "C:\\Users\\Willi\\Anaconda3\\envs\\DL\\lib\\site-packages\\IPython\\core\\interactiveshell.py:3063: DtypeWarning: Columns (6,10) have mixed types.Specify dtype option on import or set low_memory=False.\n",
      "  interactivity=interactivity, compiler=compiler, result=result)\n"
     ]
    }
   ],
   "source": [
    "plot_df = pd.read_csv(os.path.join(plot_dir, 'hans.csv'))"
   ]
  },
  {
   "cell_type": "code",
   "execution_count": 62,
   "metadata": {
    "hidden": true,
    "scrolled": true
   },
   "outputs": [],
   "source": [
    "mnli_collected = []\n",
    "temp_df = mnli_accs['hans']\n",
    "temp_df['case_text'] = temp_df['case']\n",
    "\n",
    "for case in temp_df['case_text'].unique():\n",
    "    temp_acc = temp_df.loc[temp_df['case_text'] == case, :]\n",
    "    mnli_collected.append({\n",
    "        'acc': temp_acc['correct'].sum()/temp_acc.shape[0],\n",
    "        'subcase': 'combined',\n",
    "        'label': 'combined',\n",
    "        'model': 'mnli-only',\n",
    "        'case': case,\n",
    "    })\n",
    "    \n",
    "    for label in temp_acc['label'].unique():\n",
    "        temptemp_acc = temp_acc.loc[temp_acc['label'] == label, :]\n",
    "        mnli_collected.append({\n",
    "            'acc': temptemp_acc['correct'].sum()/temptemp_acc.shape[0],\n",
    "            'subcase': 'combined',\n",
    "            'label': 'non-entailment' if label == 'contradiction' else label,\n",
    "            'model': 'mnli-only',\n",
    "            'case': case,\n",
    "        })\n",
    "mnli_df = pd.DataFrame(mnli_collected)"
   ]
  },
  {
   "cell_type": "code",
   "execution_count": 63,
   "metadata": {
    "hidden": true
   },
   "outputs": [],
   "source": [
    "label = 'non-entailment'\n",
    "\n",
    "plot_df = plot_df.loc[plot_df['comb'] == combined, :]\n",
    "plot_df = plot_df.loc[plot_df['label'] == label, :]\n",
    "plot_df = plot_df.loc[plot_df['subcase'] == 'combined', :]"
   ]
  },
  {
   "cell_type": "code",
   "execution_count": 64,
   "metadata": {
    "hidden": true
   },
   "outputs": [],
   "source": [
    "mnli_df = mnli_df.loc[mnli_df['label'] == label, :]\n",
    "mnli_df = mnli_df.loc[mnli_df['subcase'] == 'combined', :]"
   ]
  },
  {
   "cell_type": "code",
   "execution_count": 65,
   "metadata": {
    "hidden": true
   },
   "outputs": [],
   "source": [
    "plot_df['model'] = plot_df['model'].apply(lambda x: model2plot[x])\n",
    "plot_df['treat'] = plot_df['treat'].apply(lambda x: treat2plot[x])\n",
    "plot_df = plot_df.rename(columns=cols2plot)"
   ]
  },
  {
   "cell_type": "code",
   "execution_count": 66,
   "metadata": {
    "hidden": true,
    "scrolled": false
   },
   "outputs": [
    {
     "name": "stdout",
     "output_type": "stream",
     "text": [
      "here\n",
      "acc ~ C(iter) + C(Protocol) + C(iter):C(Protocol)\n",
      "RoBERTa$_{\\rm{Lg+MNLI}}$ constituent\n",
      "                       sum_sq    df         F    PR(>F)\n",
      "C(iter)              0.002607   1.0  0.270134  0.605154\n",
      "C(Protocol)          0.141774   2.0  7.345322  0.001401\n",
      "C(iter):C(Protocol)  0.135753   2.0  7.033376  0.001802\n",
      "Residual             0.579037  60.0       NaN       NaN\n",
      "------------------------------------------------------------------------------------------\n",
      "here\n",
      "acc ~ C(iter) + C(Protocol) + C(iter):C(Protocol)\n",
      "RoBERTa$_{\\rm{Lg+MNLI}}$ lexical_overlap\n",
      "                       sum_sq    df         F    PR(>F)\n",
      "C(iter)              0.011458   1.0  9.985577  0.002472\n",
      "C(Protocol)          0.012988   2.0  5.659477  0.005603\n",
      "C(iter):C(Protocol)  0.015671   2.0  6.828725  0.002128\n",
      "Residual             0.068845  60.0       NaN       NaN\n",
      "------------------------------------------------------------------------------------------\n",
      "here\n",
      "acc ~ C(iter) + C(Protocol) + C(iter):C(Protocol)\n",
      "RoBERTa$_{\\rm{Lg+MNLI}}$ subsequence\n",
      "                       sum_sq    df         F    PR(>F)\n",
      "C(iter)              0.007768   1.0  5.462319  0.022786\n",
      "C(Protocol)          0.009909   2.0  3.484065  0.037025\n",
      "C(iter):C(Protocol)  0.020281   2.0  7.130990  0.001665\n",
      "Residual             0.085321  60.0       NaN       NaN\n",
      "------------------------------------------------------------------------------------------\n"
     ]
    }
   ],
   "source": [
    "ylims={\n",
    "    'roberta-large':{\n",
    "        'constituent': [0.0, 0.6],\n",
    "        'lexical_overlap': [0.0, 0.8],\n",
    "        'subsequence': [0.0, 0.6],\n",
    "    },\n",
    "    'roberta-large-mnli':{\n",
    "        'constituent': [0.1, 0.5],\n",
    "        'lexical_overlap': [0.6, 1.0],\n",
    "        'subsequence': [0.1, 0.5],\n",
    "    },\n",
    "}\n",
    "title=f\"\"\n",
    "xlabel='Iteration'\n",
    "ylabel='HANS Non-Entailment'\n",
    "tabletitle='median'\n",
    "tableon=False\n",
    "\n",
    "bbox_to_anchor = (1.15, 1)\n",
    "\n",
    "hans_keys = pd.read_csv('hans_case_keys.csv')\n",
    "\n",
    "case2title = {\n",
    "    'constituent': 'Constituent',\n",
    "    'lexical_overlap': 'Lexical Overlap',\n",
    "    'subsequence': 'Subsequence',\n",
    "}\n",
    "\n",
    "i = 0\n",
    "for case in hans_keys['case'].unique():\n",
    "    if case == 'combined':\n",
    "        continue\n",
    "    \n",
    "    temp_df = plot_df.loc[plot_df['case'] == case, :]\n",
    "    err_line_plots(\n",
    "        temp_df,\n",
    "        err_style=err_style,\n",
    "        ylim=ylims[_model][case],\n",
    "        title=f\"{case2title[case]}\",\n",
    "        xlabel=xlabel,\n",
    "        ylabel=ylabel,\n",
    "        tabletitle=tabletitle,\n",
    "        palette=palette,\n",
    "        tableon=tableon,\n",
    "        style_key=style_key,\n",
    "        style_order=style_order,\n",
    "        ax=ax[1, i],\n",
    "        ylabel_visible = i == 0,\n",
    "        legend_visible = i == len(hans_keys['case'].unique()) - 2,\n",
    "        bbox_to_anchor=bbox_to_anchor,\n",
    "        err_kws=err_kws,\n",
    "        hue=hue,\n",
    "        hue_order=hue_order,\n",
    "        xlim=xlim,\n",
    "        ystep=0.2,\n",
    "        error_offsets=error_offsets,\n",
    "    )\n",
    "    \n",
    "    if _model == 'roberta-large-mnli':\n",
    "        temp_mnli = mnli_df.loc[mnli_df['case'] == case, :]\n",
    "        ax[1, i].hlines(temp_mnli['acc'], xlim[0], xlim[1], label='mnli-only', zorder=10)\n",
    "    \n",
    "    i += 1\n",
    "    \n",
    "    for model in models:\n",
    "        iter_df = temp_df.loc[temp_df['iter'].isin(iterations), :]\n",
    "        iter_df = iter_df.loc[iter_df['Model'] == model, :]\n",
    "        anova_table = two_way_anova(iter_df, f2='Protocol')\n",
    "\n",
    "        print(model, case)\n",
    "        print(anova_table)\n",
    "        print('-'*90)"
   ]
  },
  {
   "cell_type": "markdown",
   "metadata": {
    "hidden": true
   },
   "source": [
    "### Save"
   ]
  },
  {
   "cell_type": "code",
   "execution_count": 67,
   "metadata": {
    "hidden": true
   },
   "outputs": [],
   "source": [
    "fig.tight_layout()\n",
    "fig.subplots_adjust(wspace=2.5e-1)\n",
    "if save_figs:\n",
    "    fig.savefig(os.path.join(plot_out, f'{combined}_itereval.{figtype}'))"
   ]
  },
  {
   "cell_type": "markdown",
   "metadata": {
    "heading_collapsed": true
   },
   "source": [
    "## Combined Held-out"
   ]
  },
  {
   "cell_type": "code",
   "execution_count": 68,
   "metadata": {
    "hidden": true
   },
   "outputs": [
    {
     "data": {
      "application/vnd.jupyter.widget-view+json": {
       "model_id": "35241f48087749108f85e3aaff3d2a2d",
       "version_major": 2,
       "version_minor": 0
      },
      "text/plain": [
       "Canvas(toolbar=Toolbar(toolitems=[('Home', 'Reset original view', 'home', 'home'), ('Back', 'Back to previous …"
      ]
     },
     "metadata": {},
     "output_type": "display_data"
    },
    {
     "ename": "RuntimeError",
     "evalue": "libpng signaled error",
     "output_type": "error",
     "traceback": [
      "\u001b[1;31m---------------------------------------------------------------------------\u001b[0m",
      "\u001b[1;31mRuntimeError\u001b[0m                              Traceback (most recent call last)",
      "\u001b[1;32m~\\Anaconda3\\envs\\DL\\lib\\site-packages\\ipympl\\backend_nbagg.py\u001b[0m in \u001b[0;36m_handle_message\u001b[1;34m(self, object, content, buffers)\u001b[0m\n\u001b[0;32m    178\u001b[0m             \u001b[0mself\u001b[0m\u001b[1;33m.\u001b[0m\u001b[0mmanager\u001b[0m\u001b[1;33m.\u001b[0m\u001b[0mresize\u001b[0m\u001b[1;33m(\u001b[0m\u001b[0mw\u001b[0m\u001b[1;33m,\u001b[0m \u001b[0mh\u001b[0m\u001b[1;33m)\u001b[0m\u001b[1;33m\u001b[0m\u001b[1;33m\u001b[0m\u001b[0m\n\u001b[0;32m    179\u001b[0m         \u001b[1;32melse\u001b[0m\u001b[1;33m:\u001b[0m\u001b[1;33m\u001b[0m\u001b[1;33m\u001b[0m\u001b[0m\n\u001b[1;32m--> 180\u001b[1;33m             \u001b[0mself\u001b[0m\u001b[1;33m.\u001b[0m\u001b[0mmanager\u001b[0m\u001b[1;33m.\u001b[0m\u001b[0mhandle_json\u001b[0m\u001b[1;33m(\u001b[0m\u001b[0mcontent\u001b[0m\u001b[1;33m)\u001b[0m\u001b[1;33m\u001b[0m\u001b[1;33m\u001b[0m\u001b[0m\n\u001b[0m\u001b[0;32m    181\u001b[0m \u001b[1;33m\u001b[0m\u001b[0m\n\u001b[0;32m    182\u001b[0m     \u001b[1;32mdef\u001b[0m \u001b[0msend_json\u001b[0m\u001b[1;33m(\u001b[0m\u001b[0mself\u001b[0m\u001b[1;33m,\u001b[0m \u001b[0mcontent\u001b[0m\u001b[1;33m)\u001b[0m\u001b[1;33m:\u001b[0m\u001b[1;33m\u001b[0m\u001b[1;33m\u001b[0m\u001b[0m\n",
      "\u001b[1;32m~\\Anaconda3\\envs\\DL\\lib\\site-packages\\matplotlib\\backends\\backend_webagg_core.py\u001b[0m in \u001b[0;36mhandle_json\u001b[1;34m(self, content)\u001b[0m\n\u001b[0;32m    437\u001b[0m \u001b[1;33m\u001b[0m\u001b[0m\n\u001b[0;32m    438\u001b[0m     \u001b[1;32mdef\u001b[0m \u001b[0mhandle_json\u001b[0m\u001b[1;33m(\u001b[0m\u001b[0mself\u001b[0m\u001b[1;33m,\u001b[0m \u001b[0mcontent\u001b[0m\u001b[1;33m)\u001b[0m\u001b[1;33m:\u001b[0m\u001b[1;33m\u001b[0m\u001b[1;33m\u001b[0m\u001b[0m\n\u001b[1;32m--> 439\u001b[1;33m         \u001b[0mself\u001b[0m\u001b[1;33m.\u001b[0m\u001b[0mcanvas\u001b[0m\u001b[1;33m.\u001b[0m\u001b[0mhandle_event\u001b[0m\u001b[1;33m(\u001b[0m\u001b[0mcontent\u001b[0m\u001b[1;33m)\u001b[0m\u001b[1;33m\u001b[0m\u001b[1;33m\u001b[0m\u001b[0m\n\u001b[0m\u001b[0;32m    440\u001b[0m \u001b[1;33m\u001b[0m\u001b[0m\n\u001b[0;32m    441\u001b[0m     \u001b[1;32mdef\u001b[0m \u001b[0mrefresh_all\u001b[0m\u001b[1;33m(\u001b[0m\u001b[0mself\u001b[0m\u001b[1;33m)\u001b[0m\u001b[1;33m:\u001b[0m\u001b[1;33m\u001b[0m\u001b[1;33m\u001b[0m\u001b[0m\n",
      "\u001b[1;32m~\\Anaconda3\\envs\\DL\\lib\\site-packages\\matplotlib\\backends\\backend_webagg_core.py\u001b[0m in \u001b[0;36mhandle_event\u001b[1;34m(self, event)\u001b[0m\n\u001b[0;32m    238\u001b[0m         handler = getattr(self, 'handle_{0}'.format(e_type),\n\u001b[0;32m    239\u001b[0m                           self.handle_unknown_event)\n\u001b[1;32m--> 240\u001b[1;33m         \u001b[1;32mreturn\u001b[0m \u001b[0mhandler\u001b[0m\u001b[1;33m(\u001b[0m\u001b[0mevent\u001b[0m\u001b[1;33m)\u001b[0m\u001b[1;33m\u001b[0m\u001b[1;33m\u001b[0m\u001b[0m\n\u001b[0m\u001b[0;32m    241\u001b[0m \u001b[1;33m\u001b[0m\u001b[0m\n\u001b[0;32m    242\u001b[0m     \u001b[1;32mdef\u001b[0m \u001b[0mhandle_unknown_event\u001b[0m\u001b[1;33m(\u001b[0m\u001b[0mself\u001b[0m\u001b[1;33m,\u001b[0m \u001b[0mevent\u001b[0m\u001b[1;33m)\u001b[0m\u001b[1;33m:\u001b[0m\u001b[1;33m\u001b[0m\u001b[1;33m\u001b[0m\u001b[0m\n",
      "\u001b[1;32m~\\Anaconda3\\envs\\DL\\lib\\site-packages\\matplotlib\\backends\\backend_webagg_core.py\u001b[0m in \u001b[0;36mhandle_draw\u001b[1;34m(self, event)\u001b[0m\n\u001b[0;32m    254\u001b[0m \u001b[1;33m\u001b[0m\u001b[0m\n\u001b[0;32m    255\u001b[0m     \u001b[1;32mdef\u001b[0m \u001b[0mhandle_draw\u001b[0m\u001b[1;33m(\u001b[0m\u001b[0mself\u001b[0m\u001b[1;33m,\u001b[0m \u001b[0mevent\u001b[0m\u001b[1;33m)\u001b[0m\u001b[1;33m:\u001b[0m\u001b[1;33m\u001b[0m\u001b[1;33m\u001b[0m\u001b[0m\n\u001b[1;32m--> 256\u001b[1;33m         \u001b[0mself\u001b[0m\u001b[1;33m.\u001b[0m\u001b[0mdraw\u001b[0m\u001b[1;33m(\u001b[0m\u001b[1;33m)\u001b[0m\u001b[1;33m\u001b[0m\u001b[1;33m\u001b[0m\u001b[0m\n\u001b[0m\u001b[0;32m    257\u001b[0m \u001b[1;33m\u001b[0m\u001b[0m\n\u001b[0;32m    258\u001b[0m     \u001b[1;32mdef\u001b[0m \u001b[0m_handle_mouse\u001b[0m\u001b[1;33m(\u001b[0m\u001b[0mself\u001b[0m\u001b[1;33m,\u001b[0m \u001b[0mevent\u001b[0m\u001b[1;33m)\u001b[0m\u001b[1;33m:\u001b[0m\u001b[1;33m\u001b[0m\u001b[1;33m\u001b[0m\u001b[0m\n",
      "\u001b[1;32m~\\Anaconda3\\envs\\DL\\lib\\site-packages\\matplotlib\\backends\\backend_webagg_core.py\u001b[0m in \u001b[0;36mdraw\u001b[1;34m(self)\u001b[0m\n\u001b[0;32m    151\u001b[0m             \u001b[0msuper\u001b[0m\u001b[1;33m(\u001b[0m\u001b[1;33m)\u001b[0m\u001b[1;33m.\u001b[0m\u001b[0mdraw\u001b[0m\u001b[1;33m(\u001b[0m\u001b[1;33m)\u001b[0m\u001b[1;33m\u001b[0m\u001b[1;33m\u001b[0m\u001b[0m\n\u001b[0;32m    152\u001b[0m         \u001b[1;32mfinally\u001b[0m\u001b[1;33m:\u001b[0m\u001b[1;33m\u001b[0m\u001b[1;33m\u001b[0m\u001b[0m\n\u001b[1;32m--> 153\u001b[1;33m             \u001b[0mself\u001b[0m\u001b[1;33m.\u001b[0m\u001b[0mmanager\u001b[0m\u001b[1;33m.\u001b[0m\u001b[0mrefresh_all\u001b[0m\u001b[1;33m(\u001b[0m\u001b[1;33m)\u001b[0m  \u001b[1;31m# Swap the frames.\u001b[0m\u001b[1;33m\u001b[0m\u001b[1;33m\u001b[0m\u001b[0m\n\u001b[0m\u001b[0;32m    154\u001b[0m \u001b[1;33m\u001b[0m\u001b[0m\n\u001b[0;32m    155\u001b[0m     \u001b[1;32mdef\u001b[0m \u001b[0mdraw_idle\u001b[0m\u001b[1;33m(\u001b[0m\u001b[0mself\u001b[0m\u001b[1;33m)\u001b[0m\u001b[1;33m:\u001b[0m\u001b[1;33m\u001b[0m\u001b[1;33m\u001b[0m\u001b[0m\n",
      "\u001b[1;32m~\\Anaconda3\\envs\\DL\\lib\\site-packages\\matplotlib\\backends\\backend_webagg_core.py\u001b[0m in \u001b[0;36mrefresh_all\u001b[1;34m(self)\u001b[0m\n\u001b[0;32m    441\u001b[0m     \u001b[1;32mdef\u001b[0m \u001b[0mrefresh_all\u001b[0m\u001b[1;33m(\u001b[0m\u001b[0mself\u001b[0m\u001b[1;33m)\u001b[0m\u001b[1;33m:\u001b[0m\u001b[1;33m\u001b[0m\u001b[1;33m\u001b[0m\u001b[0m\n\u001b[0;32m    442\u001b[0m         \u001b[1;32mif\u001b[0m \u001b[0mself\u001b[0m\u001b[1;33m.\u001b[0m\u001b[0mweb_sockets\u001b[0m\u001b[1;33m:\u001b[0m\u001b[1;33m\u001b[0m\u001b[1;33m\u001b[0m\u001b[0m\n\u001b[1;32m--> 443\u001b[1;33m             \u001b[0mdiff\u001b[0m \u001b[1;33m=\u001b[0m \u001b[0mself\u001b[0m\u001b[1;33m.\u001b[0m\u001b[0mcanvas\u001b[0m\u001b[1;33m.\u001b[0m\u001b[0mget_diff_image\u001b[0m\u001b[1;33m(\u001b[0m\u001b[1;33m)\u001b[0m\u001b[1;33m\u001b[0m\u001b[1;33m\u001b[0m\u001b[0m\n\u001b[0m\u001b[0;32m    444\u001b[0m             \u001b[1;32mif\u001b[0m \u001b[0mdiff\u001b[0m \u001b[1;32mis\u001b[0m \u001b[1;32mnot\u001b[0m \u001b[1;32mNone\u001b[0m\u001b[1;33m:\u001b[0m\u001b[1;33m\u001b[0m\u001b[1;33m\u001b[0m\u001b[0m\n\u001b[0;32m    445\u001b[0m                 \u001b[1;32mfor\u001b[0m \u001b[0ms\u001b[0m \u001b[1;32min\u001b[0m \u001b[0mself\u001b[0m\u001b[1;33m.\u001b[0m\u001b[0mweb_sockets\u001b[0m\u001b[1;33m:\u001b[0m\u001b[1;33m\u001b[0m\u001b[1;33m\u001b[0m\u001b[0m\n",
      "\u001b[1;32m~\\Anaconda3\\envs\\DL\\lib\\site-packages\\matplotlib\\backends\\backend_webagg_core.py\u001b[0m in \u001b[0;36mget_diff_image\u001b[1;34m(self)\u001b[0m\n\u001b[0;32m    199\u001b[0m             buff = _png.write_png(\n\u001b[0;32m    200\u001b[0m                 \u001b[0moutput\u001b[0m\u001b[1;33m.\u001b[0m\u001b[0mview\u001b[0m\u001b[1;33m(\u001b[0m\u001b[0mdtype\u001b[0m\u001b[1;33m=\u001b[0m\u001b[0mnp\u001b[0m\u001b[1;33m.\u001b[0m\u001b[0muint8\u001b[0m\u001b[1;33m)\u001b[0m\u001b[1;33m.\u001b[0m\u001b[0mreshape\u001b[0m\u001b[1;33m(\u001b[0m\u001b[0moutput\u001b[0m\u001b[1;33m.\u001b[0m\u001b[0mshape\u001b[0m \u001b[1;33m+\u001b[0m \u001b[1;33m(\u001b[0m\u001b[1;36m4\u001b[0m\u001b[1;33m,\u001b[0m\u001b[1;33m)\u001b[0m\u001b[1;33m)\u001b[0m\u001b[1;33m,\u001b[0m\u001b[1;33m\u001b[0m\u001b[1;33m\u001b[0m\u001b[0m\n\u001b[1;32m--> 201\u001b[1;33m                 None, compression=6, filter=_png.PNG_FILTER_NONE)\n\u001b[0m\u001b[0;32m    202\u001b[0m \u001b[1;33m\u001b[0m\u001b[0m\n\u001b[0;32m    203\u001b[0m             \u001b[1;31m# Swap the renderer frames\u001b[0m\u001b[1;33m\u001b[0m\u001b[1;33m\u001b[0m\u001b[1;33m\u001b[0m\u001b[0m\n",
      "\u001b[1;31mRuntimeError\u001b[0m: libpng signaled error"
     ]
    }
   ],
   "source": [
    "figsize=(7, 5)\n",
    "fig, ax = plt.subplots(2, 1, figsize=figsize)"
   ]
  },
  {
   "cell_type": "code",
   "execution_count": 69,
   "metadata": {
    "hidden": true
   },
   "outputs": [],
   "source": [
    "iterations = [1, 5]\n",
    "models = style_order"
   ]
  },
  {
   "cell_type": "code",
   "execution_count": 70,
   "metadata": {
    "hidden": true
   },
   "outputs": [],
   "source": [
    "mnli_df = mnli_accs['mnlieval']"
   ]
  },
  {
   "cell_type": "code",
   "execution_count": 71,
   "metadata": {
    "hidden": true,
    "scrolled": true
   },
   "outputs": [
    {
     "name": "stdout",
     "output_type": "stream",
     "text": [
      "here\n",
      "acc ~ C(iter) + C(Protocol) + C(iter):C(Protocol)\n",
      "RoBERTa$_{\\rm{Lg+MNLI}}$ mnli\n",
      "                       sum_sq    df         F    PR(>F)\n",
      "C(iter)              0.000085   1.0  2.199839  0.143259\n",
      "C(Protocol)          0.000529   2.0  6.814260  0.002154\n",
      "C(iter):C(Protocol)  0.000407   2.0  5.239042  0.007997\n",
      "Residual             0.002328  60.0       NaN       NaN\n",
      "------------------------------------------------------------------------------------------\n",
      "here\n",
      "acc ~ C(iter) + C(Protocol) + C(iter):C(Protocol)\n",
      "RoBERTa$_{\\rm{Lg+MNLI}}$ anli\n",
      "                       sum_sq    df          F        PR(>F)\n",
      "C(iter)              0.003042   1.0  31.019940  6.347312e-07\n",
      "C(Protocol)          0.000254   2.0   1.295291  2.813634e-01\n",
      "C(iter):C(Protocol)  0.000071   2.0   0.360836  6.985954e-01\n",
      "Residual             0.005884  60.0        NaN           NaN\n",
      "------------------------------------------------------------------------------------------\n"
     ]
    }
   ],
   "source": [
    "ylims={\n",
    "    'roberta-large':{\n",
    "        'mnli':[0.6,0.9],\n",
    "        'anli':[0.2,0.5]\n",
    "    },\n",
    "    'roberta-large-mnli':{\n",
    "        'mnli':[0.8, 1.0],\n",
    "        'anli':[0.3, 0.4]\n",
    "    },\n",
    "}\n",
    "title=f\"\"\n",
    "xlabel='Iteration'\n",
    "ylabel='Accuracy'\n",
    "tabletitle='median'\n",
    "tableon=False\n",
    "\n",
    "bbox_to_anchor = (1.01, 1)\n",
    "\n",
    "case2title = {\n",
    "    'mnli': 'MNLI-mismatched',\n",
    "    'anli': 'ANLI',\n",
    "}\n",
    "\n",
    "i = 0\n",
    "for case, title_name in case2title.items():\n",
    "    plot_df = pd.read_csv(os.path.join(plot_dir, f'{case}.csv'))\n",
    "    plot_df = plot_df.loc[plot_df['comb'] == combined, :]\n",
    "    plot_df = plot_df.loc[plot_df['breakdown'] == 'combined', :]\n",
    "    mnli_df = mnli_accs[f'{case}eval']\n",
    "    \n",
    "    plot_df['model'] = plot_df['model'].apply(lambda x: model2plot[x])\n",
    "    plot_df['treat'] = plot_df['treat'].apply(lambda x: treat2plot[x])\n",
    "    plot_df = plot_df.rename(columns=cols2plot)\n",
    "    \n",
    "    err_line_plots(\n",
    "        plot_df,\n",
    "        err_style=err_style,\n",
    "        ylim=ylims[_model][case],\n",
    "        title=f\"{title_name}\",\n",
    "        xlabel=xlabel,\n",
    "        ylabel=ylabel,\n",
    "        tabletitle=tabletitle,\n",
    "        palette=palette,\n",
    "        tableon=tableon,\n",
    "        style_key=style_key,\n",
    "        style_order=style_order,\n",
    "        ax=ax[i],\n",
    "        xlabel_visible = i == 1,\n",
    "        legend_visible = i == 0,\n",
    "        bbox_to_anchor=bbox_to_anchor,\n",
    "        err_kws=err_kws,\n",
    "        hue=hue,\n",
    "        hue_order=hue_order,\n",
    "        xlim=xlim,\n",
    "        ystep=0.05 if _model == 'roberta-large-mnli' else 0.1,\n",
    "    )\n",
    "    \n",
    "    if _model == 'roberta-large-mnli':\n",
    "        ax[i].hlines(mnli_df['correct'].sum()/mnli_df.shape[0], xlim[0], xlim[1], label='mnli-only', zorder=10)\n",
    "    \n",
    "    i += 1\n",
    "    \n",
    "    for model in models:\n",
    "        iter_df = plot_df.loc[plot_df['iter'].isin(iterations), :]\n",
    "        iter_df = iter_df.loc[iter_df['Model'] == model, :]\n",
    "        anova_table = two_way_anova(iter_df, f2='Protocol')\n",
    "\n",
    "        print(model, case)\n",
    "        print(anova_table)\n",
    "        print('-'*90)\n",
    "\n",
    "# fig.tight_layout()\n",
    "# if save_figs:\n",
    "#     fig.savefig(os.path.join(plot_out, f'{combined}_heldout.{figtype}'))"
   ]
  },
  {
   "cell_type": "markdown",
   "metadata": {
    "hidden": true
   },
   "source": [
    "### Save"
   ]
  },
  {
   "cell_type": "code",
   "execution_count": 72,
   "metadata": {
    "hidden": true
   },
   "outputs": [],
   "source": [
    "fig.tight_layout()\n",
    "if save_figs:\n",
    "    fig.savefig(os.path.join(plot_out, f'{combined}_val.{figtype}'))"
   ]
  },
  {
   "cell_type": "markdown",
   "metadata": {
    "heading_collapsed": true
   },
   "source": [
    "## MNLI"
   ]
  },
  {
   "cell_type": "code",
   "execution_count": 73,
   "metadata": {
    "hidden": true
   },
   "outputs": [],
   "source": [
    "plot_df = pd.read_csv(os.path.join(plot_dir, 'mnli.csv'))"
   ]
  },
  {
   "cell_type": "code",
   "execution_count": 74,
   "metadata": {
    "hidden": true
   },
   "outputs": [],
   "source": [
    "mnli_df = mnli_accs['mnlieval']"
   ]
  },
  {
   "cell_type": "code",
   "execution_count": 75,
   "metadata": {
    "hidden": true
   },
   "outputs": [],
   "source": [
    "plot_df = plot_df.loc[plot_df['comb'] == combined, :]"
   ]
  },
  {
   "cell_type": "code",
   "execution_count": 76,
   "metadata": {
    "hidden": true
   },
   "outputs": [],
   "source": [
    "plot_df['model'] = plot_df['model'].apply(lambda x: model2plot[x])\n",
    "plot_df['treat'] = plot_df['treat'].apply(lambda x: treat2plot[x])\n",
    "plot_df = plot_df.rename(columns=cols2plot)"
   ]
  },
  {
   "cell_type": "code",
   "execution_count": 77,
   "metadata": {
    "hidden": true,
    "scrolled": false
   },
   "outputs": [
    {
     "data": {
      "application/vnd.jupyter.widget-view+json": {
       "model_id": "a2fdade4abf24101866b4e11bb73bbe1",
       "version_major": 2,
       "version_minor": 0
      },
      "text/plain": [
       "Canvas(toolbar=Toolbar(toolitems=[('Home', 'Reset original view', 'home', 'home'), ('Back', 'Back to previous …"
      ]
     },
     "metadata": {},
     "output_type": "display_data"
    },
    {
     "name": "stdout",
     "output_type": "stream",
     "text": [
      "here\n"
     ]
    },
    {
     "data": {
      "text/plain": [
       "<matplotlib.collections.LineCollection at 0x1e73c79fc08>"
      ]
     },
     "execution_count": 77,
     "metadata": {},
     "output_type": "execute_result"
    },
    {
     "ename": "RuntimeError",
     "evalue": "libpng signaled error",
     "output_type": "error",
     "traceback": [
      "\u001b[1;31m---------------------------------------------------------------------------\u001b[0m",
      "\u001b[1;31mRuntimeError\u001b[0m                              Traceback (most recent call last)",
      "\u001b[1;32m~\\Anaconda3\\envs\\DL\\lib\\site-packages\\ipympl\\backend_nbagg.py\u001b[0m in \u001b[0;36m_handle_message\u001b[1;34m(self, object, content, buffers)\u001b[0m\n\u001b[0;32m    178\u001b[0m             \u001b[0mself\u001b[0m\u001b[1;33m.\u001b[0m\u001b[0mmanager\u001b[0m\u001b[1;33m.\u001b[0m\u001b[0mresize\u001b[0m\u001b[1;33m(\u001b[0m\u001b[0mw\u001b[0m\u001b[1;33m,\u001b[0m \u001b[0mh\u001b[0m\u001b[1;33m)\u001b[0m\u001b[1;33m\u001b[0m\u001b[1;33m\u001b[0m\u001b[0m\n\u001b[0;32m    179\u001b[0m         \u001b[1;32melse\u001b[0m\u001b[1;33m:\u001b[0m\u001b[1;33m\u001b[0m\u001b[1;33m\u001b[0m\u001b[0m\n\u001b[1;32m--> 180\u001b[1;33m             \u001b[0mself\u001b[0m\u001b[1;33m.\u001b[0m\u001b[0mmanager\u001b[0m\u001b[1;33m.\u001b[0m\u001b[0mhandle_json\u001b[0m\u001b[1;33m(\u001b[0m\u001b[0mcontent\u001b[0m\u001b[1;33m)\u001b[0m\u001b[1;33m\u001b[0m\u001b[1;33m\u001b[0m\u001b[0m\n\u001b[0m\u001b[0;32m    181\u001b[0m \u001b[1;33m\u001b[0m\u001b[0m\n\u001b[0;32m    182\u001b[0m     \u001b[1;32mdef\u001b[0m \u001b[0msend_json\u001b[0m\u001b[1;33m(\u001b[0m\u001b[0mself\u001b[0m\u001b[1;33m,\u001b[0m \u001b[0mcontent\u001b[0m\u001b[1;33m)\u001b[0m\u001b[1;33m:\u001b[0m\u001b[1;33m\u001b[0m\u001b[1;33m\u001b[0m\u001b[0m\n",
      "\u001b[1;32m~\\Anaconda3\\envs\\DL\\lib\\site-packages\\matplotlib\\backends\\backend_webagg_core.py\u001b[0m in \u001b[0;36mhandle_json\u001b[1;34m(self, content)\u001b[0m\n\u001b[0;32m    437\u001b[0m \u001b[1;33m\u001b[0m\u001b[0m\n\u001b[0;32m    438\u001b[0m     \u001b[1;32mdef\u001b[0m \u001b[0mhandle_json\u001b[0m\u001b[1;33m(\u001b[0m\u001b[0mself\u001b[0m\u001b[1;33m,\u001b[0m \u001b[0mcontent\u001b[0m\u001b[1;33m)\u001b[0m\u001b[1;33m:\u001b[0m\u001b[1;33m\u001b[0m\u001b[1;33m\u001b[0m\u001b[0m\n\u001b[1;32m--> 439\u001b[1;33m         \u001b[0mself\u001b[0m\u001b[1;33m.\u001b[0m\u001b[0mcanvas\u001b[0m\u001b[1;33m.\u001b[0m\u001b[0mhandle_event\u001b[0m\u001b[1;33m(\u001b[0m\u001b[0mcontent\u001b[0m\u001b[1;33m)\u001b[0m\u001b[1;33m\u001b[0m\u001b[1;33m\u001b[0m\u001b[0m\n\u001b[0m\u001b[0;32m    440\u001b[0m \u001b[1;33m\u001b[0m\u001b[0m\n\u001b[0;32m    441\u001b[0m     \u001b[1;32mdef\u001b[0m \u001b[0mrefresh_all\u001b[0m\u001b[1;33m(\u001b[0m\u001b[0mself\u001b[0m\u001b[1;33m)\u001b[0m\u001b[1;33m:\u001b[0m\u001b[1;33m\u001b[0m\u001b[1;33m\u001b[0m\u001b[0m\n",
      "\u001b[1;32m~\\Anaconda3\\envs\\DL\\lib\\site-packages\\matplotlib\\backends\\backend_webagg_core.py\u001b[0m in \u001b[0;36mhandle_event\u001b[1;34m(self, event)\u001b[0m\n\u001b[0;32m    238\u001b[0m         handler = getattr(self, 'handle_{0}'.format(e_type),\n\u001b[0;32m    239\u001b[0m                           self.handle_unknown_event)\n\u001b[1;32m--> 240\u001b[1;33m         \u001b[1;32mreturn\u001b[0m \u001b[0mhandler\u001b[0m\u001b[1;33m(\u001b[0m\u001b[0mevent\u001b[0m\u001b[1;33m)\u001b[0m\u001b[1;33m\u001b[0m\u001b[1;33m\u001b[0m\u001b[0m\n\u001b[0m\u001b[0;32m    241\u001b[0m \u001b[1;33m\u001b[0m\u001b[0m\n\u001b[0;32m    242\u001b[0m     \u001b[1;32mdef\u001b[0m \u001b[0mhandle_unknown_event\u001b[0m\u001b[1;33m(\u001b[0m\u001b[0mself\u001b[0m\u001b[1;33m,\u001b[0m \u001b[0mevent\u001b[0m\u001b[1;33m)\u001b[0m\u001b[1;33m:\u001b[0m\u001b[1;33m\u001b[0m\u001b[1;33m\u001b[0m\u001b[0m\n",
      "\u001b[1;32m~\\Anaconda3\\envs\\DL\\lib\\site-packages\\matplotlib\\backends\\backend_webagg_core.py\u001b[0m in \u001b[0;36mhandle_draw\u001b[1;34m(self, event)\u001b[0m\n\u001b[0;32m    254\u001b[0m \u001b[1;33m\u001b[0m\u001b[0m\n\u001b[0;32m    255\u001b[0m     \u001b[1;32mdef\u001b[0m \u001b[0mhandle_draw\u001b[0m\u001b[1;33m(\u001b[0m\u001b[0mself\u001b[0m\u001b[1;33m,\u001b[0m \u001b[0mevent\u001b[0m\u001b[1;33m)\u001b[0m\u001b[1;33m:\u001b[0m\u001b[1;33m\u001b[0m\u001b[1;33m\u001b[0m\u001b[0m\n\u001b[1;32m--> 256\u001b[1;33m         \u001b[0mself\u001b[0m\u001b[1;33m.\u001b[0m\u001b[0mdraw\u001b[0m\u001b[1;33m(\u001b[0m\u001b[1;33m)\u001b[0m\u001b[1;33m\u001b[0m\u001b[1;33m\u001b[0m\u001b[0m\n\u001b[0m\u001b[0;32m    257\u001b[0m \u001b[1;33m\u001b[0m\u001b[0m\n\u001b[0;32m    258\u001b[0m     \u001b[1;32mdef\u001b[0m \u001b[0m_handle_mouse\u001b[0m\u001b[1;33m(\u001b[0m\u001b[0mself\u001b[0m\u001b[1;33m,\u001b[0m \u001b[0mevent\u001b[0m\u001b[1;33m)\u001b[0m\u001b[1;33m:\u001b[0m\u001b[1;33m\u001b[0m\u001b[1;33m\u001b[0m\u001b[0m\n",
      "\u001b[1;32m~\\Anaconda3\\envs\\DL\\lib\\site-packages\\matplotlib\\backends\\backend_webagg_core.py\u001b[0m in \u001b[0;36mdraw\u001b[1;34m(self)\u001b[0m\n\u001b[0;32m    151\u001b[0m             \u001b[0msuper\u001b[0m\u001b[1;33m(\u001b[0m\u001b[1;33m)\u001b[0m\u001b[1;33m.\u001b[0m\u001b[0mdraw\u001b[0m\u001b[1;33m(\u001b[0m\u001b[1;33m)\u001b[0m\u001b[1;33m\u001b[0m\u001b[1;33m\u001b[0m\u001b[0m\n\u001b[0;32m    152\u001b[0m         \u001b[1;32mfinally\u001b[0m\u001b[1;33m:\u001b[0m\u001b[1;33m\u001b[0m\u001b[1;33m\u001b[0m\u001b[0m\n\u001b[1;32m--> 153\u001b[1;33m             \u001b[0mself\u001b[0m\u001b[1;33m.\u001b[0m\u001b[0mmanager\u001b[0m\u001b[1;33m.\u001b[0m\u001b[0mrefresh_all\u001b[0m\u001b[1;33m(\u001b[0m\u001b[1;33m)\u001b[0m  \u001b[1;31m# Swap the frames.\u001b[0m\u001b[1;33m\u001b[0m\u001b[1;33m\u001b[0m\u001b[0m\n\u001b[0m\u001b[0;32m    154\u001b[0m \u001b[1;33m\u001b[0m\u001b[0m\n\u001b[0;32m    155\u001b[0m     \u001b[1;32mdef\u001b[0m \u001b[0mdraw_idle\u001b[0m\u001b[1;33m(\u001b[0m\u001b[0mself\u001b[0m\u001b[1;33m)\u001b[0m\u001b[1;33m:\u001b[0m\u001b[1;33m\u001b[0m\u001b[1;33m\u001b[0m\u001b[0m\n",
      "\u001b[1;32m~\\Anaconda3\\envs\\DL\\lib\\site-packages\\matplotlib\\backends\\backend_webagg_core.py\u001b[0m in \u001b[0;36mrefresh_all\u001b[1;34m(self)\u001b[0m\n\u001b[0;32m    441\u001b[0m     \u001b[1;32mdef\u001b[0m \u001b[0mrefresh_all\u001b[0m\u001b[1;33m(\u001b[0m\u001b[0mself\u001b[0m\u001b[1;33m)\u001b[0m\u001b[1;33m:\u001b[0m\u001b[1;33m\u001b[0m\u001b[1;33m\u001b[0m\u001b[0m\n\u001b[0;32m    442\u001b[0m         \u001b[1;32mif\u001b[0m \u001b[0mself\u001b[0m\u001b[1;33m.\u001b[0m\u001b[0mweb_sockets\u001b[0m\u001b[1;33m:\u001b[0m\u001b[1;33m\u001b[0m\u001b[1;33m\u001b[0m\u001b[0m\n\u001b[1;32m--> 443\u001b[1;33m             \u001b[0mdiff\u001b[0m \u001b[1;33m=\u001b[0m \u001b[0mself\u001b[0m\u001b[1;33m.\u001b[0m\u001b[0mcanvas\u001b[0m\u001b[1;33m.\u001b[0m\u001b[0mget_diff_image\u001b[0m\u001b[1;33m(\u001b[0m\u001b[1;33m)\u001b[0m\u001b[1;33m\u001b[0m\u001b[1;33m\u001b[0m\u001b[0m\n\u001b[0m\u001b[0;32m    444\u001b[0m             \u001b[1;32mif\u001b[0m \u001b[0mdiff\u001b[0m \u001b[1;32mis\u001b[0m \u001b[1;32mnot\u001b[0m \u001b[1;32mNone\u001b[0m\u001b[1;33m:\u001b[0m\u001b[1;33m\u001b[0m\u001b[1;33m\u001b[0m\u001b[0m\n\u001b[0;32m    445\u001b[0m                 \u001b[1;32mfor\u001b[0m \u001b[0ms\u001b[0m \u001b[1;32min\u001b[0m \u001b[0mself\u001b[0m\u001b[1;33m.\u001b[0m\u001b[0mweb_sockets\u001b[0m\u001b[1;33m:\u001b[0m\u001b[1;33m\u001b[0m\u001b[1;33m\u001b[0m\u001b[0m\n",
      "\u001b[1;32m~\\Anaconda3\\envs\\DL\\lib\\site-packages\\matplotlib\\backends\\backend_webagg_core.py\u001b[0m in \u001b[0;36mget_diff_image\u001b[1;34m(self)\u001b[0m\n\u001b[0;32m    199\u001b[0m             buff = _png.write_png(\n\u001b[0;32m    200\u001b[0m                 \u001b[0moutput\u001b[0m\u001b[1;33m.\u001b[0m\u001b[0mview\u001b[0m\u001b[1;33m(\u001b[0m\u001b[0mdtype\u001b[0m\u001b[1;33m=\u001b[0m\u001b[0mnp\u001b[0m\u001b[1;33m.\u001b[0m\u001b[0muint8\u001b[0m\u001b[1;33m)\u001b[0m\u001b[1;33m.\u001b[0m\u001b[0mreshape\u001b[0m\u001b[1;33m(\u001b[0m\u001b[0moutput\u001b[0m\u001b[1;33m.\u001b[0m\u001b[0mshape\u001b[0m \u001b[1;33m+\u001b[0m \u001b[1;33m(\u001b[0m\u001b[1;36m4\u001b[0m\u001b[1;33m,\u001b[0m\u001b[1;33m)\u001b[0m\u001b[1;33m)\u001b[0m\u001b[1;33m,\u001b[0m\u001b[1;33m\u001b[0m\u001b[1;33m\u001b[0m\u001b[0m\n\u001b[1;32m--> 201\u001b[1;33m                 None, compression=6, filter=_png.PNG_FILTER_NONE)\n\u001b[0m\u001b[0;32m    202\u001b[0m \u001b[1;33m\u001b[0m\u001b[0m\n\u001b[0;32m    203\u001b[0m             \u001b[1;31m# Swap the renderer frames\u001b[0m\u001b[1;33m\u001b[0m\u001b[1;33m\u001b[0m\u001b[1;33m\u001b[0m\u001b[0m\n",
      "\u001b[1;31mRuntimeError\u001b[0m: libpng signaled error"
     ]
    }
   ],
   "source": [
    "ylim=[.4,1]\n",
    "title=f'MNLI-mismatched'\n",
    "xlabel='Iteration'\n",
    "ylabel='Accuracy'\n",
    "tabletitle='Median'\n",
    "tableon=False\n",
    "\n",
    "fig = err_line_plots(\n",
    "    plot_df,\n",
    "    err_style=err_style,\n",
    "    ylim=ylim,\n",
    "    title=title,\n",
    "    xlabel=xlabel,\n",
    "    ylabel=ylabel,\n",
    "    tabletitle=tabletitle,\n",
    "    palette={\n",
    "        'baseline':'tab:blue',\n",
    "        'LotS':'tab:orange',\n",
    "        'LitL':'tab:green',\n",
    "    },\n",
    "    tableon=tableon,\n",
    "    style_key=style_key,\n",
    "    style_order=style_order,\n",
    "    err_kws=err_kws,\n",
    "    hue=hue,\n",
    "    hue_order=hue_order,\n",
    "    xlim=xlim,\n",
    ")\n",
    "\n",
    "plt.hlines(mnli_df['correct'].sum()/mnli_df.shape[0], xlim[0], xlim[1], label='mnli-only', zorder=10)\n",
    "\n",
    "# if save_figs:\n",
    "#     fig.savefig(os.path.join(plot_out, f'{combined}_mnli.{figtype}'))"
   ]
  },
  {
   "cell_type": "markdown",
   "metadata": {
    "heading_collapsed": true
   },
   "source": [
    "## ANLI"
   ]
  },
  {
   "cell_type": "markdown",
   "metadata": {
    "heading_collapsed": true,
    "hidden": true
   },
   "source": [
    "### All ANLI"
   ]
  },
  {
   "cell_type": "code",
   "execution_count": 78,
   "metadata": {
    "hidden": true
   },
   "outputs": [],
   "source": [
    "plot_df = pd.read_csv(os.path.join(plot_dir, 'anli.csv'))"
   ]
  },
  {
   "cell_type": "code",
   "execution_count": 79,
   "metadata": {
    "hidden": true
   },
   "outputs": [],
   "source": [
    "mnli_df = mnli_accs['anlieval']"
   ]
  },
  {
   "cell_type": "code",
   "execution_count": 80,
   "metadata": {
    "hidden": true
   },
   "outputs": [],
   "source": [
    "plot_df = plot_df.loc[plot_df['comb'] == combined, :]"
   ]
  },
  {
   "cell_type": "code",
   "execution_count": 81,
   "metadata": {
    "hidden": true
   },
   "outputs": [],
   "source": [
    "plot_df['model'] = plot_df['model'].apply(lambda x: model2plot[x])\n",
    "plot_df['treat'] = plot_df['treat'].apply(lambda x: treat2plot[x])\n",
    "plot_df = plot_df.rename(columns=cols2plot)"
   ]
  },
  {
   "cell_type": "code",
   "execution_count": 82,
   "metadata": {
    "hidden": true,
    "scrolled": false
   },
   "outputs": [
    {
     "data": {
      "application/vnd.jupyter.widget-view+json": {
       "model_id": "3c7b1f69aba04db7839b459cbf3676b1",
       "version_major": 2,
       "version_minor": 0
      },
      "text/plain": [
       "Canvas(toolbar=Toolbar(toolitems=[('Home', 'Reset original view', 'home', 'home'), ('Back', 'Back to previous …"
      ]
     },
     "metadata": {},
     "output_type": "display_data"
    },
    {
     "name": "stdout",
     "output_type": "stream",
     "text": [
      "here\n"
     ]
    },
    {
     "data": {
      "text/plain": [
       "<matplotlib.collections.LineCollection at 0x1e73f538f88>"
      ]
     },
     "execution_count": 82,
     "metadata": {},
     "output_type": "execute_result"
    },
    {
     "ename": "RuntimeError",
     "evalue": "libpng signaled error",
     "output_type": "error",
     "traceback": [
      "\u001b[1;31m---------------------------------------------------------------------------\u001b[0m",
      "\u001b[1;31mRuntimeError\u001b[0m                              Traceback (most recent call last)",
      "\u001b[1;32m~\\Anaconda3\\envs\\DL\\lib\\site-packages\\ipympl\\backend_nbagg.py\u001b[0m in \u001b[0;36m_handle_message\u001b[1;34m(self, object, content, buffers)\u001b[0m\n\u001b[0;32m    178\u001b[0m             \u001b[0mself\u001b[0m\u001b[1;33m.\u001b[0m\u001b[0mmanager\u001b[0m\u001b[1;33m.\u001b[0m\u001b[0mresize\u001b[0m\u001b[1;33m(\u001b[0m\u001b[0mw\u001b[0m\u001b[1;33m,\u001b[0m \u001b[0mh\u001b[0m\u001b[1;33m)\u001b[0m\u001b[1;33m\u001b[0m\u001b[1;33m\u001b[0m\u001b[0m\n\u001b[0;32m    179\u001b[0m         \u001b[1;32melse\u001b[0m\u001b[1;33m:\u001b[0m\u001b[1;33m\u001b[0m\u001b[1;33m\u001b[0m\u001b[0m\n\u001b[1;32m--> 180\u001b[1;33m             \u001b[0mself\u001b[0m\u001b[1;33m.\u001b[0m\u001b[0mmanager\u001b[0m\u001b[1;33m.\u001b[0m\u001b[0mhandle_json\u001b[0m\u001b[1;33m(\u001b[0m\u001b[0mcontent\u001b[0m\u001b[1;33m)\u001b[0m\u001b[1;33m\u001b[0m\u001b[1;33m\u001b[0m\u001b[0m\n\u001b[0m\u001b[0;32m    181\u001b[0m \u001b[1;33m\u001b[0m\u001b[0m\n\u001b[0;32m    182\u001b[0m     \u001b[1;32mdef\u001b[0m \u001b[0msend_json\u001b[0m\u001b[1;33m(\u001b[0m\u001b[0mself\u001b[0m\u001b[1;33m,\u001b[0m \u001b[0mcontent\u001b[0m\u001b[1;33m)\u001b[0m\u001b[1;33m:\u001b[0m\u001b[1;33m\u001b[0m\u001b[1;33m\u001b[0m\u001b[0m\n",
      "\u001b[1;32m~\\Anaconda3\\envs\\DL\\lib\\site-packages\\matplotlib\\backends\\backend_webagg_core.py\u001b[0m in \u001b[0;36mhandle_json\u001b[1;34m(self, content)\u001b[0m\n\u001b[0;32m    437\u001b[0m \u001b[1;33m\u001b[0m\u001b[0m\n\u001b[0;32m    438\u001b[0m     \u001b[1;32mdef\u001b[0m \u001b[0mhandle_json\u001b[0m\u001b[1;33m(\u001b[0m\u001b[0mself\u001b[0m\u001b[1;33m,\u001b[0m \u001b[0mcontent\u001b[0m\u001b[1;33m)\u001b[0m\u001b[1;33m:\u001b[0m\u001b[1;33m\u001b[0m\u001b[1;33m\u001b[0m\u001b[0m\n\u001b[1;32m--> 439\u001b[1;33m         \u001b[0mself\u001b[0m\u001b[1;33m.\u001b[0m\u001b[0mcanvas\u001b[0m\u001b[1;33m.\u001b[0m\u001b[0mhandle_event\u001b[0m\u001b[1;33m(\u001b[0m\u001b[0mcontent\u001b[0m\u001b[1;33m)\u001b[0m\u001b[1;33m\u001b[0m\u001b[1;33m\u001b[0m\u001b[0m\n\u001b[0m\u001b[0;32m    440\u001b[0m \u001b[1;33m\u001b[0m\u001b[0m\n\u001b[0;32m    441\u001b[0m     \u001b[1;32mdef\u001b[0m \u001b[0mrefresh_all\u001b[0m\u001b[1;33m(\u001b[0m\u001b[0mself\u001b[0m\u001b[1;33m)\u001b[0m\u001b[1;33m:\u001b[0m\u001b[1;33m\u001b[0m\u001b[1;33m\u001b[0m\u001b[0m\n",
      "\u001b[1;32m~\\Anaconda3\\envs\\DL\\lib\\site-packages\\matplotlib\\backends\\backend_webagg_core.py\u001b[0m in \u001b[0;36mhandle_event\u001b[1;34m(self, event)\u001b[0m\n\u001b[0;32m    238\u001b[0m         handler = getattr(self, 'handle_{0}'.format(e_type),\n\u001b[0;32m    239\u001b[0m                           self.handle_unknown_event)\n\u001b[1;32m--> 240\u001b[1;33m         \u001b[1;32mreturn\u001b[0m \u001b[0mhandler\u001b[0m\u001b[1;33m(\u001b[0m\u001b[0mevent\u001b[0m\u001b[1;33m)\u001b[0m\u001b[1;33m\u001b[0m\u001b[1;33m\u001b[0m\u001b[0m\n\u001b[0m\u001b[0;32m    241\u001b[0m \u001b[1;33m\u001b[0m\u001b[0m\n\u001b[0;32m    242\u001b[0m     \u001b[1;32mdef\u001b[0m \u001b[0mhandle_unknown_event\u001b[0m\u001b[1;33m(\u001b[0m\u001b[0mself\u001b[0m\u001b[1;33m,\u001b[0m \u001b[0mevent\u001b[0m\u001b[1;33m)\u001b[0m\u001b[1;33m:\u001b[0m\u001b[1;33m\u001b[0m\u001b[1;33m\u001b[0m\u001b[0m\n",
      "\u001b[1;32m~\\Anaconda3\\envs\\DL\\lib\\site-packages\\matplotlib\\backends\\backend_webagg_core.py\u001b[0m in \u001b[0;36mhandle_draw\u001b[1;34m(self, event)\u001b[0m\n\u001b[0;32m    254\u001b[0m \u001b[1;33m\u001b[0m\u001b[0m\n\u001b[0;32m    255\u001b[0m     \u001b[1;32mdef\u001b[0m \u001b[0mhandle_draw\u001b[0m\u001b[1;33m(\u001b[0m\u001b[0mself\u001b[0m\u001b[1;33m,\u001b[0m \u001b[0mevent\u001b[0m\u001b[1;33m)\u001b[0m\u001b[1;33m:\u001b[0m\u001b[1;33m\u001b[0m\u001b[1;33m\u001b[0m\u001b[0m\n\u001b[1;32m--> 256\u001b[1;33m         \u001b[0mself\u001b[0m\u001b[1;33m.\u001b[0m\u001b[0mdraw\u001b[0m\u001b[1;33m(\u001b[0m\u001b[1;33m)\u001b[0m\u001b[1;33m\u001b[0m\u001b[1;33m\u001b[0m\u001b[0m\n\u001b[0m\u001b[0;32m    257\u001b[0m \u001b[1;33m\u001b[0m\u001b[0m\n\u001b[0;32m    258\u001b[0m     \u001b[1;32mdef\u001b[0m \u001b[0m_handle_mouse\u001b[0m\u001b[1;33m(\u001b[0m\u001b[0mself\u001b[0m\u001b[1;33m,\u001b[0m \u001b[0mevent\u001b[0m\u001b[1;33m)\u001b[0m\u001b[1;33m:\u001b[0m\u001b[1;33m\u001b[0m\u001b[1;33m\u001b[0m\u001b[0m\n",
      "\u001b[1;32m~\\Anaconda3\\envs\\DL\\lib\\site-packages\\matplotlib\\backends\\backend_webagg_core.py\u001b[0m in \u001b[0;36mdraw\u001b[1;34m(self)\u001b[0m\n\u001b[0;32m    151\u001b[0m             \u001b[0msuper\u001b[0m\u001b[1;33m(\u001b[0m\u001b[1;33m)\u001b[0m\u001b[1;33m.\u001b[0m\u001b[0mdraw\u001b[0m\u001b[1;33m(\u001b[0m\u001b[1;33m)\u001b[0m\u001b[1;33m\u001b[0m\u001b[1;33m\u001b[0m\u001b[0m\n\u001b[0;32m    152\u001b[0m         \u001b[1;32mfinally\u001b[0m\u001b[1;33m:\u001b[0m\u001b[1;33m\u001b[0m\u001b[1;33m\u001b[0m\u001b[0m\n\u001b[1;32m--> 153\u001b[1;33m             \u001b[0mself\u001b[0m\u001b[1;33m.\u001b[0m\u001b[0mmanager\u001b[0m\u001b[1;33m.\u001b[0m\u001b[0mrefresh_all\u001b[0m\u001b[1;33m(\u001b[0m\u001b[1;33m)\u001b[0m  \u001b[1;31m# Swap the frames.\u001b[0m\u001b[1;33m\u001b[0m\u001b[1;33m\u001b[0m\u001b[0m\n\u001b[0m\u001b[0;32m    154\u001b[0m \u001b[1;33m\u001b[0m\u001b[0m\n\u001b[0;32m    155\u001b[0m     \u001b[1;32mdef\u001b[0m \u001b[0mdraw_idle\u001b[0m\u001b[1;33m(\u001b[0m\u001b[0mself\u001b[0m\u001b[1;33m)\u001b[0m\u001b[1;33m:\u001b[0m\u001b[1;33m\u001b[0m\u001b[1;33m\u001b[0m\u001b[0m\n",
      "\u001b[1;32m~\\Anaconda3\\envs\\DL\\lib\\site-packages\\matplotlib\\backends\\backend_webagg_core.py\u001b[0m in \u001b[0;36mrefresh_all\u001b[1;34m(self)\u001b[0m\n\u001b[0;32m    441\u001b[0m     \u001b[1;32mdef\u001b[0m \u001b[0mrefresh_all\u001b[0m\u001b[1;33m(\u001b[0m\u001b[0mself\u001b[0m\u001b[1;33m)\u001b[0m\u001b[1;33m:\u001b[0m\u001b[1;33m\u001b[0m\u001b[1;33m\u001b[0m\u001b[0m\n\u001b[0;32m    442\u001b[0m         \u001b[1;32mif\u001b[0m \u001b[0mself\u001b[0m\u001b[1;33m.\u001b[0m\u001b[0mweb_sockets\u001b[0m\u001b[1;33m:\u001b[0m\u001b[1;33m\u001b[0m\u001b[1;33m\u001b[0m\u001b[0m\n\u001b[1;32m--> 443\u001b[1;33m             \u001b[0mdiff\u001b[0m \u001b[1;33m=\u001b[0m \u001b[0mself\u001b[0m\u001b[1;33m.\u001b[0m\u001b[0mcanvas\u001b[0m\u001b[1;33m.\u001b[0m\u001b[0mget_diff_image\u001b[0m\u001b[1;33m(\u001b[0m\u001b[1;33m)\u001b[0m\u001b[1;33m\u001b[0m\u001b[1;33m\u001b[0m\u001b[0m\n\u001b[0m\u001b[0;32m    444\u001b[0m             \u001b[1;32mif\u001b[0m \u001b[0mdiff\u001b[0m \u001b[1;32mis\u001b[0m \u001b[1;32mnot\u001b[0m \u001b[1;32mNone\u001b[0m\u001b[1;33m:\u001b[0m\u001b[1;33m\u001b[0m\u001b[1;33m\u001b[0m\u001b[0m\n\u001b[0;32m    445\u001b[0m                 \u001b[1;32mfor\u001b[0m \u001b[0ms\u001b[0m \u001b[1;32min\u001b[0m \u001b[0mself\u001b[0m\u001b[1;33m.\u001b[0m\u001b[0mweb_sockets\u001b[0m\u001b[1;33m:\u001b[0m\u001b[1;33m\u001b[0m\u001b[1;33m\u001b[0m\u001b[0m\n",
      "\u001b[1;32m~\\Anaconda3\\envs\\DL\\lib\\site-packages\\matplotlib\\backends\\backend_webagg_core.py\u001b[0m in \u001b[0;36mget_diff_image\u001b[1;34m(self)\u001b[0m\n\u001b[0;32m    199\u001b[0m             buff = _png.write_png(\n\u001b[0;32m    200\u001b[0m                 \u001b[0moutput\u001b[0m\u001b[1;33m.\u001b[0m\u001b[0mview\u001b[0m\u001b[1;33m(\u001b[0m\u001b[0mdtype\u001b[0m\u001b[1;33m=\u001b[0m\u001b[0mnp\u001b[0m\u001b[1;33m.\u001b[0m\u001b[0muint8\u001b[0m\u001b[1;33m)\u001b[0m\u001b[1;33m.\u001b[0m\u001b[0mreshape\u001b[0m\u001b[1;33m(\u001b[0m\u001b[0moutput\u001b[0m\u001b[1;33m.\u001b[0m\u001b[0mshape\u001b[0m \u001b[1;33m+\u001b[0m \u001b[1;33m(\u001b[0m\u001b[1;36m4\u001b[0m\u001b[1;33m,\u001b[0m\u001b[1;33m)\u001b[0m\u001b[1;33m)\u001b[0m\u001b[1;33m,\u001b[0m\u001b[1;33m\u001b[0m\u001b[1;33m\u001b[0m\u001b[0m\n\u001b[1;32m--> 201\u001b[1;33m                 None, compression=6, filter=_png.PNG_FILTER_NONE)\n\u001b[0m\u001b[0;32m    202\u001b[0m \u001b[1;33m\u001b[0m\u001b[0m\n\u001b[0;32m    203\u001b[0m             \u001b[1;31m# Swap the renderer frames\u001b[0m\u001b[1;33m\u001b[0m\u001b[1;33m\u001b[0m\u001b[1;33m\u001b[0m\u001b[0m\n",
      "\u001b[1;31mRuntimeError\u001b[0m: libpng signaled error"
     ]
    }
   ],
   "source": [
    "ylim=[0,0.6]\n",
    "title=f'ANLI'\n",
    "xlabel='Iteration'\n",
    "ylabel='Accuracy'\n",
    "tabletitle='Median'\n",
    "tableon=False\n",
    "\n",
    "fig = err_line_plots(\n",
    "    plot_df,\n",
    "    err_style=err_style,\n",
    "    ylim=ylim,\n",
    "    title=title,\n",
    "    xlabel=xlabel,\n",
    "    ylabel=ylabel,\n",
    "    tabletitle=tabletitle,\n",
    "    palette={\n",
    "        'baseline':'tab:blue',\n",
    "        'LotS':'tab:orange',\n",
    "        'LitL':'tab:green',\n",
    "    },\n",
    "    tableon=tableon,\n",
    "    style_key=style_key,\n",
    "    style_order=style_order,\n",
    "    legend_visible=False,\n",
    "    err_kws=err_kws,\n",
    "    hue=hue,\n",
    "    hue_order=hue_order,\n",
    "    xlim=xlim,\n",
    ")\n",
    "\n",
    "plt.hlines(mnli_df['correct'].sum()/mnli_df.shape[0], xlim[0], xlim[1], label='mnli-only', zorder=10)\n",
    "\n",
    "# if save_figs:\n",
    "#     fig.savefig(os.path.join(plot_out, f'{combined}_anli.{figtype}'))"
   ]
  },
  {
   "cell_type": "markdown",
   "metadata": {
    "hidden": true
   },
   "source": [
    "### Breakdown"
   ]
  },
  {
   "cell_type": "code",
   "execution_count": 83,
   "metadata": {
    "hidden": true
   },
   "outputs": [],
   "source": [
    "anli_l_offset = -0\n",
    "anli_c_offset = +0.075"
   ]
  },
  {
   "cell_type": "markdown",
   "metadata": {
    "hidden": true
   },
   "source": [
    "error_offsets = [\n",
    "    {\n",
    "        'line':-(err_line_offset+anli_l_offset),\n",
    "        'cap':-(err_cap_offset+anli_c_offset),\n",
    "    },\n",
    "    {\n",
    "        'line':-(err_line_offset+anli_l_offset),\n",
    "        'cap':-(err_cap_offset+anli_c_offset),\n",
    "    },\n",
    "    {\n",
    "        'line':0,\n",
    "        'cap':0,\n",
    "    },\n",
    "    {\n",
    "        'line':0,\n",
    "        'cap':0,\n",
    "    },\n",
    "    {\n",
    "        'line':+(err_line_offset+anli_l_offset),\n",
    "        'cap':+(err_cap_offset+anli_c_offset),\n",
    "    },\n",
    "    {\n",
    "        'line':+(err_line_offset+anli_l_offset),\n",
    "        'cap':+(err_cap_offset+anli_c_offset),\n",
    "    }\n",
    "    \n",
    "    ]"
   ]
  },
  {
   "cell_type": "code",
   "execution_count": 84,
   "metadata": {
    "hidden": true
   },
   "outputs": [],
   "source": [
    "error_offsets = [\n",
    "    {\n",
    "        'line':-(err_line_offset+anli_l_offset),\n",
    "        'cap':-(err_cap_offset+anli_c_offset),\n",
    "    },\n",
    "    {\n",
    "        'line':0,\n",
    "        'cap':0,\n",
    "    },\n",
    "    {\n",
    "        'line':+(err_line_offset+anli_l_offset),\n",
    "        'cap':+(err_cap_offset+anli_c_offset),\n",
    "    },\n",
    "    ]"
   ]
  },
  {
   "cell_type": "code",
   "execution_count": 85,
   "metadata": {
    "hidden": true
   },
   "outputs": [],
   "source": [
    "anli_plot_out = os.path.join(repo, 'eval_summary', 'plots')\n",
    "anli_style_order=[\n",
    "    r'RoBERTa$_{\\rm{Lg}}$', \n",
    "    r'RoBERTa$_{\\rm{Lg+MNLI}}$'\n",
    "]"
   ]
  },
  {
   "cell_type": "code",
   "execution_count": 86,
   "metadata": {
    "hidden": true,
    "scrolled": true
   },
   "outputs": [],
   "source": [
    "plot_df = pd.read_csv(os.path.join(plot_dir, 'anli.csv'))"
   ]
  },
  {
   "cell_type": "code",
   "execution_count": 87,
   "metadata": {
    "hidden": true
   },
   "outputs": [],
   "source": [
    "breakdowns = [\n",
    "        'combined',\n",
    "        'Basic',\n",
    "#         'EventCoref',\n",
    "        'Imperfection',\n",
    "        'Numerical',\n",
    "        'Reasoning',\n",
    "        'Reference',\n",
    "        'Tricky',\n",
    "    ]"
   ]
  },
  {
   "cell_type": "code",
   "execution_count": 88,
   "metadata": {
    "hidden": true
   },
   "outputs": [],
   "source": [
    "mnli_df = mnli_accs['anlieval']"
   ]
  },
  {
   "cell_type": "code",
   "execution_count": 89,
   "metadata": {
    "hidden": true
   },
   "outputs": [],
   "source": [
    "repo_up = os.path.dirname(repo)\n",
    "anli_annot_fname = os.path.join(repo_up, 'anli_annot_v0.2_combined_A1A2')\n",
    "anli_annot = joblib.load(anli_annot_fname)"
   ]
  },
  {
   "cell_type": "code",
   "execution_count": 90,
   "metadata": {
    "hidden": true
   },
   "outputs": [],
   "source": [
    "def get_anli_breakdown_acc(pred_df, anli_annot, breakdown):\n",
    "    temp1 = anli_annot[['uid', breakdown]]\n",
    "    temp2 = pred_df[['uid', 'correct']]\n",
    "    \n",
    "    \n",
    "#     temp1['uid'], temp2['uid'] = temp1['uid'].astype(str), temp2['uid'].astype(str)\n",
    "#     temp1[breakdown] = temp1[breakdown].astype(str)\n",
    "#     temp2['correct'] = temp2['correct'].astype(str)    \n",
    "    temp = temp1.merge(temp2, on='uid')\n",
    "    temp = temp.loc[temp[breakdown].ne('none'), :]\n",
    "    return temp['correct'].sum()/temp.shape[0]"
   ]
  },
  {
   "cell_type": "code",
   "execution_count": 91,
   "metadata": {
    "hidden": true
   },
   "outputs": [],
   "source": [
    "plot_df = plot_df.loc[plot_df['comb'] == combined, :]"
   ]
  },
  {
   "cell_type": "code",
   "execution_count": 92,
   "metadata": {
    "hidden": true
   },
   "outputs": [],
   "source": [
    "plot_df['model'] = plot_df['model'].apply(lambda x: model2plot[x])\n",
    "plot_df['treat'] = plot_df['treat'].apply(lambda x: treat2plot[x])\n",
    "plot_df = plot_df.rename(columns=cols2plot)"
   ]
  },
  {
   "cell_type": "code",
   "execution_count": 93,
   "metadata": {
    "hidden": true,
    "scrolled": false
   },
   "outputs": [],
   "source": [
    "if _model == 'roberta-large':\n",
    "    ylim=[0.25,0.4]\n",
    "    title=f\"\"\n",
    "    xlabel='Iteration'\n",
    "    ylabel='Accuracy'\n",
    "    tabletitle='median'\n",
    "    tableon=False\n",
    "\n",
    "    bbox_to_anchor = (1.01, 1)\n",
    "    figsize=(15, 6)\n",
    "\n",
    "    fig, ax = plt.subplots(2, len(breakdowns) - 1, figsize=figsize)\n",
    "\n",
    "    i = 0\n",
    "    for anli_model in anli_style_order:\n",
    "        temp_df = plot_df.loc[plot_df['Model'] == anli_model, :]\n",
    "        for case in breakdowns:\n",
    "            if case == 'combined':\n",
    "                continue\n",
    "            \n",
    "            print(i // (len(breakdowns) - 1), i % (len(breakdowns) - 1))\n",
    "            temp_ax = ax[i // (len(breakdowns) - 1), i%(len(breakdowns) - 1)]\n",
    "            temptemp_df = temp_df.loc[temp_df['breakdown'] == case, :]\n",
    "            err_line_plots(\n",
    "                temptemp_df,\n",
    "                err_style=err_style,\n",
    "                ylim=ylim,\n",
    "                title=f\"{case}\",\n",
    "                xlabel=xlabel,\n",
    "                ylabel=anli_model,\n",
    "                tabletitle=tabletitle,\n",
    "                palette=palette,\n",
    "                tableon=tableon,\n",
    "                style_key=style_key,\n",
    "                style_order=[anli_model],\n",
    "                ax=temp_ax,\n",
    "                yaxis_visible = i % (len(breakdowns) - 1) == 0,\n",
    "                legend_visible = i == len(breakdowns) - 2,\n",
    "                xlabel_visible = i // (len(breakdowns) - 1) == 1,\n",
    "                bbox_to_anchor=bbox_to_anchor,\n",
    "                err_kws=err_kws,\n",
    "                hue=hue,\n",
    "                hue_order=hue_order,\n",
    "                xlim=xlim,\n",
    "                error_offsets=error_offsets,\n",
    "                ystep=0.05,\n",
    "            )\n",
    "\n",
    "            temp_ax.hlines(get_anli_breakdown_acc(mnli_df, anli_annot, case), xlim[0], xlim[1], label='mnli-only', zorder=10)    \n",
    "\n",
    "            i += 1\n",
    "\n",
    "    fig.tight_layout()\n",
    "    if save_figs:\n",
    "        print(os.path.dirname(plot_out))\n",
    "        fig.savefig(os.path.join(os.path.dirname(plot_out), f'{combined}_anli_breakdown.{figtype}'))"
   ]
  },
  {
   "cell_type": "markdown",
   "metadata": {},
   "source": [
    "## HANS Entailment"
   ]
  },
  {
   "cell_type": "code",
   "execution_count": 380,
   "metadata": {},
   "outputs": [],
   "source": [
    "iterations = [1, 5]\n",
    "models = style_order\n",
    "iter_l_offset = -0.75 if _model == 'roberta-large' else -1.75\n",
    "iter_c_offset = +0.02"
   ]
  },
  {
   "cell_type": "code",
   "execution_count": 381,
   "metadata": {},
   "outputs": [],
   "source": [
    "error_offsets = [\n",
    "        {\n",
    "            'line':-(err_line_offset+iter_l_offset),\n",
    "            'cap':-(err_cap_offset+iter_c_offset),\n",
    "        },\n",
    "        {\n",
    "            'line':0,\n",
    "            'cap':0,\n",
    "        },\n",
    "        {\n",
    "            'line':+(err_line_offset+iter_l_offset),\n",
    "            'cap':+(err_cap_offset+iter_c_offset),\n",
    "        }\n",
    "    ]"
   ]
  },
  {
   "cell_type": "code",
   "execution_count": 382,
   "metadata": {},
   "outputs": [],
   "source": [
    "title_fontsize=16\n",
    "label_fontsize=14\n",
    "legend_fontsize=12"
   ]
  },
  {
   "cell_type": "code",
   "execution_count": 383,
   "metadata": {
    "scrolled": false
   },
   "outputs": [
    {
     "data": {
      "application/vnd.jupyter.widget-view+json": {
       "model_id": "b27804bba4fc4a0c9877a4b49a2180a6",
       "version_major": 2,
       "version_minor": 0
      },
      "text/plain": [
       "Canvas(toolbar=Toolbar(toolitems=[('Home', 'Reset original view', 'home', 'home'), ('Back', 'Back to previous …"
      ]
     },
     "metadata": {},
     "output_type": "display_data"
    }
   ],
   "source": [
    "figsize = (15, 5)\n",
    "fig, ax = plt.subplots(2, 3, figsize=figsize)"
   ]
  },
  {
   "cell_type": "markdown",
   "metadata": {
    "heading_collapsed": true
   },
   "source": [
    "### RoBERTa HANS Entailment"
   ]
  },
  {
   "cell_type": "markdown",
   "metadata": {
    "heading_collapsed": true,
    "hidden": true
   },
   "source": [
    "#### Read Data"
   ]
  },
  {
   "cell_type": "code",
   "execution_count": 384,
   "metadata": {
    "hidden": true
   },
   "outputs": [],
   "source": [
    "combined = 'combined'\n",
    "_model = 'roberta-large'"
   ]
  },
  {
   "cell_type": "code",
   "execution_count": 385,
   "metadata": {
    "hidden": true
   },
   "outputs": [],
   "source": [
    "repo = os.path.dirname(os.path.dirname(os.path.abspath('__file__')))\n",
    "plot_dir = os.path.join(repo, 'eval_summary', 'plot_data')\n",
    "plot_out = os.path.join(repo, 'eval_summary', 'plots', _model)\n",
    "os.makedirs(plot_out, exist_ok=True)"
   ]
  },
  {
   "cell_type": "code",
   "execution_count": 386,
   "metadata": {
    "hidden": true
   },
   "outputs": [],
   "source": [
    "acc_name = 'Performance'\n",
    "diff_name = 'Over Baseline'"
   ]
  },
  {
   "cell_type": "code",
   "execution_count": 387,
   "metadata": {
    "hidden": true
   },
   "outputs": [],
   "source": [
    "save_figs = True\n",
    "figtype='pdf'\n",
    "\n",
    "err_style='bars' # band or bars\n",
    "err_kws={'elinewidth': 2, 'capsize': 3}\n",
    "\n",
    "err_line_offset = 4 if _model == 'roberta-large' else 5\n",
    "err_cap_offset = 0.05\n"
   ]
  },
  {
   "cell_type": "code",
   "execution_count": 388,
   "metadata": {
    "hidden": true
   },
   "outputs": [],
   "source": [
    "cols2plot = {'treat':'Protocol', 'model':'Model'}\n",
    "treat2plot = {'baseline':'Baseline', 'LotS':'LitL', 'LitL':'LitL Chat'}\n",
    "model2plot = {'roberta-large': r'RoBERTa$_{\\rm{Lg}}$', 'roberta-large-mnli': r'RoBERTa$_{\\rm{Lg+MNLI}}$'}\n",
    "\n",
    "hue='Protocol'\n",
    "hue_order=['Baseline', 'LitL', 'LitL Chat']\n",
    "style_key='Model'\n",
    "style_order=[\n",
    "    model2plot[_model]\n",
    "]\n",
    "\n",
    "palette={\n",
    "        'baseline':'tab:blue',\n",
    "        'LitL':'tab:orange',\n",
    "        'LitL Chat':'tab:green',\n",
    "    }\n",
    "\n",
    "xlim = [0.8, 5.2]"
   ]
  },
  {
   "cell_type": "code",
   "execution_count": 389,
   "metadata": {
    "hidden": true
   },
   "outputs": [],
   "source": [
    "with open(os.path.join(plot_dir, 'mnli-only-training_accs.p'), 'rb') as f:\n",
    "    mnli_accs = pickle.load(f)"
   ]
  },
  {
   "cell_type": "markdown",
   "metadata": {
    "hidden": true
   },
   "source": [
    "#### Plot"
   ]
  },
  {
   "cell_type": "code",
   "execution_count": 390,
   "metadata": {
    "hidden": true
   },
   "outputs": [],
   "source": [
    "iterations = [1, 5]\n",
    "models = style_order\n",
    "iter_l_offset = -0.75 if _model == 'roberta-large' else -1.75\n",
    "iter_c_offset = +0.02"
   ]
  },
  {
   "cell_type": "code",
   "execution_count": 391,
   "metadata": {
    "hidden": true
   },
   "outputs": [],
   "source": [
    "error_offsets = [\n",
    "        {\n",
    "            'line':-(err_line_offset+iter_l_offset),\n",
    "            'cap':-(err_cap_offset+iter_c_offset),\n",
    "        },\n",
    "        {\n",
    "            'line':0,\n",
    "            'cap':0,\n",
    "        },\n",
    "        {\n",
    "            'line':+(err_line_offset+iter_l_offset),\n",
    "            'cap':+(err_cap_offset+iter_c_offset),\n",
    "        }\n",
    "    ]"
   ]
  },
  {
   "cell_type": "code",
   "execution_count": 392,
   "metadata": {
    "hidden": true,
    "scrolled": true
   },
   "outputs": [
    {
     "name": "stderr",
     "output_type": "stream",
     "text": [
      "C:\\Users\\Willi\\Anaconda3\\envs\\DL\\lib\\site-packages\\IPython\\core\\interactiveshell.py:3063: DtypeWarning: Columns (6,10) have mixed types.Specify dtype option on import or set low_memory=False.\n",
      "  interactivity=interactivity, compiler=compiler, result=result)\n"
     ]
    }
   ],
   "source": [
    "plot_df = pd.read_csv(os.path.join(plot_dir, 'hans.csv'))"
   ]
  },
  {
   "cell_type": "code",
   "execution_count": 393,
   "metadata": {
    "hidden": true,
    "scrolled": true
   },
   "outputs": [],
   "source": [
    "mnli_collected = []\n",
    "temp_df = mnli_accs['hans']\n",
    "temp_df['case_text'] = temp_df['case']\n",
    "\n",
    "for case in temp_df['case_text'].unique():\n",
    "    temp_acc = temp_df.loc[temp_df['case_text'] == case, :]\n",
    "    mnli_collected.append({\n",
    "        'acc': temp_acc['correct'].sum()/temp_acc.shape[0],\n",
    "        'subcase': 'combined',\n",
    "        'label': 'combined',\n",
    "        'model': 'mnli-only',\n",
    "        'case': case,\n",
    "    })\n",
    "    \n",
    "    for label in temp_acc['label'].unique():\n",
    "        temptemp_acc = temp_acc.loc[temp_acc['label'] == label, :]\n",
    "        mnli_collected.append({\n",
    "            'acc': temptemp_acc['correct'].sum()/temptemp_acc.shape[0],\n",
    "            'subcase': 'combined',\n",
    "            'label': 'non-entailment' if label == 'contradiction' else label,\n",
    "            'model': 'mnli-only',\n",
    "            'case': case,\n",
    "        })\n",
    "mnli_df = pd.DataFrame(mnli_collected)"
   ]
  },
  {
   "cell_type": "code",
   "execution_count": 394,
   "metadata": {
    "hidden": true
   },
   "outputs": [],
   "source": [
    "label = 'entailment'\n",
    "\n",
    "plot_dff = plot_df.loc[plot_df['comb'] == combined, :]\n",
    "plot_dff = plot_dff.loc[plot_dff['label'] == label, :]\n",
    "plot_dff = plot_dff.loc[plot_dff['subcase'] == 'combined', :]"
   ]
  },
  {
   "cell_type": "code",
   "execution_count": 395,
   "metadata": {
    "hidden": true
   },
   "outputs": [],
   "source": [
    "mnli_df = mnli_df.loc[mnli_df['label'] == label, :]\n",
    "mnli_df = mnli_df.loc[mnli_df['subcase'] == 'combined', :]"
   ]
  },
  {
   "cell_type": "code",
   "execution_count": 396,
   "metadata": {
    "hidden": true
   },
   "outputs": [],
   "source": [
    "plot_dff['model'] = plot_dff['model'].apply(lambda x: model2plot[x])\n",
    "plot_dff['treat'] = plot_dff['treat'].apply(lambda x: treat2plot[x])\n",
    "plot_dff = plot_dff.rename(columns=cols2plot)"
   ]
  },
  {
   "cell_type": "code",
   "execution_count": 397,
   "metadata": {
    "hidden": true,
    "scrolled": true
   },
   "outputs": [
    {
     "name": "stdout",
     "output_type": "stream",
     "text": [
      "here\n",
      "acc ~ C(iter) + C(Protocol) + C(iter):C(Protocol)\n",
      "RoBERTa$_{\\rm{Lg}}$ constituent\n",
      "                       sum_sq    df         F    PR(>F)\n",
      "C(iter)              0.063998   1.0  2.175201  0.145479\n",
      "C(Protocol)          0.020829   2.0  0.353979  0.703346\n",
      "C(iter):C(Protocol)  0.020775   2.0  0.353062  0.703983\n",
      "Residual             1.765290  60.0       NaN       NaN\n",
      "------------------------------------------------------------------------------------------\n",
      "here\n",
      "acc ~ C(iter) + C(Protocol) + C(iter):C(Protocol)\n",
      "RoBERTa$_{\\rm{Lg}}$ lexical_overlap\n",
      "                       sum_sq    df         F    PR(>F)\n",
      "C(iter)              0.052475   1.0  1.745497  0.191460\n",
      "C(Protocol)          0.020630   2.0  0.343109  0.710944\n",
      "C(iter):C(Protocol)  0.026087   2.0  0.433871  0.650013\n",
      "Residual             1.803769  60.0       NaN       NaN\n",
      "------------------------------------------------------------------------------------------\n",
      "here\n",
      "acc ~ C(iter) + C(Protocol) + C(iter):C(Protocol)\n",
      "RoBERTa$_{\\rm{Lg}}$ subsequence\n",
      "                       sum_sq    df         F    PR(>F)\n",
      "C(iter)              0.044387   1.0  1.471280  0.229898\n",
      "C(Protocol)          0.033026   2.0  0.547337  0.581349\n",
      "C(iter):C(Protocol)  0.016709   2.0  0.276925  0.759075\n",
      "Residual             1.810158  60.0       NaN       NaN\n",
      "------------------------------------------------------------------------------------------\n"
     ]
    }
   ],
   "source": [
    "ylims={\n",
    "    'roberta-large':{\n",
    "        'constituent': [0.6, 1.05],\n",
    "        'lexical_overlap': [0.6, 1.05],\n",
    "        'subsequence': [0.6, 1.05],\n",
    "    },\n",
    "    'roberta-large-mnli':{\n",
    "        'constituent': [0.6, 1.05],\n",
    "        'lexical_overlap': [0.6, 1.05],\n",
    "        'subsequence': [0.6, 1.05],\n",
    "    },\n",
    "}\n",
    "title=f\"\"\n",
    "xlabel='Iteration'\n",
    "ylabel= r'RoBERTa$_{\\rm{Lg}}$'\n",
    "tabletitle='median'\n",
    "tableon=False\n",
    "\n",
    "bbox_to_anchor = (1.055, 1)\n",
    "\n",
    "hans_keys = pd.read_csv('hans_case_keys.csv')\n",
    "\n",
    "case2title = {\n",
    "    'constituent': 'Constituent',\n",
    "    'lexical_overlap': 'Lexical Overlap',\n",
    "    'subsequence': 'Subsequence',\n",
    "}\n",
    "\n",
    "i = 0\n",
    "for case in hans_keys['case'].unique():\n",
    "    if case == 'combined':\n",
    "        continue\n",
    "    \n",
    "    temp_df = plot_dff.loc[plot_dff['case'] == case, :]\n",
    "    err_line_plots(\n",
    "        temp_df,\n",
    "        err_style=err_style,\n",
    "        ylim=ylims[_model][case],\n",
    "        title=f\"{case2title[case]}\",\n",
    "        xlabel=xlabel,\n",
    "        ylabel=ylabel,\n",
    "        tabletitle=tabletitle,\n",
    "        palette=palette,\n",
    "        tableon=tableon,\n",
    "        style_key=style_key,\n",
    "        style_order=style_order,\n",
    "        ax=ax[0, i],\n",
    "        ylabel_visible = i == 0,\n",
    "        legend_visible = False,\n",
    "        bbox_to_anchor=bbox_to_anchor,\n",
    "        err_kws=err_kws,\n",
    "        hue=hue,\n",
    "        hue_order=hue_order,\n",
    "        xlim=xlim,\n",
    "        ystep=0.2,\n",
    "        error_offsets=error_offsets,\n",
    "    )\n",
    "    \n",
    "    if _model == 'roberta-large-mnli':\n",
    "        temp_mnli = mnli_df.loc[mnli_df['case'] == case, :]\n",
    "        ax[1, i].hlines(temp_mnli['acc'], xlim[0], xlim[1], label='mnli-only', zorder=10)\n",
    "    \n",
    "    i += 1\n",
    "    \n",
    "    for model in models:\n",
    "        iter_df = temp_df.loc[temp_df['iter'].isin(iterations), :]\n",
    "        iter_df = iter_df.loc[iter_df['Model'] == model, :]\n",
    "        anova_table = two_way_anova(iter_df, f2='Protocol')\n",
    "\n",
    "        print(model, case)\n",
    "        print(anova_table)\n",
    "        print('-'*90)"
   ]
  },
  {
   "cell_type": "markdown",
   "metadata": {},
   "source": [
    "### RoBERTa MNLI HANS Entailment"
   ]
  },
  {
   "cell_type": "markdown",
   "metadata": {
    "heading_collapsed": true
   },
   "source": [
    "#### Read Data"
   ]
  },
  {
   "cell_type": "code",
   "execution_count": 398,
   "metadata": {
    "hidden": true
   },
   "outputs": [],
   "source": [
    "combined = 'combined'\n",
    "_model = 'roberta-large-mnli'"
   ]
  },
  {
   "cell_type": "code",
   "execution_count": 399,
   "metadata": {
    "hidden": true
   },
   "outputs": [],
   "source": [
    "repo = os.path.dirname(os.path.dirname(os.path.abspath('__file__')))\n",
    "plot_dir = os.path.join(repo, 'eval_summary', 'plot_data')\n",
    "plot_out = os.path.join(repo, 'eval_summary', 'plots', _model)\n",
    "os.makedirs(plot_out, exist_ok=True)"
   ]
  },
  {
   "cell_type": "code",
   "execution_count": 400,
   "metadata": {
    "hidden": true
   },
   "outputs": [],
   "source": [
    "acc_name = 'Performance'\n",
    "diff_name = 'Over Baseline'"
   ]
  },
  {
   "cell_type": "code",
   "execution_count": 401,
   "metadata": {
    "hidden": true
   },
   "outputs": [],
   "source": [
    "save_figs = True\n",
    "figtype='pdf'\n",
    "\n",
    "err_style='bars' # band or bars\n",
    "err_kws={'elinewidth': 2, 'capsize': 3}\n",
    "\n",
    "err_line_offset = 4 if _model == 'roberta-large' else 5\n",
    "err_cap_offset = 0.05\n"
   ]
  },
  {
   "cell_type": "code",
   "execution_count": 402,
   "metadata": {
    "hidden": true
   },
   "outputs": [],
   "source": [
    "cols2plot = {'treat':'Protocol', 'model':'Model'}\n",
    "treat2plot = {'baseline':'Baseline', 'LotS':'LitL', 'LitL':'LitL Chat'}\n",
    "model2plot = {'roberta-large': r'RoBERTa$_{\\rm{Lg}}$', 'roberta-large-mnli': r'RoBERTa$_{\\rm{Lg+MNLI}}$'}\n",
    "\n",
    "hue='Protocol'\n",
    "hue_order=['Baseline', 'LitL', 'LitL Chat']\n",
    "style_key='Model'\n",
    "style_order=[\n",
    "    model2plot[_model]\n",
    "]\n",
    "\n",
    "palette={\n",
    "        'baseline':'tab:blue',\n",
    "        'LitL':'tab:orange',\n",
    "        'LitL Chat':'tab:green',\n",
    "    }\n",
    "\n",
    "xlim = [0.8, 5.2]"
   ]
  },
  {
   "cell_type": "code",
   "execution_count": 403,
   "metadata": {
    "hidden": true
   },
   "outputs": [],
   "source": [
    "with open(os.path.join(plot_dir, 'mnli-only-training_accs.p'), 'rb') as f:\n",
    "    mnli_accs = pickle.load(f)"
   ]
  },
  {
   "cell_type": "markdown",
   "metadata": {},
   "source": [
    "#### Plot"
   ]
  },
  {
   "cell_type": "code",
   "execution_count": 404,
   "metadata": {},
   "outputs": [],
   "source": [
    "iterations = [1, 5]\n",
    "models = style_order\n",
    "iter_l_offset = -0.75 if _model == 'roberta-large' else -1.75\n",
    "iter_c_offset = +0.02"
   ]
  },
  {
   "cell_type": "code",
   "execution_count": 405,
   "metadata": {},
   "outputs": [],
   "source": [
    "error_offsets = [\n",
    "        {\n",
    "            'line':-(err_line_offset+iter_l_offset),\n",
    "            'cap':-(err_cap_offset+iter_c_offset),\n",
    "        },\n",
    "        {\n",
    "            'line':0,\n",
    "            'cap':0,\n",
    "        },\n",
    "        {\n",
    "            'line':+(err_line_offset+iter_l_offset),\n",
    "            'cap':+(err_cap_offset+iter_c_offset),\n",
    "        }\n",
    "    ]"
   ]
  },
  {
   "cell_type": "code",
   "execution_count": 406,
   "metadata": {
    "scrolled": true
   },
   "outputs": [
    {
     "name": "stderr",
     "output_type": "stream",
     "text": [
      "C:\\Users\\Willi\\Anaconda3\\envs\\DL\\lib\\site-packages\\IPython\\core\\interactiveshell.py:3063: DtypeWarning: Columns (6,10) have mixed types.Specify dtype option on import or set low_memory=False.\n",
      "  interactivity=interactivity, compiler=compiler, result=result)\n"
     ]
    }
   ],
   "source": [
    "plot_df = pd.read_csv(os.path.join(plot_dir, 'hans.csv'))"
   ]
  },
  {
   "cell_type": "code",
   "execution_count": 407,
   "metadata": {
    "scrolled": true
   },
   "outputs": [],
   "source": [
    "mnli_collected = []\n",
    "temp_df = mnli_accs['hans']\n",
    "temp_df['case_text'] = temp_df['case']\n",
    "\n",
    "for case in temp_df['case_text'].unique():\n",
    "    temp_acc = temp_df.loc[temp_df['case_text'] == case, :]\n",
    "    mnli_collected.append({\n",
    "        'acc': temp_acc['correct'].sum()/temp_acc.shape[0],\n",
    "        'subcase': 'combined',\n",
    "        'label': 'combined',\n",
    "        'model': 'mnli-only',\n",
    "        'case': case,\n",
    "    })\n",
    "    \n",
    "    for label in temp_acc['label'].unique():\n",
    "        temptemp_acc = temp_acc.loc[temp_acc['label'] == label, :]\n",
    "        mnli_collected.append({\n",
    "            'acc': temptemp_acc['correct'].sum()/temptemp_acc.shape[0],\n",
    "            'subcase': 'combined',\n",
    "            'label': 'non-entailment' if label == 'contradiction' else label,\n",
    "            'model': 'mnli-only',\n",
    "            'case': case,\n",
    "        })\n",
    "mnli_df = pd.DataFrame(mnli_collected)"
   ]
  },
  {
   "cell_type": "code",
   "execution_count": 408,
   "metadata": {},
   "outputs": [],
   "source": [
    "label = 'entailment'\n",
    "\n",
    "plot_dff = plot_df.loc[plot_df['comb'] == combined, :]\n",
    "plot_dff = plot_dff.loc[plot_dff['label'] == label, :]\n",
    "plot_dff = plot_dff.loc[plot_dff['subcase'] == 'combined', :]"
   ]
  },
  {
   "cell_type": "code",
   "execution_count": 409,
   "metadata": {},
   "outputs": [],
   "source": [
    "mnli_df = mnli_df.loc[mnli_df['label'] == label, :]\n",
    "mnli_df = mnli_df.loc[mnli_df['subcase'] == 'combined', :]"
   ]
  },
  {
   "cell_type": "code",
   "execution_count": 410,
   "metadata": {},
   "outputs": [],
   "source": [
    "plot_dff['model'] = plot_dff['model'].apply(lambda x: model2plot[x])\n",
    "plot_dff['treat'] = plot_dff['treat'].apply(lambda x: treat2plot[x])\n",
    "plot_dff = plot_dff.rename(columns=cols2plot)"
   ]
  },
  {
   "cell_type": "code",
   "execution_count": 411,
   "metadata": {
    "scrolled": true
   },
   "outputs": [
    {
     "name": "stdout",
     "output_type": "stream",
     "text": [
      "here\n",
      "acc ~ C(iter) + C(Protocol) + C(iter):C(Protocol)\n",
      "RoBERTa$_{\\rm{Lg+MNLI}}$ constituent\n",
      "                           sum_sq    df          F        PR(>F)\n",
      "C(iter)              7.333333e-08   1.0   0.007216  9.325869e-01\n",
      "C(Protocol)          3.824085e-04   2.0  18.814153  4.542187e-07\n",
      "C(iter):C(Protocol)  1.688885e-04   2.0   8.309161  6.524667e-04\n",
      "Residual             6.097673e-04  60.0        NaN           NaN\n",
      "------------------------------------------------------------------------------------------\n",
      "here\n",
      "acc ~ C(iter) + C(Protocol) + C(iter):C(Protocol)\n",
      "RoBERTa$_{\\rm{Lg+MNLI}}$ lexical_overlap\n",
      "                       sum_sq    df         F    PR(>F)\n",
      "C(iter)              0.000053   1.0  2.268828  0.137247\n",
      "C(Protocol)          0.000109   2.0  2.342036  0.104862\n",
      "C(iter):C(Protocol)  0.000007   2.0  0.142687  0.867319\n",
      "Residual             0.001395  60.0       NaN       NaN\n",
      "------------------------------------------------------------------------------------------\n",
      "here\n",
      "acc ~ C(iter) + C(Protocol) + C(iter):C(Protocol)\n",
      "RoBERTa$_{\\rm{Lg+MNLI}}$ subsequence\n",
      "                       sum_sq    df         F    PR(>F)\n",
      "C(iter)              0.000005   1.0  0.770350  0.383610\n",
      "C(Protocol)          0.000023   2.0  1.941397  0.152412\n",
      "C(iter):C(Protocol)  0.000006   2.0  0.463798  0.631126\n",
      "Residual             0.000357  60.0       NaN       NaN\n",
      "------------------------------------------------------------------------------------------\n"
     ]
    }
   ],
   "source": [
    "ylims={\n",
    "    'roberta-large':{\n",
    "        'constituent': [0.6, 1.05],\n",
    "        'lexical_overlap': [0.6, 1.05],\n",
    "        'subsequence': [0.6, 1.05],\n",
    "    },\n",
    "    'roberta-large-mnli':{\n",
    "        'constituent': [0.6, 1.05],\n",
    "        'lexical_overlap': [0.6, 1.05],\n",
    "        'subsequence': [0.6, 1.05],\n",
    "    },\n",
    "}\n",
    "title=f\"\"\n",
    "xlabel='Iteration'\n",
    "ylabel=r'RoBERTa$_{\\rm{Lg+MNLI}}$'\n",
    "tabletitle='median'\n",
    "tableon=False\n",
    "\n",
    "bbox_to_anchor = (-.75, -1)\n",
    "\n",
    "hans_keys = pd.read_csv('hans_case_keys.csv')\n",
    "\n",
    "case2title = {\n",
    "    'constituent': 'Constituent',\n",
    "    'lexical_overlap': 'Lexical Overlap',\n",
    "    'subsequence': 'Subsequence',\n",
    "}\n",
    "\n",
    "i = 0\n",
    "for case in hans_keys['case'].unique():\n",
    "    if case == 'combined':\n",
    "        continue\n",
    "    \n",
    "    temp_df = plot_dff.loc[plot_dff['case'] == case, :]\n",
    "    err_line_plots(\n",
    "        temp_df,\n",
    "        err_style=err_style,\n",
    "        ylim=ylims[_model][case],\n",
    "        title=f\"{case2title[case]}\",\n",
    "        xlabel=xlabel,\n",
    "        ylabel=ylabel,\n",
    "        tabletitle=tabletitle,\n",
    "        palette=palette,\n",
    "        tableon=tableon,\n",
    "        style_key=style_key,\n",
    "        style_order=style_order,\n",
    "        ax=ax[1, i],\n",
    "        ylabel_visible = i == 0,\n",
    "        legend_visible = i == len(hans_keys['case'].unique())-2,\n",
    "        loc='lower center',\n",
    "        ncol=len(hans_keys['case'].unique()),\n",
    "        bbox_to_anchor=bbox_to_anchor,\n",
    "        err_kws=err_kws,\n",
    "        hue=hue,\n",
    "        hue_order=hue_order,\n",
    "        xlim=xlim,\n",
    "        ystep=0.2,\n",
    "        error_offsets=error_offsets,\n",
    "    )\n",
    "    \n",
    "    if _model == 'roberta-large-mnli':\n",
    "        temp_mnli = mnli_df.loc[mnli_df['case'] == case, :]\n",
    "        ax[1, i].hlines(temp_mnli['acc'], xlim[0], xlim[1], label='mnli-only', zorder=10)\n",
    "    \n",
    "    i += 1\n",
    "    \n",
    "    for model in models:\n",
    "        iter_df = temp_df.loc[temp_df['iter'].isin(iterations), :]\n",
    "        iter_df = iter_df.loc[iter_df['Model'] == model, :]\n",
    "        anova_table = two_way_anova(iter_df, f2='Protocol')\n",
    "\n",
    "        print(model, case)\n",
    "        print(anova_table)\n",
    "        print('-'*90)"
   ]
  },
  {
   "cell_type": "markdown",
   "metadata": {},
   "source": [
    "### Save"
   ]
  },
  {
   "cell_type": "code",
   "execution_count": 412,
   "metadata": {},
   "outputs": [],
   "source": [
    "plot_out = os.path.join(repo, 'eval_summary', 'plots', 'HANS_entailment')\n",
    "os.makedirs(plot_out, exist_ok=True)"
   ]
  },
  {
   "cell_type": "code",
   "execution_count": 413,
   "metadata": {},
   "outputs": [],
   "source": [
    "fig.tight_layout()\n",
    "fig.subplots_adjust(wspace=2e-1)\n",
    "if save_figs:\n",
    "    fig.savefig(os.path.join(plot_out, f'{combined}_HANS_entailment.pdf'))"
   ]
  }
 ],
 "metadata": {
  "kernelspec": {
   "display_name": "DL",
   "language": "python",
   "name": "dl"
  },
  "language_info": {
   "codemirror_mode": {
    "name": "ipython",
    "version": 3
   },
   "file_extension": ".py",
   "mimetype": "text/x-python",
   "name": "python",
   "nbconvert_exporter": "python",
   "pygments_lexer": "ipython3",
   "version": "3.7.9"
  }
 },
 "nbformat": 4,
 "nbformat_minor": 4
}
