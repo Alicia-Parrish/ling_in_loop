{
 "cells": [
  {
   "cell_type": "markdown",
   "metadata": {},
   "source": [
    "# Import"
   ]
  },
  {
   "cell_type": "code",
   "execution_count": 1,
   "metadata": {},
   "outputs": [],
   "source": [
    "import os\n",
    "import json\n",
    "import pandas as pd\n",
    "import numpy as np\n",
    "import shutil"
   ]
  },
  {
   "cell_type": "markdown",
   "metadata": {},
   "source": [
    "# Define"
   ]
  },
  {
   "cell_type": "code",
   "execution_count": 2,
   "metadata": {},
   "outputs": [],
   "source": [
    "def parse_fname(file, split_by='_'):\n",
    "    fname = file.split('.')[0]\n",
    "    fname_list = fname.split(split_by)\n",
    "    \n",
    "    iteration = fname_list[1][-1]\n",
    "    comb = '_separate' if len(fname_list) == 3 else ''\n",
    "    \n",
    "    return iteration, comb, fname"
   ]
  },
  {
   "cell_type": "code",
   "execution_count": 3,
   "metadata": {},
   "outputs": [],
   "source": [
    "def read_examples(fname):\n",
    "    with open(fname, 'r') as f:\n",
    "        return [json.loads(ex) for ex in f]\n",
    "\n",
    "def get_files_by_type(fdir, ftype='.jsonl', start='train'):\n",
    "    all_files = next(os.walk(fdir))[2]\n",
    "    \n",
    "    return [file for file in all_files if file.endswith(ftype) and file.startswith(start)]\n",
    "\n",
    "def write_jsonl(df, fname):\n",
    "    with open(fname, 'w') as f:\n",
    "        for idx, row in df.iterrows():\n",
    "            f.write(f'{json.dumps(row.to_dict())}\\n')"
   ]
  },
  {
   "cell_type": "code",
   "execution_count": 4,
   "metadata": {},
   "outputs": [],
   "source": [
    "def cross_val(df, leave_p=0.1, sort_by='AnonId', iteration=None):\n",
    "    rows, cols = df.shape\n",
    "#     print(rows)\n",
    "    \n",
    "    if sort_by is None:\n",
    "        df_sorted = df\n",
    "    else:\n",
    "        df_sorted = df.sort_values(sort_by, ignore_index=True)\n",
    "    \n",
    "    sampled = []\n",
    "    step = int(leave_p*rows)\n",
    "    prev = 0\n",
    "    stop = rows+step if rows%step == 0 else rows\n",
    "    for split in np.arange(step, stop, step):\n",
    "        sampled.append(pd.concat([\n",
    "            df_sorted.iloc[:prev, :],\n",
    "            df_sorted.iloc[split:, :]\n",
    "        ]))\n",
    "#         if not iteration is None and int(iteration) == 2:\n",
    "#             print(prev, split)\n",
    "        \n",
    "        prev = split\n",
    "        \n",
    "#         print(sampled[-1].shape[0])\n",
    "    \n",
    "    return sampled"
   ]
  },
  {
   "cell_type": "markdown",
   "metadata": {},
   "source": [
    "# Run"
   ]
  },
  {
   "cell_type": "code",
   "execution_count": 5,
   "metadata": {},
   "outputs": [],
   "source": [
    "repo = os.path.dirname(os.path.dirname(os.path.abspath('__file__')))\n",
    "data = os.path.join(repo, 'NLI_data')\n",
    "out_base = os.path.join(repo, 'tasks', 'data')\n",
    "treats = {\n",
    "    '1_Baseline_protocol': 'baseline', \n",
    "    '2_Ling_on_side_protocol': 'LotS', \n",
    "    '3_Ling_in_loop_protocol': 'LitL',\n",
    "}\n",
    "rounds = range(1,6)"
   ]
  },
  {
   "cell_type": "markdown",
   "metadata": {},
   "source": [
    "## Explore Examples by Annotator"
   ]
  },
  {
   "cell_type": "code",
   "execution_count": 6,
   "metadata": {},
   "outputs": [],
   "source": [
    "iteration = 5\n",
    "\n",
    "datasets = {}\n",
    "for fbase, treat in treats.items():\n",
    "    datasets[treat] = pd.DataFrame(read_examples(os.path.join(data, fbase, f'train_round{iteration}_{treat}_combined.jsonl')))"
   ]
  },
  {
   "cell_type": "code",
   "execution_count": 21,
   "metadata": {},
   "outputs": [
    {
     "name": "stderr",
     "output_type": "stream",
     "text": [
      "C:\\Users\\Willi\\Anaconda3\\envs\\DL\\lib\\site-packages\\ipykernel_launcher.py:11: SettingWithCopyWarning: \n",
      "A value is trying to be set on a copy of a slice from a DataFrame.\n",
      "Try using .loc[row_indexer,col_indexer] = value instead\n",
      "\n",
      "See the caveats in the documentation: https://pandas.pydata.org/pandas-docs/stable/user_guide/indexing.html#returning-a-view-versus-a-copy\n",
      "  # This is added back by InteractiveShellApp.init_path()\n"
     ]
    }
   ],
   "source": [
    "keeps = ['AnonId', 'round', 'heuristic', 'heuristic_checked']\n",
    "\n",
    "for treat, dataset in datasets.items():\n",
    "    keeps = ['AnonId', 'round']\n",
    "    grouping = ['round', 'AnonId']\n",
    "    if treat != 'baseline':\n",
    "        keeps.extend(['heuristic', 'heuristic_checked'])\n",
    "        grouping.extend(['heuristic', 'heuristic_checked'])\n",
    "    \n",
    "    temp = dataset[keeps]\n",
    "    temp['counts'] = 1\n",
    "    \n",
    "    grouped = temp.groupby(grouping).count()\n",
    "    grouped.to_csv(os.path.join(repo, 'eval_summary', 'annotator_counts', f'{treat}.csv'))\n"
   ]
  },
  {
   "cell_type": "markdown",
   "metadata": {},
   "source": [
    "## Sample"
   ]
  },
  {
   "cell_type": "code",
   "execution_count": 6,
   "metadata": {},
   "outputs": [],
   "source": [
    "leave_p = 0.1\n",
    "sort_by = 'AnonId'"
   ]
  },
  {
   "cell_type": "code",
   "execution_count": 7,
   "metadata": {},
   "outputs": [],
   "source": [
    "overwrite = True"
   ]
  },
  {
   "cell_type": "code",
   "execution_count": 8,
   "metadata": {},
   "outputs": [],
   "source": [
    "for treat_in, treat_out in treats.items():\n",
    "    treat_dir = os.path.join(data, treat_in)    \n",
    "    files = get_files_by_type(treat_dir)\n",
    "    \n",
    "    for file in files:\n",
    "        iteration, comb, fname = parse_fname(file)\n",
    "        \n",
    "        run_dir = os.path.join(out_base, f'{treat_out}_{iteration}{comb}')\n",
    "        cross_dir = os.path.join(run_dir, 'cross_eval')\n",
    "        if overwrite and os.path.exists(cross_dir):\n",
    "            shutil.rmtree(cross_dir)\n",
    "\n",
    "        samples = cross_val(\n",
    "            pd.DataFrame(read_examples(os.path.join(treat_dir, file))),\n",
    "            leave_p=leave_p,\n",
    "            sort_by=sort_by,\n",
    "            iteration=iteration\n",
    "        )\n",
    "\n",
    "        for idx, sample in enumerate(samples):\n",
    "            out_dir = os.path.join(cross_dir, f'{(idx+1)*leave_p:.1f}')\n",
    "            os.makedirs(out_dir, exist_ok=True)\n",
    "\n",
    "            write_jsonl(sample, os.path.join(out_dir, file))"
   ]
  }
 ],
 "metadata": {
  "kernelspec": {
   "display_name": "DL",
   "language": "python",
   "name": "dl"
  },
  "language_info": {
   "codemirror_mode": {
    "name": "ipython",
    "version": 3
   },
   "file_extension": ".py",
   "mimetype": "text/x-python",
   "name": "python",
   "nbconvert_exporter": "python",
   "pygments_lexer": "ipython3",
   "version": "3.7.9"
  }
 },
 "nbformat": 4,
 "nbformat_minor": 4
}
